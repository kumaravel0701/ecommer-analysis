{
  "cells": [
    {
      "cell_type": "code",
      "execution_count": 15,
      "id": "41975f44",
      "metadata": {
        "_cell_guid": "b1076dfc-b9ad-4769-8c92-a6c4dae69d19",
        "_uuid": "8f2839f25d086af736a60e9eeb907d3b93b6e0e5",
        "execution": {
          "iopub.execute_input": "2023-02-06T06:33:18.335028Z",
          "iopub.status.busy": "2023-02-06T06:33:18.333542Z",
          "iopub.status.idle": "2023-02-06T06:33:19.572438Z",
          "shell.execute_reply": "2023-02-06T06:33:19.570935Z"
        },
        "papermill": {
          "duration": 1.256104,
          "end_time": "2023-02-06T06:33:19.576231",
          "exception": false,
          "start_time": "2023-02-06T06:33:18.320127",
          "status": "completed"
        },
        "tags": [],
        "id": "41975f44"
      },
      "outputs": [],
      "source": [
        "import numpy as np # linear algebra\n",
        "import pandas as pd # data processing, CSV file I/O (e.g. pd.read_csv)\n",
        "import matplotlib.pyplot as plt\n",
        "import seaborn as sns\n",
        "\n",
        "import gc\n",
        "import datetime"
      ]
    },
    {
      "cell_type": "code",
      "execution_count": 16,
      "id": "3175eb3b",
      "metadata": {
        "execution": {
          "iopub.execute_input": "2023-02-06T06:33:19.597700Z",
          "iopub.status.busy": "2023-02-06T06:33:19.596747Z",
          "iopub.status.idle": "2023-02-06T06:33:19.884407Z",
          "shell.execute_reply": "2023-02-06T06:33:19.883213Z"
        },
        "papermill": {
          "duration": 0.301743,
          "end_time": "2023-02-06T06:33:19.887726",
          "exception": false,
          "start_time": "2023-02-06T06:33:19.585983",
          "status": "completed"
        },
        "tags": [],
        "id": "3175eb3b"
      },
      "outputs": [],
      "source": [
        "df = pd.read_csv('E-commerce Dataset.csv')"
      ]
    },
    {
      "cell_type": "code",
      "execution_count": 17,
      "id": "0857dbdb",
      "metadata": {
        "execution": {
          "iopub.execute_input": "2023-02-06T06:33:19.908850Z",
          "iopub.status.busy": "2023-02-06T06:33:19.908282Z",
          "iopub.status.idle": "2023-02-06T06:33:19.966976Z",
          "shell.execute_reply": "2023-02-06T06:33:19.965573Z"
        },
        "papermill": {
          "duration": 0.073493,
          "end_time": "2023-02-06T06:33:19.970583",
          "exception": false,
          "start_time": "2023-02-06T06:33:19.897090",
          "status": "completed"
        },
        "tags": [],
        "colab": {
          "base_uri": "https://localhost:8080/"
        },
        "id": "0857dbdb",
        "outputId": "df0d67e7-cdbb-4339-a191-4f3b610b7413"
      },
      "outputs": [
        {
          "output_type": "stream",
          "name": "stdout",
          "text": [
            "<class 'pandas.core.frame.DataFrame'>\n",
            "RangeIndex: 51290 entries, 0 to 51289\n",
            "Data columns (total 16 columns):\n",
            " #   Column               Non-Null Count  Dtype  \n",
            "---  ------               --------------  -----  \n",
            " 0   Order_Date           51290 non-null  object \n",
            " 1   Time                 51290 non-null  object \n",
            " 2   Aging                51289 non-null  float64\n",
            " 3   Customer_Id          51290 non-null  int64  \n",
            " 4   Gender               51290 non-null  object \n",
            " 5   Device_Type          51290 non-null  object \n",
            " 6   Customer_Login_type  51290 non-null  object \n",
            " 7   Product_Category     51290 non-null  object \n",
            " 8   Product              51290 non-null  object \n",
            " 9   Sales                51289 non-null  float64\n",
            " 10  Quantity             51288 non-null  float64\n",
            " 11  Discount             51289 non-null  float64\n",
            " 12  Profit               51290 non-null  float64\n",
            " 13  Shipping_Cost        51289 non-null  float64\n",
            " 14  Order_Priority       51288 non-null  object \n",
            " 15  Payment_method       51290 non-null  object \n",
            "dtypes: float64(6), int64(1), object(9)\n",
            "memory usage: 6.3+ MB\n"
          ]
        }
      ],
      "source": [
        "df.info()"
      ]
    },
    {
      "cell_type": "code",
      "execution_count": 18,
      "id": "e5b7b9fa",
      "metadata": {
        "execution": {
          "iopub.execute_input": "2023-02-06T06:33:19.992099Z",
          "iopub.status.busy": "2023-02-06T06:33:19.991489Z",
          "iopub.status.idle": "2023-02-06T06:33:20.026076Z",
          "shell.execute_reply": "2023-02-06T06:33:20.024565Z"
        },
        "papermill": {
          "duration": 0.048629,
          "end_time": "2023-02-06T06:33:20.029331",
          "exception": false,
          "start_time": "2023-02-06T06:33:19.980702",
          "status": "completed"
        },
        "tags": [],
        "colab": {
          "base_uri": "https://localhost:8080/",
          "height": 374
        },
        "id": "e5b7b9fa",
        "outputId": "208c1148-db83-402d-c2c7-36802fe67ed0"
      },
      "outputs": [
        {
          "output_type": "execute_result",
          "data": {
            "text/plain": [
              "   Order_Date      Time  Aging  Customer_Id  Gender Device_Type  \\\n",
              "0  2018-01-02  10:56:33    8.0        37077  Female         Web   \n",
              "1  2018-07-24  20:41:37    2.0        59173  Female         Web   \n",
              "2  2018-11-08  08:38:49    8.0        41066  Female         Web   \n",
              "3  2018-04-18  19:28:06    7.0        50741  Female         Web   \n",
              "4  2018-08-13  21:18:39    9.0        53639  Female         Web   \n",
              "\n",
              "  Customer_Login_type    Product_Category            Product  Sales  Quantity  \\\n",
              "0              Member  Auto & Accessories  Car Media Players  140.0       1.0   \n",
              "1              Member  Auto & Accessories       Car Speakers  211.0       1.0   \n",
              "2              Member  Auto & Accessories    Car Body Covers  117.0       5.0   \n",
              "3              Member  Auto & Accessories    Car & Bike Care  118.0       1.0   \n",
              "4              Member  Auto & Accessories               Tyre  250.0       1.0   \n",
              "\n",
              "   Discount  Profit  Shipping_Cost Order_Priority Payment_method  \n",
              "0       0.3    46.0            4.6         Medium    credit_card  \n",
              "1       0.3   112.0           11.2         Medium    credit_card  \n",
              "2       0.1    31.2            3.1       Critical    credit_card  \n",
              "3       0.3    26.2            2.6           High    credit_card  \n",
              "4       0.3   160.0           16.0       Critical    credit_card  "
            ],
            "text/html": [
              "\n",
              "  <div id=\"df-66671550-7dd4-43d0-a027-e2c049a73996\">\n",
              "    <div class=\"colab-df-container\">\n",
              "      <div>\n",
              "<style scoped>\n",
              "    .dataframe tbody tr th:only-of-type {\n",
              "        vertical-align: middle;\n",
              "    }\n",
              "\n",
              "    .dataframe tbody tr th {\n",
              "        vertical-align: top;\n",
              "    }\n",
              "\n",
              "    .dataframe thead th {\n",
              "        text-align: right;\n",
              "    }\n",
              "</style>\n",
              "<table border=\"1\" class=\"dataframe\">\n",
              "  <thead>\n",
              "    <tr style=\"text-align: right;\">\n",
              "      <th></th>\n",
              "      <th>Order_Date</th>\n",
              "      <th>Time</th>\n",
              "      <th>Aging</th>\n",
              "      <th>Customer_Id</th>\n",
              "      <th>Gender</th>\n",
              "      <th>Device_Type</th>\n",
              "      <th>Customer_Login_type</th>\n",
              "      <th>Product_Category</th>\n",
              "      <th>Product</th>\n",
              "      <th>Sales</th>\n",
              "      <th>Quantity</th>\n",
              "      <th>Discount</th>\n",
              "      <th>Profit</th>\n",
              "      <th>Shipping_Cost</th>\n",
              "      <th>Order_Priority</th>\n",
              "      <th>Payment_method</th>\n",
              "    </tr>\n",
              "  </thead>\n",
              "  <tbody>\n",
              "    <tr>\n",
              "      <th>0</th>\n",
              "      <td>2018-01-02</td>\n",
              "      <td>10:56:33</td>\n",
              "      <td>8.0</td>\n",
              "      <td>37077</td>\n",
              "      <td>Female</td>\n",
              "      <td>Web</td>\n",
              "      <td>Member</td>\n",
              "      <td>Auto &amp; Accessories</td>\n",
              "      <td>Car Media Players</td>\n",
              "      <td>140.0</td>\n",
              "      <td>1.0</td>\n",
              "      <td>0.3</td>\n",
              "      <td>46.0</td>\n",
              "      <td>4.6</td>\n",
              "      <td>Medium</td>\n",
              "      <td>credit_card</td>\n",
              "    </tr>\n",
              "    <tr>\n",
              "      <th>1</th>\n",
              "      <td>2018-07-24</td>\n",
              "      <td>20:41:37</td>\n",
              "      <td>2.0</td>\n",
              "      <td>59173</td>\n",
              "      <td>Female</td>\n",
              "      <td>Web</td>\n",
              "      <td>Member</td>\n",
              "      <td>Auto &amp; Accessories</td>\n",
              "      <td>Car Speakers</td>\n",
              "      <td>211.0</td>\n",
              "      <td>1.0</td>\n",
              "      <td>0.3</td>\n",
              "      <td>112.0</td>\n",
              "      <td>11.2</td>\n",
              "      <td>Medium</td>\n",
              "      <td>credit_card</td>\n",
              "    </tr>\n",
              "    <tr>\n",
              "      <th>2</th>\n",
              "      <td>2018-11-08</td>\n",
              "      <td>08:38:49</td>\n",
              "      <td>8.0</td>\n",
              "      <td>41066</td>\n",
              "      <td>Female</td>\n",
              "      <td>Web</td>\n",
              "      <td>Member</td>\n",
              "      <td>Auto &amp; Accessories</td>\n",
              "      <td>Car Body Covers</td>\n",
              "      <td>117.0</td>\n",
              "      <td>5.0</td>\n",
              "      <td>0.1</td>\n",
              "      <td>31.2</td>\n",
              "      <td>3.1</td>\n",
              "      <td>Critical</td>\n",
              "      <td>credit_card</td>\n",
              "    </tr>\n",
              "    <tr>\n",
              "      <th>3</th>\n",
              "      <td>2018-04-18</td>\n",
              "      <td>19:28:06</td>\n",
              "      <td>7.0</td>\n",
              "      <td>50741</td>\n",
              "      <td>Female</td>\n",
              "      <td>Web</td>\n",
              "      <td>Member</td>\n",
              "      <td>Auto &amp; Accessories</td>\n",
              "      <td>Car &amp; Bike Care</td>\n",
              "      <td>118.0</td>\n",
              "      <td>1.0</td>\n",
              "      <td>0.3</td>\n",
              "      <td>26.2</td>\n",
              "      <td>2.6</td>\n",
              "      <td>High</td>\n",
              "      <td>credit_card</td>\n",
              "    </tr>\n",
              "    <tr>\n",
              "      <th>4</th>\n",
              "      <td>2018-08-13</td>\n",
              "      <td>21:18:39</td>\n",
              "      <td>9.0</td>\n",
              "      <td>53639</td>\n",
              "      <td>Female</td>\n",
              "      <td>Web</td>\n",
              "      <td>Member</td>\n",
              "      <td>Auto &amp; Accessories</td>\n",
              "      <td>Tyre</td>\n",
              "      <td>250.0</td>\n",
              "      <td>1.0</td>\n",
              "      <td>0.3</td>\n",
              "      <td>160.0</td>\n",
              "      <td>16.0</td>\n",
              "      <td>Critical</td>\n",
              "      <td>credit_card</td>\n",
              "    </tr>\n",
              "  </tbody>\n",
              "</table>\n",
              "</div>\n",
              "      <button class=\"colab-df-convert\" onclick=\"convertToInteractive('df-66671550-7dd4-43d0-a027-e2c049a73996')\"\n",
              "              title=\"Convert this dataframe to an interactive table.\"\n",
              "              style=\"display:none;\">\n",
              "        \n",
              "  <svg xmlns=\"http://www.w3.org/2000/svg\" height=\"24px\"viewBox=\"0 0 24 24\"\n",
              "       width=\"24px\">\n",
              "    <path d=\"M0 0h24v24H0V0z\" fill=\"none\"/>\n",
              "    <path d=\"M18.56 5.44l.94 2.06.94-2.06 2.06-.94-2.06-.94-.94-2.06-.94 2.06-2.06.94zm-11 1L8.5 8.5l.94-2.06 2.06-.94-2.06-.94L8.5 2.5l-.94 2.06-2.06.94zm10 10l.94 2.06.94-2.06 2.06-.94-2.06-.94-.94-2.06-.94 2.06-2.06.94z\"/><path d=\"M17.41 7.96l-1.37-1.37c-.4-.4-.92-.59-1.43-.59-.52 0-1.04.2-1.43.59L10.3 9.45l-7.72 7.72c-.78.78-.78 2.05 0 2.83L4 21.41c.39.39.9.59 1.41.59.51 0 1.02-.2 1.41-.59l7.78-7.78 2.81-2.81c.8-.78.8-2.07 0-2.86zM5.41 20L4 18.59l7.72-7.72 1.47 1.35L5.41 20z\"/>\n",
              "  </svg>\n",
              "      </button>\n",
              "      \n",
              "  <style>\n",
              "    .colab-df-container {\n",
              "      display:flex;\n",
              "      flex-wrap:wrap;\n",
              "      gap: 12px;\n",
              "    }\n",
              "\n",
              "    .colab-df-convert {\n",
              "      background-color: #E8F0FE;\n",
              "      border: none;\n",
              "      border-radius: 50%;\n",
              "      cursor: pointer;\n",
              "      display: none;\n",
              "      fill: #1967D2;\n",
              "      height: 32px;\n",
              "      padding: 0 0 0 0;\n",
              "      width: 32px;\n",
              "    }\n",
              "\n",
              "    .colab-df-convert:hover {\n",
              "      background-color: #E2EBFA;\n",
              "      box-shadow: 0px 1px 2px rgba(60, 64, 67, 0.3), 0px 1px 3px 1px rgba(60, 64, 67, 0.15);\n",
              "      fill: #174EA6;\n",
              "    }\n",
              "\n",
              "    [theme=dark] .colab-df-convert {\n",
              "      background-color: #3B4455;\n",
              "      fill: #D2E3FC;\n",
              "    }\n",
              "\n",
              "    [theme=dark] .colab-df-convert:hover {\n",
              "      background-color: #434B5C;\n",
              "      box-shadow: 0px 1px 3px 1px rgba(0, 0, 0, 0.15);\n",
              "      filter: drop-shadow(0px 1px 2px rgba(0, 0, 0, 0.3));\n",
              "      fill: #FFFFFF;\n",
              "    }\n",
              "  </style>\n",
              "\n",
              "      <script>\n",
              "        const buttonEl =\n",
              "          document.querySelector('#df-66671550-7dd4-43d0-a027-e2c049a73996 button.colab-df-convert');\n",
              "        buttonEl.style.display =\n",
              "          google.colab.kernel.accessAllowed ? 'block' : 'none';\n",
              "\n",
              "        async function convertToInteractive(key) {\n",
              "          const element = document.querySelector('#df-66671550-7dd4-43d0-a027-e2c049a73996');\n",
              "          const dataTable =\n",
              "            await google.colab.kernel.invokeFunction('convertToInteractive',\n",
              "                                                     [key], {});\n",
              "          if (!dataTable) return;\n",
              "\n",
              "          const docLinkHtml = 'Like what you see? Visit the ' +\n",
              "            '<a target=\"_blank\" href=https://colab.research.google.com/notebooks/data_table.ipynb>data table notebook</a>'\n",
              "            + ' to learn more about interactive tables.';\n",
              "          element.innerHTML = '';\n",
              "          dataTable['output_type'] = 'display_data';\n",
              "          await google.colab.output.renderOutput(dataTable, element);\n",
              "          const docLink = document.createElement('div');\n",
              "          docLink.innerHTML = docLinkHtml;\n",
              "          element.appendChild(docLink);\n",
              "        }\n",
              "      </script>\n",
              "    </div>\n",
              "  </div>\n",
              "  "
            ]
          },
          "metadata": {},
          "execution_count": 18
        }
      ],
      "source": [
        "df.head(5)"
      ]
    },
    {
      "cell_type": "code",
      "execution_count": 19,
      "id": "b02a9620",
      "metadata": {
        "execution": {
          "iopub.execute_input": "2023-02-06T06:33:20.050262Z",
          "iopub.status.busy": "2023-02-06T06:33:20.049661Z",
          "iopub.status.idle": "2023-02-06T06:33:20.058445Z",
          "shell.execute_reply": "2023-02-06T06:33:20.057134Z"
        },
        "papermill": {
          "duration": 0.022297,
          "end_time": "2023-02-06T06:33:20.061094",
          "exception": false,
          "start_time": "2023-02-06T06:33:20.038797",
          "status": "completed"
        },
        "tags": [],
        "colab": {
          "base_uri": "https://localhost:8080/"
        },
        "id": "b02a9620",
        "outputId": "5cd0f3e8-ea30-4837-bc5f-ac768a576e15"
      },
      "outputs": [
        {
          "output_type": "execute_result",
          "data": {
            "text/plain": [
              "(51290, 16)"
            ]
          },
          "metadata": {},
          "execution_count": 19
        }
      ],
      "source": [
        "df.shape"
      ]
    },
    {
      "cell_type": "code",
      "execution_count": 20,
      "id": "0666c506",
      "metadata": {
        "execution": {
          "iopub.execute_input": "2023-02-06T06:33:20.082160Z",
          "iopub.status.busy": "2023-02-06T06:33:20.081638Z",
          "iopub.status.idle": "2023-02-06T06:33:20.115541Z",
          "shell.execute_reply": "2023-02-06T06:33:20.114171Z"
        },
        "papermill": {
          "duration": 0.04786,
          "end_time": "2023-02-06T06:33:20.118509",
          "exception": false,
          "start_time": "2023-02-06T06:33:20.070649",
          "status": "completed"
        },
        "tags": [],
        "colab": {
          "base_uri": "https://localhost:8080/"
        },
        "id": "0666c506",
        "outputId": "cb14f30a-d9e7-45f7-e879-b7f59b8532a3"
      },
      "outputs": [
        {
          "output_type": "execute_result",
          "data": {
            "text/plain": [
              "Order_Date             0\n",
              "Time                   0\n",
              "Aging                  1\n",
              "Customer_Id            0\n",
              "Gender                 0\n",
              "Device_Type            0\n",
              "Customer_Login_type    0\n",
              "Product_Category       0\n",
              "Product                0\n",
              "Sales                  1\n",
              "Quantity               2\n",
              "Discount               1\n",
              "Profit                 0\n",
              "Shipping_Cost          1\n",
              "Order_Priority         2\n",
              "Payment_method         0\n",
              "dtype: int64"
            ]
          },
          "metadata": {},
          "execution_count": 20
        }
      ],
      "source": [
        "df.isnull().sum()"
      ]
    },
    {
      "cell_type": "code",
      "execution_count": 21,
      "id": "0797fffb",
      "metadata": {
        "execution": {
          "iopub.execute_input": "2023-02-06T06:33:20.139944Z",
          "iopub.status.busy": "2023-02-06T06:33:20.139407Z",
          "iopub.status.idle": "2023-02-06T06:33:20.152829Z",
          "shell.execute_reply": "2023-02-06T06:33:20.151470Z"
        },
        "papermill": {
          "duration": 0.027487,
          "end_time": "2023-02-06T06:33:20.155683",
          "exception": false,
          "start_time": "2023-02-06T06:33:20.128196",
          "status": "completed"
        },
        "tags": [],
        "colab": {
          "base_uri": "https://localhost:8080/"
        },
        "id": "0797fffb",
        "outputId": "b1bf2422-dac1-4aef-a65b-622b6fcc1077"
      },
      "outputs": [
        {
          "output_type": "execute_result",
          "data": {
            "text/plain": [
              "Index(['Aging', 'Customer_Id', 'Sales', 'Quantity', 'Discount', 'Profit',\n",
              "       'Shipping_Cost'],\n",
              "      dtype='object')"
            ]
          },
          "metadata": {},
          "execution_count": 21
        }
      ],
      "source": [
        "df.select_dtypes(include=['int64','float64']).columns"
      ]
    },
    {
      "cell_type": "code",
      "execution_count": 22,
      "id": "08b5d1f8",
      "metadata": {
        "execution": {
          "iopub.execute_input": "2023-02-06T06:33:20.178937Z",
          "iopub.status.busy": "2023-02-06T06:33:20.178440Z",
          "iopub.status.idle": "2023-02-06T06:33:20.195418Z",
          "shell.execute_reply": "2023-02-06T06:33:20.194403Z"
        },
        "papermill": {
          "duration": 0.031467,
          "end_time": "2023-02-06T06:33:20.198116",
          "exception": false,
          "start_time": "2023-02-06T06:33:20.166649",
          "status": "completed"
        },
        "tags": [],
        "colab": {
          "base_uri": "https://localhost:8080/"
        },
        "id": "08b5d1f8",
        "outputId": "5a1d336c-27ce-4962-f454-9cdd33903bc6"
      },
      "outputs": [
        {
          "output_type": "execute_result",
          "data": {
            "text/plain": [
              "Index(['Order_Date', 'Time', 'Gender', 'Device_Type', 'Customer_Login_type',\n",
              "       'Product_Category', 'Product', 'Order_Priority', 'Payment_method'],\n",
              "      dtype='object')"
            ]
          },
          "metadata": {},
          "execution_count": 22
        }
      ],
      "source": [
        "df.select_dtypes(include=['object']).columns"
      ]
    },
    {
      "cell_type": "code",
      "execution_count": 23,
      "id": "b0704278",
      "metadata": {
        "execution": {
          "iopub.execute_input": "2023-02-06T06:33:20.222485Z",
          "iopub.status.busy": "2023-02-06T06:33:20.221458Z",
          "iopub.status.idle": "2023-02-06T06:33:20.263687Z",
          "shell.execute_reply": "2023-02-06T06:33:20.262024Z"
        },
        "papermill": {
          "duration": 0.058468,
          "end_time": "2023-02-06T06:33:20.267506",
          "exception": false,
          "start_time": "2023-02-06T06:33:20.209038",
          "status": "completed"
        },
        "tags": [],
        "id": "b0704278"
      },
      "outputs": [],
      "source": [
        "# df_new without missing values\n",
        "df_new = df.dropna()"
      ]
    },
    {
      "cell_type": "code",
      "execution_count": 24,
      "id": "0ad81e0f",
      "metadata": {
        "execution": {
          "iopub.execute_input": "2023-02-06T06:33:20.290084Z",
          "iopub.status.busy": "2023-02-06T06:33:20.289566Z",
          "iopub.status.idle": "2023-02-06T06:33:20.323342Z",
          "shell.execute_reply": "2023-02-06T06:33:20.322165Z"
        },
        "papermill": {
          "duration": 0.048348,
          "end_time": "2023-02-06T06:33:20.326263",
          "exception": false,
          "start_time": "2023-02-06T06:33:20.277915",
          "status": "completed"
        },
        "tags": [],
        "colab": {
          "base_uri": "https://localhost:8080/"
        },
        "id": "0ad81e0f",
        "outputId": "19609e81-b7d5-412c-9668-89b4afdbddf9"
      },
      "outputs": [
        {
          "output_type": "execute_result",
          "data": {
            "text/plain": [
              "Order_Date             0\n",
              "Time                   0\n",
              "Aging                  0\n",
              "Customer_Id            0\n",
              "Gender                 0\n",
              "Device_Type            0\n",
              "Customer_Login_type    0\n",
              "Product_Category       0\n",
              "Product                0\n",
              "Sales                  0\n",
              "Quantity               0\n",
              "Discount               0\n",
              "Profit                 0\n",
              "Shipping_Cost          0\n",
              "Order_Priority         0\n",
              "Payment_method         0\n",
              "dtype: int64"
            ]
          },
          "metadata": {},
          "execution_count": 24
        }
      ],
      "source": [
        "# check missing values for each column \n",
        "df_new.isnull().sum().sort_values(ascending=False)"
      ]
    },
    {
      "cell_type": "code",
      "execution_count": 25,
      "id": "f142b563",
      "metadata": {
        "execution": {
          "iopub.execute_input": "2023-02-06T06:33:20.349368Z",
          "iopub.status.busy": "2023-02-06T06:33:20.348112Z",
          "iopub.status.idle": "2023-02-06T06:33:20.356484Z",
          "shell.execute_reply": "2023-02-06T06:33:20.355142Z"
        },
        "papermill": {
          "duration": 0.022753,
          "end_time": "2023-02-06T06:33:20.359163",
          "exception": false,
          "start_time": "2023-02-06T06:33:20.336410",
          "status": "completed"
        },
        "tags": [],
        "colab": {
          "base_uri": "https://localhost:8080/"
        },
        "id": "f142b563",
        "outputId": "05357c82-0ef4-4268-8ad5-3cd6f212a3da"
      },
      "outputs": [
        {
          "output_type": "execute_result",
          "data": {
            "text/plain": [
              "(51282, 16)"
            ]
          },
          "metadata": {},
          "execution_count": 25
        }
      ],
      "source": [
        "df_new.shape"
      ]
    },
    {
      "cell_type": "code",
      "execution_count": 26,
      "id": "204021bf",
      "metadata": {
        "execution": {
          "iopub.execute_input": "2023-02-06T06:33:20.382818Z",
          "iopub.status.busy": "2023-02-06T06:33:20.382248Z",
          "iopub.status.idle": "2023-02-06T06:33:20.424185Z",
          "shell.execute_reply": "2023-02-06T06:33:20.422395Z"
        },
        "papermill": {
          "duration": 0.058154,
          "end_time": "2023-02-06T06:33:20.427543",
          "exception": false,
          "start_time": "2023-02-06T06:33:20.369389",
          "status": "completed"
        },
        "tags": [],
        "colab": {
          "base_uri": "https://localhost:8080/"
        },
        "id": "204021bf",
        "outputId": "bc90aa53-f8b8-4dfc-b892-7b51692f546c"
      },
      "outputs": [
        {
          "output_type": "stream",
          "name": "stdout",
          "text": [
            "<class 'pandas.core.frame.DataFrame'>\n",
            "Int64Index: 51282 entries, 0 to 51289\n",
            "Data columns (total 16 columns):\n",
            " #   Column               Non-Null Count  Dtype  \n",
            "---  ------               --------------  -----  \n",
            " 0   Order_Date           51282 non-null  object \n",
            " 1   Time                 51282 non-null  object \n",
            " 2   Aging                51282 non-null  float64\n",
            " 3   Customer_Id          51282 non-null  int64  \n",
            " 4   Gender               51282 non-null  object \n",
            " 5   Device_Type          51282 non-null  object \n",
            " 6   Customer_Login_type  51282 non-null  object \n",
            " 7   Product_Category     51282 non-null  object \n",
            " 8   Product              51282 non-null  object \n",
            " 9   Sales                51282 non-null  float64\n",
            " 10  Quantity             51282 non-null  float64\n",
            " 11  Discount             51282 non-null  float64\n",
            " 12  Profit               51282 non-null  float64\n",
            " 13  Shipping_Cost        51282 non-null  float64\n",
            " 14  Order_Priority       51282 non-null  object \n",
            " 15  Payment_method       51282 non-null  object \n",
            "dtypes: float64(6), int64(1), object(9)\n",
            "memory usage: 6.7+ MB\n"
          ]
        }
      ],
      "source": [
        "df_new.info()"
      ]
    },
    {
      "cell_type": "code",
      "execution_count": 27,
      "id": "9f717816",
      "metadata": {
        "execution": {
          "iopub.execute_input": "2023-02-06T06:33:20.450345Z",
          "iopub.status.busy": "2023-02-06T06:33:20.449758Z",
          "iopub.status.idle": "2023-02-06T06:33:20.516599Z",
          "shell.execute_reply": "2023-02-06T06:33:20.515128Z"
        },
        "papermill": {
          "duration": 0.082172,
          "end_time": "2023-02-06T06:33:20.519945",
          "exception": false,
          "start_time": "2023-02-06T06:33:20.437773",
          "status": "completed"
        },
        "tags": [],
        "colab": {
          "base_uri": "https://localhost:8080/",
          "height": 300
        },
        "id": "9f717816",
        "outputId": "2f0af69d-9a99-4ceb-9696-de5e1ca4fe91"
      },
      "outputs": [
        {
          "output_type": "execute_result",
          "data": {
            "text/plain": [
              "          Aging  Customer_Id     Sales  Quantity  Discount    Profit  \\\n",
              "count  51282.00     51282.00  51282.00  51282.00  51282.00  51282.00   \n",
              "mean       5.26     58159.75    152.34      2.50      0.30     70.40   \n",
              "std        2.96     26031.76     66.49      1.51      0.13     48.73   \n",
              "min        1.00     10000.00     33.00      1.00      0.10      0.50   \n",
              "25%        3.00     35841.50     85.00      1.00      0.20     24.90   \n",
              "50%        5.00     61021.50    133.00      2.00      0.30     59.90   \n",
              "75%        8.00     80739.25    218.00      4.00      0.40    118.40   \n",
              "max       10.50     99999.00    250.00      5.00      0.50    167.50   \n",
              "\n",
              "       Shipping_Cost  \n",
              "count       51282.00  \n",
              "mean            7.04  \n",
              "std             4.87  \n",
              "min             0.10  \n",
              "25%             2.50  \n",
              "50%             6.00  \n",
              "75%            11.80  \n",
              "max            16.80  "
            ],
            "text/html": [
              "\n",
              "  <div id=\"df-64061a3c-1597-4324-96b4-7db7741c5cb0\">\n",
              "    <div class=\"colab-df-container\">\n",
              "      <div>\n",
              "<style scoped>\n",
              "    .dataframe tbody tr th:only-of-type {\n",
              "        vertical-align: middle;\n",
              "    }\n",
              "\n",
              "    .dataframe tbody tr th {\n",
              "        vertical-align: top;\n",
              "    }\n",
              "\n",
              "    .dataframe thead th {\n",
              "        text-align: right;\n",
              "    }\n",
              "</style>\n",
              "<table border=\"1\" class=\"dataframe\">\n",
              "  <thead>\n",
              "    <tr style=\"text-align: right;\">\n",
              "      <th></th>\n",
              "      <th>Aging</th>\n",
              "      <th>Customer_Id</th>\n",
              "      <th>Sales</th>\n",
              "      <th>Quantity</th>\n",
              "      <th>Discount</th>\n",
              "      <th>Profit</th>\n",
              "      <th>Shipping_Cost</th>\n",
              "    </tr>\n",
              "  </thead>\n",
              "  <tbody>\n",
              "    <tr>\n",
              "      <th>count</th>\n",
              "      <td>51282.00</td>\n",
              "      <td>51282.00</td>\n",
              "      <td>51282.00</td>\n",
              "      <td>51282.00</td>\n",
              "      <td>51282.00</td>\n",
              "      <td>51282.00</td>\n",
              "      <td>51282.00</td>\n",
              "    </tr>\n",
              "    <tr>\n",
              "      <th>mean</th>\n",
              "      <td>5.26</td>\n",
              "      <td>58159.75</td>\n",
              "      <td>152.34</td>\n",
              "      <td>2.50</td>\n",
              "      <td>0.30</td>\n",
              "      <td>70.40</td>\n",
              "      <td>7.04</td>\n",
              "    </tr>\n",
              "    <tr>\n",
              "      <th>std</th>\n",
              "      <td>2.96</td>\n",
              "      <td>26031.76</td>\n",
              "      <td>66.49</td>\n",
              "      <td>1.51</td>\n",
              "      <td>0.13</td>\n",
              "      <td>48.73</td>\n",
              "      <td>4.87</td>\n",
              "    </tr>\n",
              "    <tr>\n",
              "      <th>min</th>\n",
              "      <td>1.00</td>\n",
              "      <td>10000.00</td>\n",
              "      <td>33.00</td>\n",
              "      <td>1.00</td>\n",
              "      <td>0.10</td>\n",
              "      <td>0.50</td>\n",
              "      <td>0.10</td>\n",
              "    </tr>\n",
              "    <tr>\n",
              "      <th>25%</th>\n",
              "      <td>3.00</td>\n",
              "      <td>35841.50</td>\n",
              "      <td>85.00</td>\n",
              "      <td>1.00</td>\n",
              "      <td>0.20</td>\n",
              "      <td>24.90</td>\n",
              "      <td>2.50</td>\n",
              "    </tr>\n",
              "    <tr>\n",
              "      <th>50%</th>\n",
              "      <td>5.00</td>\n",
              "      <td>61021.50</td>\n",
              "      <td>133.00</td>\n",
              "      <td>2.00</td>\n",
              "      <td>0.30</td>\n",
              "      <td>59.90</td>\n",
              "      <td>6.00</td>\n",
              "    </tr>\n",
              "    <tr>\n",
              "      <th>75%</th>\n",
              "      <td>8.00</td>\n",
              "      <td>80739.25</td>\n",
              "      <td>218.00</td>\n",
              "      <td>4.00</td>\n",
              "      <td>0.40</td>\n",
              "      <td>118.40</td>\n",
              "      <td>11.80</td>\n",
              "    </tr>\n",
              "    <tr>\n",
              "      <th>max</th>\n",
              "      <td>10.50</td>\n",
              "      <td>99999.00</td>\n",
              "      <td>250.00</td>\n",
              "      <td>5.00</td>\n",
              "      <td>0.50</td>\n",
              "      <td>167.50</td>\n",
              "      <td>16.80</td>\n",
              "    </tr>\n",
              "  </tbody>\n",
              "</table>\n",
              "</div>\n",
              "      <button class=\"colab-df-convert\" onclick=\"convertToInteractive('df-64061a3c-1597-4324-96b4-7db7741c5cb0')\"\n",
              "              title=\"Convert this dataframe to an interactive table.\"\n",
              "              style=\"display:none;\">\n",
              "        \n",
              "  <svg xmlns=\"http://www.w3.org/2000/svg\" height=\"24px\"viewBox=\"0 0 24 24\"\n",
              "       width=\"24px\">\n",
              "    <path d=\"M0 0h24v24H0V0z\" fill=\"none\"/>\n",
              "    <path d=\"M18.56 5.44l.94 2.06.94-2.06 2.06-.94-2.06-.94-.94-2.06-.94 2.06-2.06.94zm-11 1L8.5 8.5l.94-2.06 2.06-.94-2.06-.94L8.5 2.5l-.94 2.06-2.06.94zm10 10l.94 2.06.94-2.06 2.06-.94-2.06-.94-.94-2.06-.94 2.06-2.06.94z\"/><path d=\"M17.41 7.96l-1.37-1.37c-.4-.4-.92-.59-1.43-.59-.52 0-1.04.2-1.43.59L10.3 9.45l-7.72 7.72c-.78.78-.78 2.05 0 2.83L4 21.41c.39.39.9.59 1.41.59.51 0 1.02-.2 1.41-.59l7.78-7.78 2.81-2.81c.8-.78.8-2.07 0-2.86zM5.41 20L4 18.59l7.72-7.72 1.47 1.35L5.41 20z\"/>\n",
              "  </svg>\n",
              "      </button>\n",
              "      \n",
              "  <style>\n",
              "    .colab-df-container {\n",
              "      display:flex;\n",
              "      flex-wrap:wrap;\n",
              "      gap: 12px;\n",
              "    }\n",
              "\n",
              "    .colab-df-convert {\n",
              "      background-color: #E8F0FE;\n",
              "      border: none;\n",
              "      border-radius: 50%;\n",
              "      cursor: pointer;\n",
              "      display: none;\n",
              "      fill: #1967D2;\n",
              "      height: 32px;\n",
              "      padding: 0 0 0 0;\n",
              "      width: 32px;\n",
              "    }\n",
              "\n",
              "    .colab-df-convert:hover {\n",
              "      background-color: #E2EBFA;\n",
              "      box-shadow: 0px 1px 2px rgba(60, 64, 67, 0.3), 0px 1px 3px 1px rgba(60, 64, 67, 0.15);\n",
              "      fill: #174EA6;\n",
              "    }\n",
              "\n",
              "    [theme=dark] .colab-df-convert {\n",
              "      background-color: #3B4455;\n",
              "      fill: #D2E3FC;\n",
              "    }\n",
              "\n",
              "    [theme=dark] .colab-df-convert:hover {\n",
              "      background-color: #434B5C;\n",
              "      box-shadow: 0px 1px 3px 1px rgba(0, 0, 0, 0.15);\n",
              "      filter: drop-shadow(0px 1px 2px rgba(0, 0, 0, 0.3));\n",
              "      fill: #FFFFFF;\n",
              "    }\n",
              "  </style>\n",
              "\n",
              "      <script>\n",
              "        const buttonEl =\n",
              "          document.querySelector('#df-64061a3c-1597-4324-96b4-7db7741c5cb0 button.colab-df-convert');\n",
              "        buttonEl.style.display =\n",
              "          google.colab.kernel.accessAllowed ? 'block' : 'none';\n",
              "\n",
              "        async function convertToInteractive(key) {\n",
              "          const element = document.querySelector('#df-64061a3c-1597-4324-96b4-7db7741c5cb0');\n",
              "          const dataTable =\n",
              "            await google.colab.kernel.invokeFunction('convertToInteractive',\n",
              "                                                     [key], {});\n",
              "          if (!dataTable) return;\n",
              "\n",
              "          const docLinkHtml = 'Like what you see? Visit the ' +\n",
              "            '<a target=\"_blank\" href=https://colab.research.google.com/notebooks/data_table.ipynb>data table notebook</a>'\n",
              "            + ' to learn more about interactive tables.';\n",
              "          element.innerHTML = '';\n",
              "          dataTable['output_type'] = 'display_data';\n",
              "          await google.colab.output.renderOutput(dataTable, element);\n",
              "          const docLink = document.createElement('div');\n",
              "          docLink.innerHTML = docLinkHtml;\n",
              "          element.appendChild(docLink);\n",
              "        }\n",
              "      </script>\n",
              "    </div>\n",
              "  </div>\n",
              "  "
            ]
          },
          "metadata": {},
          "execution_count": 27
        }
      ],
      "source": [
        "df_new.describe().round(2)"
      ]
    },
    {
      "cell_type": "code",
      "execution_count": 28,
      "id": "8509a1e2",
      "metadata": {
        "execution": {
          "iopub.execute_input": "2023-02-06T06:33:20.543889Z",
          "iopub.status.busy": "2023-02-06T06:33:20.543396Z",
          "iopub.status.idle": "2023-02-06T06:33:20.555027Z",
          "shell.execute_reply": "2023-02-06T06:33:20.553770Z"
        },
        "papermill": {
          "duration": 0.027604,
          "end_time": "2023-02-06T06:33:20.558085",
          "exception": false,
          "start_time": "2023-02-06T06:33:20.530481",
          "status": "completed"
        },
        "tags": [],
        "id": "8509a1e2"
      },
      "outputs": [],
      "source": [
        "df_small = df_new.sample(frac=0.04)"
      ]
    },
    {
      "cell_type": "code",
      "execution_count": 29,
      "id": "badf0116",
      "metadata": {
        "execution": {
          "iopub.execute_input": "2023-02-06T06:33:20.582158Z",
          "iopub.status.busy": "2023-02-06T06:33:20.581255Z",
          "iopub.status.idle": "2023-02-06T06:33:20.587967Z",
          "shell.execute_reply": "2023-02-06T06:33:20.587031Z"
        },
        "papermill": {
          "duration": 0.021541,
          "end_time": "2023-02-06T06:33:20.590402",
          "exception": false,
          "start_time": "2023-02-06T06:33:20.568861",
          "status": "completed"
        },
        "tags": [],
        "colab": {
          "base_uri": "https://localhost:8080/"
        },
        "id": "badf0116",
        "outputId": "de8797ba-ad40-4412-944b-40af4ec17e8c"
      },
      "outputs": [
        {
          "output_type": "execute_result",
          "data": {
            "text/plain": [
              "(2051, 16)"
            ]
          },
          "metadata": {},
          "execution_count": 29
        }
      ],
      "source": [
        "df_small.shape"
      ]
    },
    {
      "cell_type": "code",
      "execution_count": 30,
      "id": "a143a47d",
      "metadata": {
        "execution": {
          "iopub.execute_input": "2023-02-06T06:33:20.615675Z",
          "iopub.status.busy": "2023-02-06T06:33:20.614569Z",
          "iopub.status.idle": "2023-02-06T06:33:20.622611Z",
          "shell.execute_reply": "2023-02-06T06:33:20.621177Z"
        },
        "papermill": {
          "duration": 0.024278,
          "end_time": "2023-02-06T06:33:20.625478",
          "exception": false,
          "start_time": "2023-02-06T06:33:20.601200",
          "status": "completed"
        },
        "tags": [],
        "colab": {
          "base_uri": "https://localhost:8080/"
        },
        "id": "a143a47d",
        "outputId": "30038c05-1aec-4ab3-a2a8-1ff66db6d850"
      },
      "outputs": [
        {
          "output_type": "execute_result",
          "data": {
            "text/plain": [
              "(51282, 16)"
            ]
          },
          "metadata": {},
          "execution_count": 30
        }
      ],
      "source": [
        "df_new.shape"
      ]
    },
    {
      "cell_type": "markdown",
      "id": "fde1cd0b",
      "metadata": {
        "papermill": {
          "duration": 0.010799,
          "end_time": "2023-02-06T06:33:20.647606",
          "exception": false,
          "start_time": "2023-02-06T06:33:20.636807",
          "status": "completed"
        },
        "tags": [],
        "id": "fde1cd0b"
      },
      "source": [
        "**Add the column - amount_spent**"
      ]
    },
    {
      "cell_type": "code",
      "execution_count": 31,
      "id": "a624a633",
      "metadata": {
        "execution": {
          "iopub.execute_input": "2023-02-06T06:33:20.672376Z",
          "iopub.status.busy": "2023-02-06T06:33:20.671394Z",
          "iopub.status.idle": "2023-02-06T06:33:20.681733Z",
          "shell.execute_reply": "2023-02-06T06:33:20.680420Z"
        },
        "papermill": {
          "duration": 0.026458,
          "end_time": "2023-02-06T06:33:20.684906",
          "exception": false,
          "start_time": "2023-02-06T06:33:20.658448",
          "status": "completed"
        },
        "tags": [],
        "id": "a624a633"
      },
      "outputs": [],
      "source": [
        "df_small['amount_spent'] = df_new['Quantity'] * df_new['Sales']"
      ]
    },
    {
      "cell_type": "code",
      "execution_count": 32,
      "id": "5fd7b3d2",
      "metadata": {
        "execution": {
          "iopub.execute_input": "2023-02-06T06:33:20.709958Z",
          "iopub.status.busy": "2023-02-06T06:33:20.708899Z",
          "iopub.status.idle": "2023-02-06T06:33:20.717071Z",
          "shell.execute_reply": "2023-02-06T06:33:20.716000Z"
        },
        "papermill": {
          "duration": 0.024135,
          "end_time": "2023-02-06T06:33:20.719835",
          "exception": false,
          "start_time": "2023-02-06T06:33:20.695700",
          "status": "completed"
        },
        "tags": [],
        "colab": {
          "base_uri": "https://localhost:8080/"
        },
        "id": "5fd7b3d2",
        "outputId": "e6e71b2f-4271-4f4d-a87a-f635f1102f4e"
      },
      "outputs": [
        {
          "output_type": "execute_result",
          "data": {
            "text/plain": [
              "Index(['Order_Date', 'Time', 'Aging', 'Customer_Id', 'Gender', 'Device_Type',\n",
              "       'Customer_Login_type', 'Product_Category', 'Product', 'Sales',\n",
              "       'Quantity', 'Discount', 'Profit', 'Shipping_Cost', 'Order_Priority',\n",
              "       'Payment_method', 'amount_spent'],\n",
              "      dtype='object')"
            ]
          },
          "metadata": {},
          "execution_count": 32
        }
      ],
      "source": [
        "df_small.keys()"
      ]
    },
    {
      "cell_type": "code",
      "execution_count": 33,
      "id": "1d43350a",
      "metadata": {
        "execution": {
          "iopub.execute_input": "2023-02-06T06:33:20.744945Z",
          "iopub.status.busy": "2023-02-06T06:33:20.743982Z",
          "iopub.status.idle": "2023-02-06T06:33:20.770134Z",
          "shell.execute_reply": "2023-02-06T06:33:20.768988Z"
        },
        "papermill": {
          "duration": 0.04234,
          "end_time": "2023-02-06T06:33:20.773168",
          "exception": false,
          "start_time": "2023-02-06T06:33:20.730828",
          "status": "completed"
        },
        "tags": [],
        "colab": {
          "base_uri": "https://localhost:8080/",
          "height": 339
        },
        "id": "1d43350a",
        "outputId": "ce1e6404-098f-458f-d3eb-9152eb96a0dd"
      },
      "outputs": [
        {
          "output_type": "execute_result",
          "data": {
            "text/plain": [
              "       Order_Date      Time  Aging  Customer_Id  Gender Device_Type  \\\n",
              "51219  2018-02-25  17:33:02    3.0        93290    Male         Web   \n",
              "21446  2018-12-28  18:59:41   10.0        39103    Male         Web   \n",
              "37827  2018-04-26  20:52:35    1.0        74911  Female         Web   \n",
              "40863  2018-11-08  10:31:23    6.0        85279  Female         Web   \n",
              "22180  2018-12-01  00:00:37    2.0        22537    Male         Web   \n",
              "\n",
              "      Customer_Login_type  Product_Category       Product  Sales  Quantity  \\\n",
              "51219              Member  Home & Furniture   Sofa Covers  216.0       1.0   \n",
              "21446              Member           Fashion         Jeans  218.0       1.0   \n",
              "37827              Member           Fashion   Titak watch  228.0       3.0   \n",
              "40863              Member           Fashion   Titak watch  228.0       2.0   \n",
              "22180              Member           Fashion  Fossil Watch  159.0       2.0   \n",
              "\n",
              "       Discount  Profit  Shipping_Cost Order_Priority Payment_method  \\\n",
              "51219       0.2   131.7           13.2         Medium    credit_card   \n",
              "21446       0.5   105.3           10.5         Medium    money_order   \n",
              "37827       0.4   120.6           12.1         Medium    money_order   \n",
              "40863       0.4   129.8           13.0         Medium    credit_card   \n",
              "22180       0.4    66.3            6.6         Medium    money_order   \n",
              "\n",
              "       amount_spent  \n",
              "51219         216.0  \n",
              "21446         218.0  \n",
              "37827         684.0  \n",
              "40863         456.0  \n",
              "22180         318.0  "
            ],
            "text/html": [
              "\n",
              "  <div id=\"df-14b934e4-468f-4abb-8aec-73f52df98402\">\n",
              "    <div class=\"colab-df-container\">\n",
              "      <div>\n",
              "<style scoped>\n",
              "    .dataframe tbody tr th:only-of-type {\n",
              "        vertical-align: middle;\n",
              "    }\n",
              "\n",
              "    .dataframe tbody tr th {\n",
              "        vertical-align: top;\n",
              "    }\n",
              "\n",
              "    .dataframe thead th {\n",
              "        text-align: right;\n",
              "    }\n",
              "</style>\n",
              "<table border=\"1\" class=\"dataframe\">\n",
              "  <thead>\n",
              "    <tr style=\"text-align: right;\">\n",
              "      <th></th>\n",
              "      <th>Order_Date</th>\n",
              "      <th>Time</th>\n",
              "      <th>Aging</th>\n",
              "      <th>Customer_Id</th>\n",
              "      <th>Gender</th>\n",
              "      <th>Device_Type</th>\n",
              "      <th>Customer_Login_type</th>\n",
              "      <th>Product_Category</th>\n",
              "      <th>Product</th>\n",
              "      <th>Sales</th>\n",
              "      <th>Quantity</th>\n",
              "      <th>Discount</th>\n",
              "      <th>Profit</th>\n",
              "      <th>Shipping_Cost</th>\n",
              "      <th>Order_Priority</th>\n",
              "      <th>Payment_method</th>\n",
              "      <th>amount_spent</th>\n",
              "    </tr>\n",
              "  </thead>\n",
              "  <tbody>\n",
              "    <tr>\n",
              "      <th>51219</th>\n",
              "      <td>2018-02-25</td>\n",
              "      <td>17:33:02</td>\n",
              "      <td>3.0</td>\n",
              "      <td>93290</td>\n",
              "      <td>Male</td>\n",
              "      <td>Web</td>\n",
              "      <td>Member</td>\n",
              "      <td>Home &amp; Furniture</td>\n",
              "      <td>Sofa Covers</td>\n",
              "      <td>216.0</td>\n",
              "      <td>1.0</td>\n",
              "      <td>0.2</td>\n",
              "      <td>131.7</td>\n",
              "      <td>13.2</td>\n",
              "      <td>Medium</td>\n",
              "      <td>credit_card</td>\n",
              "      <td>216.0</td>\n",
              "    </tr>\n",
              "    <tr>\n",
              "      <th>21446</th>\n",
              "      <td>2018-12-28</td>\n",
              "      <td>18:59:41</td>\n",
              "      <td>10.0</td>\n",
              "      <td>39103</td>\n",
              "      <td>Male</td>\n",
              "      <td>Web</td>\n",
              "      <td>Member</td>\n",
              "      <td>Fashion</td>\n",
              "      <td>Jeans</td>\n",
              "      <td>218.0</td>\n",
              "      <td>1.0</td>\n",
              "      <td>0.5</td>\n",
              "      <td>105.3</td>\n",
              "      <td>10.5</td>\n",
              "      <td>Medium</td>\n",
              "      <td>money_order</td>\n",
              "      <td>218.0</td>\n",
              "    </tr>\n",
              "    <tr>\n",
              "      <th>37827</th>\n",
              "      <td>2018-04-26</td>\n",
              "      <td>20:52:35</td>\n",
              "      <td>1.0</td>\n",
              "      <td>74911</td>\n",
              "      <td>Female</td>\n",
              "      <td>Web</td>\n",
              "      <td>Member</td>\n",
              "      <td>Fashion</td>\n",
              "      <td>Titak watch</td>\n",
              "      <td>228.0</td>\n",
              "      <td>3.0</td>\n",
              "      <td>0.4</td>\n",
              "      <td>120.6</td>\n",
              "      <td>12.1</td>\n",
              "      <td>Medium</td>\n",
              "      <td>money_order</td>\n",
              "      <td>684.0</td>\n",
              "    </tr>\n",
              "    <tr>\n",
              "      <th>40863</th>\n",
              "      <td>2018-11-08</td>\n",
              "      <td>10:31:23</td>\n",
              "      <td>6.0</td>\n",
              "      <td>85279</td>\n",
              "      <td>Female</td>\n",
              "      <td>Web</td>\n",
              "      <td>Member</td>\n",
              "      <td>Fashion</td>\n",
              "      <td>Titak watch</td>\n",
              "      <td>228.0</td>\n",
              "      <td>2.0</td>\n",
              "      <td>0.4</td>\n",
              "      <td>129.8</td>\n",
              "      <td>13.0</td>\n",
              "      <td>Medium</td>\n",
              "      <td>credit_card</td>\n",
              "      <td>456.0</td>\n",
              "    </tr>\n",
              "    <tr>\n",
              "      <th>22180</th>\n",
              "      <td>2018-12-01</td>\n",
              "      <td>00:00:37</td>\n",
              "      <td>2.0</td>\n",
              "      <td>22537</td>\n",
              "      <td>Male</td>\n",
              "      <td>Web</td>\n",
              "      <td>Member</td>\n",
              "      <td>Fashion</td>\n",
              "      <td>Fossil Watch</td>\n",
              "      <td>159.0</td>\n",
              "      <td>2.0</td>\n",
              "      <td>0.4</td>\n",
              "      <td>66.3</td>\n",
              "      <td>6.6</td>\n",
              "      <td>Medium</td>\n",
              "      <td>money_order</td>\n",
              "      <td>318.0</td>\n",
              "    </tr>\n",
              "  </tbody>\n",
              "</table>\n",
              "</div>\n",
              "      <button class=\"colab-df-convert\" onclick=\"convertToInteractive('df-14b934e4-468f-4abb-8aec-73f52df98402')\"\n",
              "              title=\"Convert this dataframe to an interactive table.\"\n",
              "              style=\"display:none;\">\n",
              "        \n",
              "  <svg xmlns=\"http://www.w3.org/2000/svg\" height=\"24px\"viewBox=\"0 0 24 24\"\n",
              "       width=\"24px\">\n",
              "    <path d=\"M0 0h24v24H0V0z\" fill=\"none\"/>\n",
              "    <path d=\"M18.56 5.44l.94 2.06.94-2.06 2.06-.94-2.06-.94-.94-2.06-.94 2.06-2.06.94zm-11 1L8.5 8.5l.94-2.06 2.06-.94-2.06-.94L8.5 2.5l-.94 2.06-2.06.94zm10 10l.94 2.06.94-2.06 2.06-.94-2.06-.94-.94-2.06-.94 2.06-2.06.94z\"/><path d=\"M17.41 7.96l-1.37-1.37c-.4-.4-.92-.59-1.43-.59-.52 0-1.04.2-1.43.59L10.3 9.45l-7.72 7.72c-.78.78-.78 2.05 0 2.83L4 21.41c.39.39.9.59 1.41.59.51 0 1.02-.2 1.41-.59l7.78-7.78 2.81-2.81c.8-.78.8-2.07 0-2.86zM5.41 20L4 18.59l7.72-7.72 1.47 1.35L5.41 20z\"/>\n",
              "  </svg>\n",
              "      </button>\n",
              "      \n",
              "  <style>\n",
              "    .colab-df-container {\n",
              "      display:flex;\n",
              "      flex-wrap:wrap;\n",
              "      gap: 12px;\n",
              "    }\n",
              "\n",
              "    .colab-df-convert {\n",
              "      background-color: #E8F0FE;\n",
              "      border: none;\n",
              "      border-radius: 50%;\n",
              "      cursor: pointer;\n",
              "      display: none;\n",
              "      fill: #1967D2;\n",
              "      height: 32px;\n",
              "      padding: 0 0 0 0;\n",
              "      width: 32px;\n",
              "    }\n",
              "\n",
              "    .colab-df-convert:hover {\n",
              "      background-color: #E2EBFA;\n",
              "      box-shadow: 0px 1px 2px rgba(60, 64, 67, 0.3), 0px 1px 3px 1px rgba(60, 64, 67, 0.15);\n",
              "      fill: #174EA6;\n",
              "    }\n",
              "\n",
              "    [theme=dark] .colab-df-convert {\n",
              "      background-color: #3B4455;\n",
              "      fill: #D2E3FC;\n",
              "    }\n",
              "\n",
              "    [theme=dark] .colab-df-convert:hover {\n",
              "      background-color: #434B5C;\n",
              "      box-shadow: 0px 1px 3px 1px rgba(0, 0, 0, 0.15);\n",
              "      filter: drop-shadow(0px 1px 2px rgba(0, 0, 0, 0.3));\n",
              "      fill: #FFFFFF;\n",
              "    }\n",
              "  </style>\n",
              "\n",
              "      <script>\n",
              "        const buttonEl =\n",
              "          document.querySelector('#df-14b934e4-468f-4abb-8aec-73f52df98402 button.colab-df-convert');\n",
              "        buttonEl.style.display =\n",
              "          google.colab.kernel.accessAllowed ? 'block' : 'none';\n",
              "\n",
              "        async function convertToInteractive(key) {\n",
              "          const element = document.querySelector('#df-14b934e4-468f-4abb-8aec-73f52df98402');\n",
              "          const dataTable =\n",
              "            await google.colab.kernel.invokeFunction('convertToInteractive',\n",
              "                                                     [key], {});\n",
              "          if (!dataTable) return;\n",
              "\n",
              "          const docLinkHtml = 'Like what you see? Visit the ' +\n",
              "            '<a target=\"_blank\" href=https://colab.research.google.com/notebooks/data_table.ipynb>data table notebook</a>'\n",
              "            + ' to learn more about interactive tables.';\n",
              "          element.innerHTML = '';\n",
              "          dataTable['output_type'] = 'display_data';\n",
              "          await google.colab.output.renderOutput(dataTable, element);\n",
              "          const docLink = document.createElement('div');\n",
              "          docLink.innerHTML = docLinkHtml;\n",
              "          element.appendChild(docLink);\n",
              "        }\n",
              "      </script>\n",
              "    </div>\n",
              "  </div>\n",
              "  "
            ]
          },
          "metadata": {},
          "execution_count": 33
        }
      ],
      "source": [
        "df_small.head()"
      ]
    },
    {
      "cell_type": "code",
      "execution_count": 34,
      "id": "143066d5",
      "metadata": {
        "execution": {
          "iopub.execute_input": "2023-02-06T06:33:20.799150Z",
          "iopub.status.busy": "2023-02-06T06:33:20.798126Z",
          "iopub.status.idle": "2023-02-06T06:33:20.806853Z",
          "shell.execute_reply": "2023-02-06T06:33:20.805587Z"
        },
        "papermill": {
          "duration": 0.025617,
          "end_time": "2023-02-06T06:33:20.810360",
          "exception": false,
          "start_time": "2023-02-06T06:33:20.784743",
          "status": "completed"
        },
        "tags": [],
        "id": "143066d5"
      },
      "outputs": [],
      "source": [
        "# rearrange all the columns for easy reference\n",
        "df_small = df_small[['Order_Date', 'Time', 'Aging', 'Customer_Id', 'Gender', 'Device_Type',\n",
        "       'Customer_Login_type', 'Product_Category', 'Product', 'Sales',\n",
        "       'Quantity', 'amount_spent', 'Discount', 'Profit', 'Shipping_Cost', 'Order_Priority',\n",
        "       'Payment_method']]"
      ]
    },
    {
      "cell_type": "code",
      "execution_count": 35,
      "id": "d9570c62",
      "metadata": {
        "execution": {
          "iopub.execute_input": "2023-02-06T06:33:20.838039Z",
          "iopub.status.busy": "2023-02-06T06:33:20.837443Z",
          "iopub.status.idle": "2023-02-06T06:33:20.867292Z",
          "shell.execute_reply": "2023-02-06T06:33:20.865808Z"
        },
        "papermill": {
          "duration": 0.047499,
          "end_time": "2023-02-06T06:33:20.870396",
          "exception": false,
          "start_time": "2023-02-06T06:33:20.822897",
          "status": "completed"
        },
        "tags": [],
        "colab": {
          "base_uri": "https://localhost:8080/",
          "height": 339
        },
        "id": "d9570c62",
        "outputId": "4a120de3-4bec-4128-8a04-74e4b749cb4b"
      },
      "outputs": [
        {
          "output_type": "execute_result",
          "data": {
            "text/plain": [
              "       Order_Date      Time  Aging  Customer_Id  Gender Device_Type  \\\n",
              "51219  2018-02-25  17:33:02    3.0        93290    Male         Web   \n",
              "21446  2018-12-28  18:59:41   10.0        39103    Male         Web   \n",
              "37827  2018-04-26  20:52:35    1.0        74911  Female         Web   \n",
              "40863  2018-11-08  10:31:23    6.0        85279  Female         Web   \n",
              "22180  2018-12-01  00:00:37    2.0        22537    Male         Web   \n",
              "\n",
              "      Customer_Login_type  Product_Category       Product  Sales  Quantity  \\\n",
              "51219              Member  Home & Furniture   Sofa Covers  216.0       1.0   \n",
              "21446              Member           Fashion         Jeans  218.0       1.0   \n",
              "37827              Member           Fashion   Titak watch  228.0       3.0   \n",
              "40863              Member           Fashion   Titak watch  228.0       2.0   \n",
              "22180              Member           Fashion  Fossil Watch  159.0       2.0   \n",
              "\n",
              "       amount_spent  Discount  Profit  Shipping_Cost Order_Priority  \\\n",
              "51219         216.0       0.2   131.7           13.2         Medium   \n",
              "21446         218.0       0.5   105.3           10.5         Medium   \n",
              "37827         684.0       0.4   120.6           12.1         Medium   \n",
              "40863         456.0       0.4   129.8           13.0         Medium   \n",
              "22180         318.0       0.4    66.3            6.6         Medium   \n",
              "\n",
              "      Payment_method  \n",
              "51219    credit_card  \n",
              "21446    money_order  \n",
              "37827    money_order  \n",
              "40863    credit_card  \n",
              "22180    money_order  "
            ],
            "text/html": [
              "\n",
              "  <div id=\"df-ff1c2891-ad7c-4180-9106-2ca32baa54fc\">\n",
              "    <div class=\"colab-df-container\">\n",
              "      <div>\n",
              "<style scoped>\n",
              "    .dataframe tbody tr th:only-of-type {\n",
              "        vertical-align: middle;\n",
              "    }\n",
              "\n",
              "    .dataframe tbody tr th {\n",
              "        vertical-align: top;\n",
              "    }\n",
              "\n",
              "    .dataframe thead th {\n",
              "        text-align: right;\n",
              "    }\n",
              "</style>\n",
              "<table border=\"1\" class=\"dataframe\">\n",
              "  <thead>\n",
              "    <tr style=\"text-align: right;\">\n",
              "      <th></th>\n",
              "      <th>Order_Date</th>\n",
              "      <th>Time</th>\n",
              "      <th>Aging</th>\n",
              "      <th>Customer_Id</th>\n",
              "      <th>Gender</th>\n",
              "      <th>Device_Type</th>\n",
              "      <th>Customer_Login_type</th>\n",
              "      <th>Product_Category</th>\n",
              "      <th>Product</th>\n",
              "      <th>Sales</th>\n",
              "      <th>Quantity</th>\n",
              "      <th>amount_spent</th>\n",
              "      <th>Discount</th>\n",
              "      <th>Profit</th>\n",
              "      <th>Shipping_Cost</th>\n",
              "      <th>Order_Priority</th>\n",
              "      <th>Payment_method</th>\n",
              "    </tr>\n",
              "  </thead>\n",
              "  <tbody>\n",
              "    <tr>\n",
              "      <th>51219</th>\n",
              "      <td>2018-02-25</td>\n",
              "      <td>17:33:02</td>\n",
              "      <td>3.0</td>\n",
              "      <td>93290</td>\n",
              "      <td>Male</td>\n",
              "      <td>Web</td>\n",
              "      <td>Member</td>\n",
              "      <td>Home &amp; Furniture</td>\n",
              "      <td>Sofa Covers</td>\n",
              "      <td>216.0</td>\n",
              "      <td>1.0</td>\n",
              "      <td>216.0</td>\n",
              "      <td>0.2</td>\n",
              "      <td>131.7</td>\n",
              "      <td>13.2</td>\n",
              "      <td>Medium</td>\n",
              "      <td>credit_card</td>\n",
              "    </tr>\n",
              "    <tr>\n",
              "      <th>21446</th>\n",
              "      <td>2018-12-28</td>\n",
              "      <td>18:59:41</td>\n",
              "      <td>10.0</td>\n",
              "      <td>39103</td>\n",
              "      <td>Male</td>\n",
              "      <td>Web</td>\n",
              "      <td>Member</td>\n",
              "      <td>Fashion</td>\n",
              "      <td>Jeans</td>\n",
              "      <td>218.0</td>\n",
              "      <td>1.0</td>\n",
              "      <td>218.0</td>\n",
              "      <td>0.5</td>\n",
              "      <td>105.3</td>\n",
              "      <td>10.5</td>\n",
              "      <td>Medium</td>\n",
              "      <td>money_order</td>\n",
              "    </tr>\n",
              "    <tr>\n",
              "      <th>37827</th>\n",
              "      <td>2018-04-26</td>\n",
              "      <td>20:52:35</td>\n",
              "      <td>1.0</td>\n",
              "      <td>74911</td>\n",
              "      <td>Female</td>\n",
              "      <td>Web</td>\n",
              "      <td>Member</td>\n",
              "      <td>Fashion</td>\n",
              "      <td>Titak watch</td>\n",
              "      <td>228.0</td>\n",
              "      <td>3.0</td>\n",
              "      <td>684.0</td>\n",
              "      <td>0.4</td>\n",
              "      <td>120.6</td>\n",
              "      <td>12.1</td>\n",
              "      <td>Medium</td>\n",
              "      <td>money_order</td>\n",
              "    </tr>\n",
              "    <tr>\n",
              "      <th>40863</th>\n",
              "      <td>2018-11-08</td>\n",
              "      <td>10:31:23</td>\n",
              "      <td>6.0</td>\n",
              "      <td>85279</td>\n",
              "      <td>Female</td>\n",
              "      <td>Web</td>\n",
              "      <td>Member</td>\n",
              "      <td>Fashion</td>\n",
              "      <td>Titak watch</td>\n",
              "      <td>228.0</td>\n",
              "      <td>2.0</td>\n",
              "      <td>456.0</td>\n",
              "      <td>0.4</td>\n",
              "      <td>129.8</td>\n",
              "      <td>13.0</td>\n",
              "      <td>Medium</td>\n",
              "      <td>credit_card</td>\n",
              "    </tr>\n",
              "    <tr>\n",
              "      <th>22180</th>\n",
              "      <td>2018-12-01</td>\n",
              "      <td>00:00:37</td>\n",
              "      <td>2.0</td>\n",
              "      <td>22537</td>\n",
              "      <td>Male</td>\n",
              "      <td>Web</td>\n",
              "      <td>Member</td>\n",
              "      <td>Fashion</td>\n",
              "      <td>Fossil Watch</td>\n",
              "      <td>159.0</td>\n",
              "      <td>2.0</td>\n",
              "      <td>318.0</td>\n",
              "      <td>0.4</td>\n",
              "      <td>66.3</td>\n",
              "      <td>6.6</td>\n",
              "      <td>Medium</td>\n",
              "      <td>money_order</td>\n",
              "    </tr>\n",
              "  </tbody>\n",
              "</table>\n",
              "</div>\n",
              "      <button class=\"colab-df-convert\" onclick=\"convertToInteractive('df-ff1c2891-ad7c-4180-9106-2ca32baa54fc')\"\n",
              "              title=\"Convert this dataframe to an interactive table.\"\n",
              "              style=\"display:none;\">\n",
              "        \n",
              "  <svg xmlns=\"http://www.w3.org/2000/svg\" height=\"24px\"viewBox=\"0 0 24 24\"\n",
              "       width=\"24px\">\n",
              "    <path d=\"M0 0h24v24H0V0z\" fill=\"none\"/>\n",
              "    <path d=\"M18.56 5.44l.94 2.06.94-2.06 2.06-.94-2.06-.94-.94-2.06-.94 2.06-2.06.94zm-11 1L8.5 8.5l.94-2.06 2.06-.94-2.06-.94L8.5 2.5l-.94 2.06-2.06.94zm10 10l.94 2.06.94-2.06 2.06-.94-2.06-.94-.94-2.06-.94 2.06-2.06.94z\"/><path d=\"M17.41 7.96l-1.37-1.37c-.4-.4-.92-.59-1.43-.59-.52 0-1.04.2-1.43.59L10.3 9.45l-7.72 7.72c-.78.78-.78 2.05 0 2.83L4 21.41c.39.39.9.59 1.41.59.51 0 1.02-.2 1.41-.59l7.78-7.78 2.81-2.81c.8-.78.8-2.07 0-2.86zM5.41 20L4 18.59l7.72-7.72 1.47 1.35L5.41 20z\"/>\n",
              "  </svg>\n",
              "      </button>\n",
              "      \n",
              "  <style>\n",
              "    .colab-df-container {\n",
              "      display:flex;\n",
              "      flex-wrap:wrap;\n",
              "      gap: 12px;\n",
              "    }\n",
              "\n",
              "    .colab-df-convert {\n",
              "      background-color: #E8F0FE;\n",
              "      border: none;\n",
              "      border-radius: 50%;\n",
              "      cursor: pointer;\n",
              "      display: none;\n",
              "      fill: #1967D2;\n",
              "      height: 32px;\n",
              "      padding: 0 0 0 0;\n",
              "      width: 32px;\n",
              "    }\n",
              "\n",
              "    .colab-df-convert:hover {\n",
              "      background-color: #E2EBFA;\n",
              "      box-shadow: 0px 1px 2px rgba(60, 64, 67, 0.3), 0px 1px 3px 1px rgba(60, 64, 67, 0.15);\n",
              "      fill: #174EA6;\n",
              "    }\n",
              "\n",
              "    [theme=dark] .colab-df-convert {\n",
              "      background-color: #3B4455;\n",
              "      fill: #D2E3FC;\n",
              "    }\n",
              "\n",
              "    [theme=dark] .colab-df-convert:hover {\n",
              "      background-color: #434B5C;\n",
              "      box-shadow: 0px 1px 3px 1px rgba(0, 0, 0, 0.15);\n",
              "      filter: drop-shadow(0px 1px 2px rgba(0, 0, 0, 0.3));\n",
              "      fill: #FFFFFF;\n",
              "    }\n",
              "  </style>\n",
              "\n",
              "      <script>\n",
              "        const buttonEl =\n",
              "          document.querySelector('#df-ff1c2891-ad7c-4180-9106-2ca32baa54fc button.colab-df-convert');\n",
              "        buttonEl.style.display =\n",
              "          google.colab.kernel.accessAllowed ? 'block' : 'none';\n",
              "\n",
              "        async function convertToInteractive(key) {\n",
              "          const element = document.querySelector('#df-ff1c2891-ad7c-4180-9106-2ca32baa54fc');\n",
              "          const dataTable =\n",
              "            await google.colab.kernel.invokeFunction('convertToInteractive',\n",
              "                                                     [key], {});\n",
              "          if (!dataTable) return;\n",
              "\n",
              "          const docLinkHtml = 'Like what you see? Visit the ' +\n",
              "            '<a target=\"_blank\" href=https://colab.research.google.com/notebooks/data_table.ipynb>data table notebook</a>'\n",
              "            + ' to learn more about interactive tables.';\n",
              "          element.innerHTML = '';\n",
              "          dataTable['output_type'] = 'display_data';\n",
              "          await google.colab.output.renderOutput(dataTable, element);\n",
              "          const docLink = document.createElement('div');\n",
              "          docLink.innerHTML = docLinkHtml;\n",
              "          element.appendChild(docLink);\n",
              "        }\n",
              "      </script>\n",
              "    </div>\n",
              "  </div>\n",
              "  "
            ]
          },
          "metadata": {},
          "execution_count": 35
        }
      ],
      "source": [
        "df_small.head(5)"
      ]
    },
    {
      "cell_type": "markdown",
      "id": "58b054e0",
      "metadata": {
        "papermill": {
          "duration": 0.011866,
          "end_time": "2023-02-06T06:33:20.894331",
          "exception": false,
          "start_time": "2023-02-06T06:33:20.882465",
          "status": "completed"
        },
        "tags": [],
        "id": "58b054e0"
      },
      "source": [
        "**How much money spent by the customers?**"
      ]
    },
    {
      "cell_type": "code",
      "execution_count": 36,
      "id": "157da7cd",
      "metadata": {
        "execution": {
          "iopub.execute_input": "2023-02-06T06:33:20.920159Z",
          "iopub.status.busy": "2023-02-06T06:33:20.919628Z",
          "iopub.status.idle": "2023-02-06T06:33:21.270646Z",
          "shell.execute_reply": "2023-02-06T06:33:21.269350Z"
        },
        "papermill": {
          "duration": 0.369028,
          "end_time": "2023-02-06T06:33:21.274825",
          "exception": false,
          "start_time": "2023-02-06T06:33:20.905797",
          "status": "completed"
        },
        "tags": [],
        "colab": {
          "base_uri": "https://localhost:8080/",
          "height": 506
        },
        "id": "157da7cd",
        "outputId": "36e32081-2ceb-409e-8ad6-5c5a4700c208"
      },
      "outputs": [
        {
          "output_type": "display_data",
          "data": {
            "text/plain": [
              "<Figure size 1500x600 with 1 Axes>"
            ],
            "image/png": "[encoded data removed]"
          },
          "metadata": {}
        }
      ],
      "source": [
        "money_spent = df_small.groupby(by=['Customer_Id','Gender'], as_index=False)['amount_spent'].sum()\n",
        "\n",
        "plt.subplots(figsize=(15,6))\n",
        "plt.plot(money_spent.Customer_Id, money_spent.amount_spent)\n",
        "plt.xlabel('Customers ID')\n",
        "plt.ylabel('Money spent (Dollar)')\n",
        "plt.title('Money Spent for different Customers')\n",
        "plt.show()"
      ]
    },
    {
      "cell_type": "markdown",
      "id": "63fe6138",
      "metadata": {
        "papermill": {
          "duration": 0.012879,
          "end_time": "2023-02-06T06:33:21.300768",
          "exception": false,
          "start_time": "2023-02-06T06:33:21.287889",
          "status": "completed"
        },
        "tags": [],
        "id": "63fe6138"
      },
      "source": [
        "**Check TOP 5 highest money spent**"
      ]
    },
    {
      "cell_type": "code",
      "execution_count": 37,
      "id": "652fb654",
      "metadata": {
        "execution": {
          "iopub.execute_input": "2023-02-06T06:33:21.332354Z",
          "iopub.status.busy": "2023-02-06T06:33:21.331432Z",
          "iopub.status.idle": "2023-02-06T06:33:21.349305Z",
          "shell.execute_reply": "2023-02-06T06:33:21.347984Z"
        },
        "papermill": {
          "duration": 0.038207,
          "end_time": "2023-02-06T06:33:21.352436",
          "exception": false,
          "start_time": "2023-02-06T06:33:21.314229",
          "status": "completed"
        },
        "tags": [],
        "colab": {
          "base_uri": "https://localhost:8080/",
          "height": 223
        },
        "id": "652fb654",
        "outputId": "5c57ea9c-4cee-44ab-8ab8-07c36e521d5b"
      },
      "outputs": [
        {
          "output_type": "stream",
          "name": "stdout",
          "text": [
            "The TOP 5 customers with highest money spent\n"
          ]
        },
        {
          "output_type": "execute_result",
          "data": {
            "text/plain": [
              "     Customer_Id  Gender  amount_spent\n",
              "246        22370    Male        1855.0\n",
              "977        58443    Male        1268.0\n",
              "713        45100  Female        1250.0\n",
              "118        15473    Male        1250.0\n",
              "837        50397    Male        1250.0"
            ],
            "text/html": [
              "\n",
              "  <div id=\"df-b2a83c0d-d8ce-4f24-a663-bbee331925ea\">\n",
              "    <div class=\"colab-df-container\">\n",
              "      <div>\n",
              "<style scoped>\n",
              "    .dataframe tbody tr th:only-of-type {\n",
              "        vertical-align: middle;\n",
              "    }\n",
              "\n",
              "    .dataframe tbody tr th {\n",
              "        vertical-align: top;\n",
              "    }\n",
              "\n",
              "    .dataframe thead th {\n",
              "        text-align: right;\n",
              "    }\n",
              "</style>\n",
              "<table border=\"1\" class=\"dataframe\">\n",
              "  <thead>\n",
              "    <tr style=\"text-align: right;\">\n",
              "      <th></th>\n",
              "      <th>Customer_Id</th>\n",
              "      <th>Gender</th>\n",
              "      <th>amount_spent</th>\n",
              "    </tr>\n",
              "  </thead>\n",
              "  <tbody>\n",
              "    <tr>\n",
              "      <th>246</th>\n",
              "      <td>22370</td>\n",
              "      <td>Male</td>\n",
              "      <td>1855.0</td>\n",
              "    </tr>\n",
              "    <tr>\n",
              "      <th>977</th>\n",
              "      <td>58443</td>\n",
              "      <td>Male</td>\n",
              "      <td>1268.0</td>\n",
              "    </tr>\n",
              "    <tr>\n",
              "      <th>713</th>\n",
              "      <td>45100</td>\n",
              "      <td>Female</td>\n",
              "      <td>1250.0</td>\n",
              "    </tr>\n",
              "    <tr>\n",
              "      <th>118</th>\n",
              "      <td>15473</td>\n",
              "      <td>Male</td>\n",
              "      <td>1250.0</td>\n",
              "    </tr>\n",
              "    <tr>\n",
              "      <th>837</th>\n",
              "      <td>50397</td>\n",
              "      <td>Male</td>\n",
              "      <td>1250.0</td>\n",
              "    </tr>\n",
              "  </tbody>\n",
              "</table>\n",
              "</div>\n",
              "      <button class=\"colab-df-convert\" onclick=\"convertToInteractive('df-b2a83c0d-d8ce-4f24-a663-bbee331925ea')\"\n",
              "              title=\"Convert this dataframe to an interactive table.\"\n",
              "              style=\"display:none;\">\n",
              "        \n",
              "  <svg xmlns=\"http://www.w3.org/2000/svg\" height=\"24px\"viewBox=\"0 0 24 24\"\n",
              "       width=\"24px\">\n",
              "    <path d=\"M0 0h24v24H0V0z\" fill=\"none\"/>\n",
              "    <path d=\"M18.56 5.44l.94 2.06.94-2.06 2.06-.94-2.06-.94-.94-2.06-.94 2.06-2.06.94zm-11 1L8.5 8.5l.94-2.06 2.06-.94-2.06-.94L8.5 2.5l-.94 2.06-2.06.94zm10 10l.94 2.06.94-2.06 2.06-.94-2.06-.94-.94-2.06-.94 2.06-2.06.94z\"/><path d=\"M17.41 7.96l-1.37-1.37c-.4-.4-.92-.59-1.43-.59-.52 0-1.04.2-1.43.59L10.3 9.45l-7.72 7.72c-.78.78-.78 2.05 0 2.83L4 21.41c.39.39.9.59 1.41.59.51 0 1.02-.2 1.41-.59l7.78-7.78 2.81-2.81c.8-.78.8-2.07 0-2.86zM5.41 20L4 18.59l7.72-7.72 1.47 1.35L5.41 20z\"/>\n",
              "  </svg>\n",
              "      </button>\n",
              "      \n",
              "  <style>\n",
              "    .colab-df-container {\n",
              "      display:flex;\n",
              "      flex-wrap:wrap;\n",
              "      gap: 12px;\n",
              "    }\n",
              "\n",
              "    .colab-df-convert {\n",
              "      background-color: #E8F0FE;\n",
              "      border: none;\n",
              "      border-radius: 50%;\n",
              "      cursor: pointer;\n",
              "      display: none;\n",
              "      fill: #1967D2;\n",
              "      height: 32px;\n",
              "      padding: 0 0 0 0;\n",
              "      width: 32px;\n",
              "    }\n",
              "\n",
              "    .colab-df-convert:hover {\n",
              "      background-color: #E2EBFA;\n",
              "      box-shadow: 0px 1px 2px rgba(60, 64, 67, 0.3), 0px 1px 3px 1px rgba(60, 64, 67, 0.15);\n",
              "      fill: #174EA6;\n",
              "    }\n",
              "\n",
              "    [theme=dark] .colab-df-convert {\n",
              "      background-color: #3B4455;\n",
              "      fill: #D2E3FC;\n",
              "    }\n",
              "\n",
              "    [theme=dark] .colab-df-convert:hover {\n",
              "      background-color: #434B5C;\n",
              "      box-shadow: 0px 1px 3px 1px rgba(0, 0, 0, 0.15);\n",
              "      filter: drop-shadow(0px 1px 2px rgba(0, 0, 0, 0.3));\n",
              "      fill: #FFFFFF;\n",
              "    }\n",
              "  </style>\n",
              "\n",
              "      <script>\n",
              "        const buttonEl =\n",
              "          document.querySelector('#df-b2a83c0d-d8ce-4f24-a663-bbee331925ea button.colab-df-convert');\n",
              "        buttonEl.style.display =\n",
              "          google.colab.kernel.accessAllowed ? 'block' : 'none';\n",
              "\n",
              "        async function convertToInteractive(key) {\n",
              "          const element = document.querySelector('#df-b2a83c0d-d8ce-4f24-a663-bbee331925ea');\n",
              "          const dataTable =\n",
              "            await google.colab.kernel.invokeFunction('convertToInteractive',\n",
              "                                                     [key], {});\n",
              "          if (!dataTable) return;\n",
              "\n",
              "          const docLinkHtml = 'Like what you see? Visit the ' +\n",
              "            '<a target=\"_blank\" href=https://colab.research.google.com/notebooks/data_table.ipynb>data table notebook</a>'\n",
              "            + ' to learn more about interactive tables.';\n",
              "          element.innerHTML = '';\n",
              "          dataTable['output_type'] = 'display_data';\n",
              "          await google.colab.output.renderOutput(dataTable, element);\n",
              "          const docLink = document.createElement('div');\n",
              "          docLink.innerHTML = docLinkHtml;\n",
              "          element.appendChild(docLink);\n",
              "        }\n",
              "      </script>\n",
              "    </div>\n",
              "  </div>\n",
              "  "
            ]
          },
          "metadata": {},
          "execution_count": 37
        }
      ],
      "source": [
        "print('The TOP 5 customers with highest money spent')\n",
        "money_spent.sort_values(by='amount_spent', ascending=False).head()"
      ]
    },
    {
      "cell_type": "code",
      "execution_count": 38,
      "id": "c052610d",
      "metadata": {
        "execution": {
          "iopub.execute_input": "2023-02-06T06:33:21.383659Z",
          "iopub.status.busy": "2023-02-06T06:33:21.382781Z",
          "iopub.status.idle": "2023-02-06T06:33:21.393665Z",
          "shell.execute_reply": "2023-02-06T06:33:21.392168Z"
        },
        "papermill": {
          "duration": 0.030901,
          "end_time": "2023-02-06T06:33:21.397324",
          "exception": false,
          "start_time": "2023-02-06T06:33:21.366423",
          "status": "completed"
        },
        "tags": [],
        "id": "c052610d"
      },
      "outputs": [],
      "source": [
        "# convert the Order_Date column from string to datetime\n",
        "df_small['Order_Date'] = pd.to_datetime(df_small['Order_Date'])"
      ]
    },
    {
      "cell_type": "markdown",
      "id": "c66140fc",
      "metadata": {
        "papermill": {
          "duration": 0.013635,
          "end_time": "2023-02-06T06:33:21.425143",
          "exception": false,
          "start_time": "2023-02-06T06:33:21.411508",
          "status": "completed"
        },
        "tags": [],
        "id": "c66140fc"
      },
      "source": [
        "**Add the columns - Month, Day and Hour**"
      ]
    },
    {
      "cell_type": "code",
      "execution_count": 39,
      "id": "d1a37a5d",
      "metadata": {
        "execution": {
          "iopub.execute_input": "2023-02-06T06:33:21.455506Z",
          "iopub.status.busy": "2023-02-06T06:33:21.453857Z",
          "iopub.status.idle": "2023-02-06T06:33:21.477528Z",
          "shell.execute_reply": "2023-02-06T06:33:21.476271Z"
        },
        "papermill": {
          "duration": 0.041531,
          "end_time": "2023-02-06T06:33:21.480529",
          "exception": false,
          "start_time": "2023-02-06T06:33:21.438998",
          "status": "completed"
        },
        "tags": [],
        "id": "d1a37a5d"
      },
      "outputs": [],
      "source": [
        "df_small.insert(loc=2, column='year_month', value=df_small['Order_Date'].map(lambda x: 100*x.year + x.month))\n",
        "df_small.insert(loc=3, column='month', value=df_small.Order_Date.dt.month)\n",
        "# +1 to make Monday=1.....until Sunday=7\n",
        "df_small.insert(loc=4, column='day', value=(df_small.Order_Date.dt.dayofweek)+1)\n",
        "df_small.insert(loc=5, column='hour', value=df_small.Order_Date.dt.hour)"
      ]
    },
    {
      "cell_type": "code",
      "execution_count": 40,
      "id": "198c50fd",
      "metadata": {
        "execution": {
          "iopub.execute_input": "2023-02-06T06:33:21.511652Z",
          "iopub.status.busy": "2023-02-06T06:33:21.510175Z",
          "iopub.status.idle": "2023-02-06T06:33:21.556205Z",
          "shell.execute_reply": "2023-02-06T06:33:21.554856Z"
        },
        "papermill": {
          "duration": 0.064274,
          "end_time": "2023-02-06T06:33:21.559052",
          "exception": false,
          "start_time": "2023-02-06T06:33:21.494778",
          "status": "completed"
        },
        "tags": [],
        "colab": {
          "base_uri": "https://localhost:8080/",
          "height": 626
        },
        "id": "198c50fd",
        "outputId": "85e6a790-5abf-47d4-dd24-1eff9ccd9fd9"
      },
      "outputs": [
        {
          "output_type": "execute_result",
          "data": {
            "text/plain": [
              "      Order_Date      Time  year_month  month  day  hour  Aging  Customer_Id  \\\n",
              "51219 2018-02-25  17:33:02      201802      2    7     0    3.0        93290   \n",
              "21446 2018-12-28  18:59:41      201812     12    5     0   10.0        39103   \n",
              "37827 2018-04-26  20:52:35      201804      4    4     0    1.0        74911   \n",
              "40863 2018-11-08  10:31:23      201811     11    4     0    6.0        85279   \n",
              "22180 2018-12-01  00:00:37      201812     12    6     0    2.0        22537   \n",
              "...          ...       ...         ...    ...  ...   ...    ...          ...   \n",
              "7354  2018-10-13  19:17:49      201810     10    6     0    8.0        23741   \n",
              "3200  2018-06-27  20:56:12      201806      6    3     0    5.0        12343   \n",
              "30890 2018-06-10  19:10:18      201806      6    7     0    4.0        60529   \n",
              "26294 2018-05-19  10:55:03      201805      5    6     0    3.0        68611   \n",
              "25840 2018-05-23  20:17:09      201805      5    3     0    8.0        73855   \n",
              "\n",
              "       Gender Device_Type  ...    Product_Category       Product  Sales  \\\n",
              "51219    Male         Web  ...    Home & Furniture   Sofa Covers  216.0   \n",
              "21446    Male         Web  ...             Fashion         Jeans  218.0   \n",
              "37827  Female         Web  ...             Fashion   Titak watch  228.0   \n",
              "40863  Female         Web  ...             Fashion   Titak watch  228.0   \n",
              "22180    Male         Web  ...             Fashion  Fossil Watch  159.0   \n",
              "...       ...         ...  ...                 ...           ...    ...   \n",
              "7354     Male         Web  ...             Fashion   Sports Wear   85.0   \n",
              "3200   Female         Web  ...  Auto & Accessories    Bike Tyres   72.0   \n",
              "30890  Female         Web  ...    Home & Furniture     Umbrellas   70.0   \n",
              "26294    Male         Web  ...    Home & Furniture    Bed Sheets  211.0   \n",
              "25840    Male         Web  ...    Home & Furniture     Shoe Rack  124.0   \n",
              "\n",
              "       Quantity  amount_spent  Discount  Profit  Shipping_Cost  \\\n",
              "51219       1.0         216.0       0.2   131.7           13.2   \n",
              "21446       1.0         218.0       0.5   105.3           10.5   \n",
              "37827       3.0         684.0       0.4   120.6           12.1   \n",
              "40863       2.0         456.0       0.4   129.8           13.0   \n",
              "22180       2.0         318.0       0.4    66.3            6.6   \n",
              "...         ...           ...       ...     ...            ...   \n",
              "7354        1.0          85.0       0.5    21.3            2.1   \n",
              "3200        5.0         360.0       0.3    14.4            1.4   \n",
              "30890       1.0          70.0       0.1    14.0            1.4   \n",
              "26294       5.0        1055.0       0.2   109.9           11.0   \n",
              "25840       5.0         620.0       0.3    25.4            2.5   \n",
              "\n",
              "       Order_Priority Payment_method  \n",
              "51219          Medium    credit_card  \n",
              "21446          Medium    money_order  \n",
              "37827          Medium    money_order  \n",
              "40863          Medium    credit_card  \n",
              "22180          Medium    money_order  \n",
              "...               ...            ...  \n",
              "7354           Medium    credit_card  \n",
              "3200             High    credit_card  \n",
              "30890            High    credit_card  \n",
              "26294          Medium    money_order  \n",
              "25840          Medium    credit_card  \n",
              "\n",
              "[2051 rows x 21 columns]"
            ],
            "text/html": [
              "\n",
              "  <div id=\"df-9beee0f8-bc40-45b9-badb-01182a4a701b\">\n",
              "    <div class=\"colab-df-container\">\n",
              "      <div>\n",
              "<style scoped>\n",
              "    .dataframe tbody tr th:only-of-type {\n",
              "        vertical-align: middle;\n",
              "    }\n",
              "\n",
              "    .dataframe tbody tr th {\n",
              "        vertical-align: top;\n",
              "    }\n",
              "\n",
              "    .dataframe thead th {\n",
              "        text-align: right;\n",
              "    }\n",
              "</style>\n",
              "<table border=\"1\" class=\"dataframe\">\n",
              "  <thead>\n",
              "    <tr style=\"text-align: right;\">\n",
              "      <th></th>\n",
              "      <th>Order_Date</th>\n",
              "      <th>Time</th>\n",
              "      <th>year_month</th>\n",
              "      <th>month</th>\n",
              "      <th>day</th>\n",
              "      <th>hour</th>\n",
              "      <th>Aging</th>\n",
              "      <th>Customer_Id</th>\n",
              "      <th>Gender</th>\n",
              "      <th>Device_Type</th>\n",
              "      <th>...</th>\n",
              "      <th>Product_Category</th>\n",
              "      <th>Product</th>\n",
              "      <th>Sales</th>\n",
              "      <th>Quantity</th>\n",
              "      <th>amount_spent</th>\n",
              "      <th>Discount</th>\n",
              "      <th>Profit</th>\n",
              "      <th>Shipping_Cost</th>\n",
              "      <th>Order_Priority</th>\n",
              "      <th>Payment_method</th>\n",
              "    </tr>\n",
              "  </thead>\n",
              "  <tbody>\n",
              "    <tr>\n",
              "      <th>51219</th>\n",
              "      <td>2018-02-25</td>\n",
              "      <td>17:33:02</td>\n",
              "      <td>201802</td>\n",
              "      <td>2</td>\n",
              "      <td>7</td>\n",
              "      <td>0</td>\n",
              "      <td>3.0</td>\n",
              "      <td>93290</td>\n",
              "      <td>Male</td>\n",
              "      <td>Web</td>\n",
              "      <td>...</td>\n",
              "      <td>Home &amp; Furniture</td>\n",
              "      <td>Sofa Covers</td>\n",
              "      <td>216.0</td>\n",
              "      <td>1.0</td>\n",
              "      <td>216.0</td>\n",
              "      <td>0.2</td>\n",
              "      <td>131.7</td>\n",
              "      <td>13.2</td>\n",
              "      <td>Medium</td>\n",
              "      <td>credit_card</td>\n",
              "    </tr>\n",
              "    <tr>\n",
              "      <th>21446</th>\n",
              "      <td>2018-12-28</td>\n",
              "      <td>18:59:41</td>\n",
              "      <td>201812</td>\n",
              "      <td>12</td>\n",
              "      <td>5</td>\n",
              "      <td>0</td>\n",
              "      <td>10.0</td>\n",
              "      <td>39103</td>\n",
              "      <td>Male</td>\n",
              "      <td>Web</td>\n",
              "      <td>...</td>\n",
              "      <td>Fashion</td>\n",
              "      <td>Jeans</td>\n",
              "      <td>218.0</td>\n",
              "      <td>1.0</td>\n",
              "      <td>218.0</td>\n",
              "      <td>0.5</td>\n",
              "      <td>105.3</td>\n",
              "      <td>10.5</td>\n",
              "      <td>Medium</td>\n",
              "      <td>money_order</td>\n",
              "    </tr>\n",
              "    <tr>\n",
              "      <th>37827</th>\n",
              "      <td>2018-04-26</td>\n",
              "      <td>20:52:35</td>\n",
              "      <td>201804</td>\n",
              "      <td>4</td>\n",
              "      <td>4</td>\n",
              "      <td>0</td>\n",
              "      <td>1.0</td>\n",
              "      <td>74911</td>\n",
              "      <td>Female</td>\n",
              "      <td>Web</td>\n",
              "      <td>...</td>\n",
              "      <td>Fashion</td>\n",
              "      <td>Titak watch</td>\n",
              "      <td>228.0</td>\n",
              "      <td>3.0</td>\n",
              "      <td>684.0</td>\n",
              "      <td>0.4</td>\n",
              "      <td>120.6</td>\n",
              "      <td>12.1</td>\n",
              "      <td>Medium</td>\n",
              "      <td>money_order</td>\n",
              "    </tr>\n",
              "    <tr>\n",
              "      <th>40863</th>\n",
              "      <td>2018-11-08</td>\n",
              "      <td>10:31:23</td>\n",
              "      <td>201811</td>\n",
              "      <td>11</td>\n",
              "      <td>4</td>\n",
              "      <td>0</td>\n",
              "      <td>6.0</td>\n",
              "      <td>85279</td>\n",
              "      <td>Female</td>\n",
              "      <td>Web</td>\n",
              "      <td>...</td>\n",
              "      <td>Fashion</td>\n",
              "      <td>Titak watch</td>\n",
              "      <td>228.0</td>\n",
              "      <td>2.0</td>\n",
              "      <td>456.0</td>\n",
              "      <td>0.4</td>\n",
              "      <td>129.8</td>\n",
              "      <td>13.0</td>\n",
              "      <td>Medium</td>\n",
              "      <td>credit_card</td>\n",
              "    </tr>\n",
              "    <tr>\n",
              "      <th>22180</th>\n",
              "      <td>2018-12-01</td>\n",
              "      <td>00:00:37</td>\n",
              "      <td>201812</td>\n",
              "      <td>12</td>\n",
              "      <td>6</td>\n",
              "      <td>0</td>\n",
              "      <td>2.0</td>\n",
              "      <td>22537</td>\n",
              "      <td>Male</td>\n",
              "      <td>Web</td>\n",
              "      <td>...</td>\n",
              "      <td>Fashion</td>\n",
              "      <td>Fossil Watch</td>\n",
              "      <td>159.0</td>\n",
              "      <td>2.0</td>\n",
              "      <td>318.0</td>\n",
              "      <td>0.4</td>\n",
              "      <td>66.3</td>\n",
              "      <td>6.6</td>\n",
              "      <td>Medium</td>\n",
              "      <td>money_order</td>\n",
              "    </tr>\n",
              "    <tr>\n",
              "      <th>...</th>\n",
              "      <td>...</td>\n",
              "      <td>...</td>\n",
              "      <td>...</td>\n",
              "      <td>...</td>\n",
              "      <td>...</td>\n",
              "      <td>...</td>\n",
              "      <td>...</td>\n",
              "      <td>...</td>\n",
              "      <td>...</td>\n",
              "      <td>...</td>\n",
              "      <td>...</td>\n",
              "      <td>...</td>\n",
              "      <td>...</td>\n",
              "      <td>...</td>\n",
              "      <td>...</td>\n",
              "      <td>...</td>\n",
              "      <td>...</td>\n",
              "      <td>...</td>\n",
              "      <td>...</td>\n",
              "      <td>...</td>\n",
              "      <td>...</td>\n",
              "    </tr>\n",
              "    <tr>\n",
              "      <th>7354</th>\n",
              "      <td>2018-10-13</td>\n",
              "      <td>19:17:49</td>\n",
              "      <td>201810</td>\n",
              "      <td>10</td>\n",
              "      <td>6</td>\n",
              "      <td>0</td>\n",
              "      <td>8.0</td>\n",
              "      <td>23741</td>\n",
              "      <td>Male</td>\n",
              "      <td>Web</td>\n",
              "      <td>...</td>\n",
              "      <td>Fashion</td>\n",
              "      <td>Sports Wear</td>\n",
              "      <td>85.0</td>\n",
              "      <td>1.0</td>\n",
              "      <td>85.0</td>\n",
              "      <td>0.5</td>\n",
              "      <td>21.3</td>\n",
              "      <td>2.1</td>\n",
              "      <td>Medium</td>\n",
              "      <td>credit_card</td>\n",
              "    </tr>\n",
              "    <tr>\n",
              "      <th>3200</th>\n",
              "      <td>2018-06-27</td>\n",
              "      <td>20:56:12</td>\n",
              "      <td>201806</td>\n",
              "      <td>6</td>\n",
              "      <td>3</td>\n",
              "      <td>0</td>\n",
              "      <td>5.0</td>\n",
              "      <td>12343</td>\n",
              "      <td>Female</td>\n",
              "      <td>Web</td>\n",
              "      <td>...</td>\n",
              "      <td>Auto &amp; Accessories</td>\n",
              "      <td>Bike Tyres</td>\n",
              "      <td>72.0</td>\n",
              "      <td>5.0</td>\n",
              "      <td>360.0</td>\n",
              "      <td>0.3</td>\n",
              "      <td>14.4</td>\n",
              "      <td>1.4</td>\n",
              "      <td>High</td>\n",
              "      <td>credit_card</td>\n",
              "    </tr>\n",
              "    <tr>\n",
              "      <th>30890</th>\n",
              "      <td>2018-06-10</td>\n",
              "      <td>19:10:18</td>\n",
              "      <td>201806</td>\n",
              "      <td>6</td>\n",
              "      <td>7</td>\n",
              "      <td>0</td>\n",
              "      <td>4.0</td>\n",
              "      <td>60529</td>\n",
              "      <td>Female</td>\n",
              "      <td>Web</td>\n",
              "      <td>...</td>\n",
              "      <td>Home &amp; Furniture</td>\n",
              "      <td>Umbrellas</td>\n",
              "      <td>70.0</td>\n",
              "      <td>1.0</td>\n",
              "      <td>70.0</td>\n",
              "      <td>0.1</td>\n",
              "      <td>14.0</td>\n",
              "      <td>1.4</td>\n",
              "      <td>High</td>\n",
              "      <td>credit_card</td>\n",
              "    </tr>\n",
              "    <tr>\n",
              "      <th>26294</th>\n",
              "      <td>2018-05-19</td>\n",
              "      <td>10:55:03</td>\n",
              "      <td>201805</td>\n",
              "      <td>5</td>\n",
              "      <td>6</td>\n",
              "      <td>0</td>\n",
              "      <td>3.0</td>\n",
              "      <td>68611</td>\n",
              "      <td>Male</td>\n",
              "      <td>Web</td>\n",
              "      <td>...</td>\n",
              "      <td>Home &amp; Furniture</td>\n",
              "      <td>Bed Sheets</td>\n",
              "      <td>211.0</td>\n",
              "      <td>5.0</td>\n",
              "      <td>1055.0</td>\n",
              "      <td>0.2</td>\n",
              "      <td>109.9</td>\n",
              "      <td>11.0</td>\n",
              "      <td>Medium</td>\n",
              "      <td>money_order</td>\n",
              "    </tr>\n",
              "    <tr>\n",
              "      <th>25840</th>\n",
              "      <td>2018-05-23</td>\n",
              "      <td>20:17:09</td>\n",
              "      <td>201805</td>\n",
              "      <td>5</td>\n",
              "      <td>3</td>\n",
              "      <td>0</td>\n",
              "      <td>8.0</td>\n",
              "      <td>73855</td>\n",
              "      <td>Male</td>\n",
              "      <td>Web</td>\n",
              "      <td>...</td>\n",
              "      <td>Home &amp; Furniture</td>\n",
              "      <td>Shoe Rack</td>\n",
              "      <td>124.0</td>\n",
              "      <td>5.0</td>\n",
              "      <td>620.0</td>\n",
              "      <td>0.3</td>\n",
              "      <td>25.4</td>\n",
              "      <td>2.5</td>\n",
              "      <td>Medium</td>\n",
              "      <td>credit_card</td>\n",
              "    </tr>\n",
              "  </tbody>\n",
              "</table>\n",
              "<p>2051 rows × 21 columns</p>\n",
              "</div>\n",
              "      <button class=\"colab-df-convert\" onclick=\"convertToInteractive('df-9beee0f8-bc40-45b9-badb-01182a4a701b')\"\n",
              "              title=\"Convert this dataframe to an interactive table.\"\n",
              "              style=\"display:none;\">\n",
              "        \n",
              "  <svg xmlns=\"http://www.w3.org/2000/svg\" height=\"24px\"viewBox=\"0 0 24 24\"\n",
              "       width=\"24px\">\n",
              "    <path d=\"M0 0h24v24H0V0z\" fill=\"none\"/>\n",
              "    <path d=\"M18.56 5.44l.94 2.06.94-2.06 2.06-.94-2.06-.94-.94-2.06-.94 2.06-2.06.94zm-11 1L8.5 8.5l.94-2.06 2.06-.94-2.06-.94L8.5 2.5l-.94 2.06-2.06.94zm10 10l.94 2.06.94-2.06 2.06-.94-2.06-.94-.94-2.06-.94 2.06-2.06.94z\"/><path d=\"M17.41 7.96l-1.37-1.37c-.4-.4-.92-.59-1.43-.59-.52 0-1.04.2-1.43.59L10.3 9.45l-7.72 7.72c-.78.78-.78 2.05 0 2.83L4 21.41c.39.39.9.59 1.41.59.51 0 1.02-.2 1.41-.59l7.78-7.78 2.81-2.81c.8-.78.8-2.07 0-2.86zM5.41 20L4 18.59l7.72-7.72 1.47 1.35L5.41 20z\"/>\n",
              "  </svg>\n",
              "      </button>\n",
              "      \n",
              "  <style>\n",
              "    .colab-df-container {\n",
              "      display:flex;\n",
              "      flex-wrap:wrap;\n",
              "      gap: 12px;\n",
              "    }\n",
              "\n",
              "    .colab-df-convert {\n",
              "      background-color: #E8F0FE;\n",
              "      border: none;\n",
              "      border-radius: 50%;\n",
              "      cursor: pointer;\n",
              "      display: none;\n",
              "      fill: #1967D2;\n",
              "      height: 32px;\n",
              "      padding: 0 0 0 0;\n",
              "      width: 32px;\n",
              "    }\n",
              "\n",
              "    .colab-df-convert:hover {\n",
              "      background-color: #E2EBFA;\n",
              "      box-shadow: 0px 1px 2px rgba(60, 64, 67, 0.3), 0px 1px 3px 1px rgba(60, 64, 67, 0.15);\n",
              "      fill: #174EA6;\n",
              "    }\n",
              "\n",
              "    [theme=dark] .colab-df-convert {\n",
              "      background-color: #3B4455;\n",
              "      fill: #D2E3FC;\n",
              "    }\n",
              "\n",
              "    [theme=dark] .colab-df-convert:hover {\n",
              "      background-color: #434B5C;\n",
              "      box-shadow: 0px 1px 3px 1px rgba(0, 0, 0, 0.15);\n",
              "      filter: drop-shadow(0px 1px 2px rgba(0, 0, 0, 0.3));\n",
              "      fill: #FFFFFF;\n",
              "    }\n",
              "  </style>\n",
              "\n",
              "      <script>\n",
              "        const buttonEl =\n",
              "          document.querySelector('#df-9beee0f8-bc40-45b9-badb-01182a4a701b button.colab-df-convert');\n",
              "        buttonEl.style.display =\n",
              "          google.colab.kernel.accessAllowed ? 'block' : 'none';\n",
              "\n",
              "        async function convertToInteractive(key) {\n",
              "          const element = document.querySelector('#df-9beee0f8-bc40-45b9-badb-01182a4a701b');\n",
              "          const dataTable =\n",
              "            await google.colab.kernel.invokeFunction('convertToInteractive',\n",
              "                                                     [key], {});\n",
              "          if (!dataTable) return;\n",
              "\n",
              "          const docLinkHtml = 'Like what you see? Visit the ' +\n",
              "            '<a target=\"_blank\" href=https://colab.research.google.com/notebooks/data_table.ipynb>data table notebook</a>'\n",
              "            + ' to learn more about interactive tables.';\n",
              "          element.innerHTML = '';\n",
              "          dataTable['output_type'] = 'display_data';\n",
              "          await google.colab.output.renderOutput(dataTable, element);\n",
              "          const docLink = document.createElement('div');\n",
              "          docLink.innerHTML = docLinkHtml;\n",
              "          element.appendChild(docLink);\n",
              "        }\n",
              "      </script>\n",
              "    </div>\n",
              "  </div>\n",
              "  "
            ]
          },
          "metadata": {},
          "execution_count": 40
        }
      ],
      "source": [
        "df_small"
      ]
    },
    {
      "cell_type": "code",
      "execution_count": 41,
      "id": "d7c7513c",
      "metadata": {
        "execution": {
          "iopub.execute_input": "2023-02-06T06:33:21.591156Z",
          "iopub.status.busy": "2023-02-06T06:33:21.589635Z",
          "iopub.status.idle": "2023-02-06T06:33:21.836772Z",
          "shell.execute_reply": "2023-02-06T06:33:21.835044Z"
        },
        "papermill": {
          "duration": 0.266236,
          "end_time": "2023-02-06T06:33:21.840251",
          "exception": false,
          "start_time": "2023-02-06T06:33:21.574015",
          "status": "completed"
        },
        "tags": [],
        "colab": {
          "base_uri": "https://localhost:8080/",
          "height": 607
        },
        "id": "d7c7513c",
        "outputId": "3d930608-b812-46af-9968-3eb45e95b954"
      },
      "outputs": [
        {
          "output_type": "execute_result",
          "data": {
            "text/plain": [
              "Text(0, 0.5, 'Number of Order Priority')"
            ]
          },
          "metadata": {},
          "execution_count": 41
        },
        {
          "output_type": "display_data",
          "data": {
            "text/plain": [
              "<Figure size 640x480 with 1 Axes>"
            ],
            "image/png": "[encoded data removed]"
          },
          "metadata": {}
        }
      ],
      "source": [
        "# Plot a bar graph of the order priority for each product category\n",
        "df_small.groupby('Product_Category').count()['Order_Priority'].plot(kind='bar')\n",
        "\n",
        "# Add a title and axis labels to the graph\n",
        "plt.title(\"Order Priority by Product Category\")\n",
        "plt.xlabel(\"Product Category\")\n",
        "plt.ylabel(\"Number of Order Priority\")"
      ]
    },
    {
      "cell_type": "code",
      "execution_count": 42,
      "id": "8c9dfd48",
      "metadata": {
        "execution": {
          "iopub.execute_input": "2023-02-06T06:33:21.873351Z",
          "iopub.status.busy": "2023-02-06T06:33:21.872767Z",
          "iopub.status.idle": "2023-02-06T06:33:22.095651Z",
          "shell.execute_reply": "2023-02-06T06:33:22.094157Z"
        },
        "papermill": {
          "duration": 0.244087,
          "end_time": "2023-02-06T06:33:22.099320",
          "exception": false,
          "start_time": "2023-02-06T06:33:21.855233",
          "status": "completed"
        },
        "tags": [],
        "colab": {
          "base_uri": "https://localhost:8080/",
          "height": 472
        },
        "id": "8c9dfd48",
        "outputId": "27cc1b98-cd11-46f5-8970-b27027836a34"
      },
      "outputs": [
        {
          "output_type": "display_data",
          "data": {
            "text/plain": [
              "<Figure size 640x480 with 1 Axes>"
            ],
            "image/png": "[encoded data removed]"
          },
          "metadata": {}
        }
      ],
      "source": [
        "# Plot a histogram of the age of customers\n",
        "df_small['Aging'].plot(kind='hist')\n",
        "\n",
        "# Add a title and axis labels to the graph\n",
        "plt.title(\"Age Distribution of Customers\")\n",
        "plt.xlabel(\"Age\")\n",
        "plt.ylabel(\"Number of Customers\")\n",
        "\n",
        "# Show the plot\n",
        "plt.show()"
      ]
    },
    {
      "cell_type": "code",
      "execution_count": 43,
      "id": "efc076aa",
      "metadata": {
        "execution": {
          "iopub.execute_input": "2023-02-06T06:33:22.130853Z",
          "iopub.status.busy": "2023-02-06T06:33:22.130338Z",
          "iopub.status.idle": "2023-02-06T06:33:22.345895Z",
          "shell.execute_reply": "2023-02-06T06:33:22.344495Z"
        },
        "papermill": {
          "duration": 0.234724,
          "end_time": "2023-02-06T06:33:22.348620",
          "exception": false,
          "start_time": "2023-02-06T06:33:22.113896",
          "status": "completed"
        },
        "tags": [],
        "colab": {
          "base_uri": "https://localhost:8080/",
          "height": 472
        },
        "id": "efc076aa",
        "outputId": "b1e994c2-2b25-44e3-90c7-431418a35517"
      },
      "outputs": [
        {
          "output_type": "display_data",
          "data": {
            "text/plain": [
              "<Figure size 640x480 with 1 Axes>"
            ],
            "image/png": "[encoded data removed]"
          },
          "metadata": {}
        }
      ],
      "source": [
        "# Plot a scatter plot of  vs. age\n",
        "df_small.plot(kind='scatter', x='Product_Category', y='Sales')\n",
        "\n",
        "# Add a title and axis labels to the graph\n",
        "plt.title(\"Sales vs. Product Category\")\n",
        "plt.xlabel(\"Product Category\")\n",
        "plt.ylabel(\"Sales\")\n",
        "\n",
        "# Show the plot\n",
        "plt.show()"
      ]
    },
    {
      "cell_type": "code",
      "execution_count": 44,
      "id": "f12060a2",
      "metadata": {
        "execution": {
          "iopub.execute_input": "2023-02-06T06:33:22.381543Z",
          "iopub.status.busy": "2023-02-06T06:33:22.380280Z",
          "iopub.status.idle": "2023-02-06T06:33:22.957903Z",
          "shell.execute_reply": "2023-02-06T06:33:22.956416Z"
        },
        "papermill": {
          "duration": 0.597177,
          "end_time": "2023-02-06T06:33:22.960852",
          "exception": false,
          "start_time": "2023-02-06T06:33:22.363675",
          "status": "completed"
        },
        "tags": [],
        "colab": {
          "base_uri": "https://localhost:8080/",
          "height": 607
        },
        "id": "f12060a2",
        "outputId": "7afb0f96-bca4-4505-f75f-3a808fe6b093"
      },
      "outputs": [
        {
          "output_type": "display_data",
          "data": {
            "text/plain": [
              "<Figure size 600x600 with 3 Axes>"
            ],
            "image/png": "[encoded data removed]"
          },
          "metadata": {}
        }
      ],
      "source": [
        "# Plot a scatter plot of sales vs. age\n",
        "sns.jointplot(x='Aging', y='Sales', data=df_small)\n",
        "\n",
        "# Show the plot\n",
        "plt.show()"
      ]
    },
    {
      "cell_type": "code",
      "execution_count": 45,
      "id": "f00afcfc",
      "metadata": {
        "execution": {
          "iopub.execute_input": "2023-02-06T06:33:22.996296Z",
          "iopub.status.busy": "2023-02-06T06:33:22.995332Z",
          "iopub.status.idle": "2023-02-06T06:33:23.213912Z",
          "shell.execute_reply": "2023-02-06T06:33:23.210721Z"
        },
        "papermill": {
          "duration": 0.24089,
          "end_time": "2023-02-06T06:33:23.217461",
          "exception": false,
          "start_time": "2023-02-06T06:33:22.976571",
          "status": "completed"
        },
        "tags": [],
        "colab": {
          "base_uri": "https://localhost:8080/",
          "height": 527
        },
        "id": "f00afcfc",
        "outputId": "0f666e2e-0447-4e5f-acf8-c1c269efea2f"
      },
      "outputs": [
        {
          "output_type": "stream",
          "name": "stderr",
          "text": [
            "<ipython-input-45-745e1cd64f88>:2: FutureWarning: The default value of numeric_only in DataFrameGroupBy.mean is deprecated. In a future version, numeric_only will default to False. Either specify numeric_only or select only columns which should be valid for the function.\n",
            "  df_small.groupby(['month']).mean()['Sales'].plot(kind='line')\n"
          ]
        },
        {
          "output_type": "display_data",
          "data": {
            "text/plain": [
              "<Figure size 640x480 with 1 Axes>"
            ],
            "image/png": "[encoded data removed]"
          },
          "metadata": {}
        }
      ],
      "source": [
        "# Plot a line graph of the average sales of products over time\n",
        "df_small.groupby(['month']).mean()['Sales'].plot(kind='line')\n",
        "\n",
        "# Add a title and axis labels to the graph\n",
        "plt.title(\"Average Product Sales over Month\")\n",
        "plt.xlabel(\"Month\")\n",
        "plt.ylabel(\"Average Sales\")\n",
        "\n",
        "# Show the plot\n",
        "plt.show()"
      ]
    },
    {
      "cell_type": "code",
      "execution_count": 46,
      "id": "126a52d3",
      "metadata": {
        "execution": {
          "iopub.execute_input": "2023-02-06T06:33:23.253166Z",
          "iopub.status.busy": "2023-02-06T06:33:23.251945Z",
          "iopub.status.idle": "2023-02-06T06:33:23.544051Z",
          "shell.execute_reply": "2023-02-06T06:33:23.542575Z"
        },
        "papermill": {
          "duration": 0.314411,
          "end_time": "2023-02-06T06:33:23.547684",
          "exception": false,
          "start_time": "2023-02-06T06:33:23.233273",
          "status": "completed"
        },
        "tags": [],
        "colab": {
          "base_uri": "https://localhost:8080/",
          "height": 472
        },
        "id": "126a52d3",
        "outputId": "8b006059-5442-4183-b891-ae38c88623be"
      },
      "outputs": [
        {
          "output_type": "display_data",
          "data": {
            "text/plain": [
              "<Figure size 640x480 with 1 Axes>"
            ],
            "image/png": "[encoded data removed]"
          },
          "metadata": {}
        }
      ],
      "source": [
        "#Plot a line graph of the number of customers bought product category over time\n",
        "df_small.groupby(['month', 'Product_Category']).count()['Customer_Id'].unstack().plot(kind='line')\n",
        "\n",
        "# Add a title and axis labels to the graph\n",
        "plt.title(\"Number of Customers bought Product Category over Time\")\n",
        "plt.xlabel(\"Month\")\n",
        "plt.ylabel(\"Number of Customers\")\n",
        "\n",
        "# Show the plot\n",
        "plt.show()"
      ]
    },
    {
      "cell_type": "code",
      "source": [],
      "metadata": {
        "id": "gHzMpZBx8gBt"
      },
      "id": "gHzMpZBx8gBt",
      "execution_count": 46,
      "outputs": []
    }
  ],
  "metadata": {
    "kernelspec": {
      "display_name": "Python 3",
      "language": "python",
      "name": "python3"
    },
    "language_info": {
      "codemirror_mode": {
        "name": "ipython",
        "version": 3
      },
      "file_extension": ".py",
      "mimetype": "text/x-python",
      "name": "python",
      "nbconvert_exporter": "python",
      "pygments_lexer": "ipython3",
      "version": "3.7.12"
    },
    "papermill": {
      "default_parameters": {},
      "duration": 16.919506,
      "end_time": "2023-02-06T06:33:24.691680",
      "environment_variables": {},
      "exception": null,
      "input_path": "__notebook__.ipynb",
      "output_path": "__notebook__.ipynb",
      "parameters": {},
      "start_time": "2023-02-06T06:33:07.772174",
      "version": "2.3.4"
    },
    "colab": {
      "provenance": []
    }
  },
  "nbformat": 4,
  "nbformat_minor": 5
}