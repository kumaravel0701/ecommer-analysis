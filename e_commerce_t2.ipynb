{
  "cells": [
    {
      "cell_type": "code",
      "execution_count": 1,
      "id": "41975f44",
      "metadata": {
        "_cell_guid": "b1076dfc-b9ad-4769-8c92-a6c4dae69d19",
        "_uuid": "8f2839f25d086af736a60e9eeb907d3b93b6e0e5",
        "execution": {
          "iopub.execute_input": "2023-02-06T06:33:18.335028Z",
          "iopub.status.busy": "2023-02-06T06:33:18.333542Z",
          "iopub.status.idle": "2023-02-06T06:33:19.572438Z",
          "shell.execute_reply": "2023-02-06T06:33:19.570935Z"
        },
        "papermill": {
          "duration": 1.256104,
          "end_time": "2023-02-06T06:33:19.576231",
          "exception": false,
          "start_time": "2023-02-06T06:33:18.320127",
          "status": "completed"
        },
        "tags": [],
        "id": "41975f44"
      },
      "outputs": [],
      "source": [
        "import numpy as np # linear algebra\n",
        "import pandas as pd # data processing, CSV file I/O (e.g. pd.read_csv)\n",
        "import matplotlib.pyplot as plt\n",
        "import seaborn as sns\n",
        "\n",
        "import gc\n",
        "import datetime"
      ]
    },
    {
      "cell_type": "code",
      "execution_count": 3,
      "id": "3175eb3b",
      "metadata": {
        "execution": {
          "iopub.execute_input": "2023-02-06T06:33:19.597700Z",
          "iopub.status.busy": "2023-02-06T06:33:19.596747Z",
          "iopub.status.idle": "2023-02-06T06:33:19.884407Z",
          "shell.execute_reply": "2023-02-06T06:33:19.883213Z"
        },
        "papermill": {
          "duration": 0.301743,
          "end_time": "2023-02-06T06:33:19.887726",
          "exception": false,
          "start_time": "2023-02-06T06:33:19.585983",
          "status": "completed"
        },
        "tags": [],
        "id": "3175eb3b"
      },
      "outputs": [],
      "source": [
        "df = pd.read_csv('E-commerce Dataset.csv')"
      ]
    },
    {
      "cell_type": "code",
      "execution_count": 4,
      "id": "0857dbdb",
      "metadata": {
        "execution": {
          "iopub.execute_input": "2023-02-06T06:33:19.908850Z",
          "iopub.status.busy": "2023-02-06T06:33:19.908282Z",
          "iopub.status.idle": "2023-02-06T06:33:19.966976Z",
          "shell.execute_reply": "2023-02-06T06:33:19.965573Z"
        },
        "papermill": {
          "duration": 0.073493,
          "end_time": "2023-02-06T06:33:19.970583",
          "exception": false,
          "start_time": "2023-02-06T06:33:19.897090",
          "status": "completed"
        },
        "tags": [],
        "colab": {
          "base_uri": "https://localhost:8080/"
        },
        "id": "0857dbdb",
        "outputId": "1934f584-1caf-4200-8ec0-a172e0aee52c"
      },
      "outputs": [
        {
          "output_type": "stream",
          "name": "stdout",
          "text": [
            "<class 'pandas.core.frame.DataFrame'>\n",
            "RangeIndex: 51290 entries, 0 to 51289\n",
            "Data columns (total 16 columns):\n",
            " #   Column               Non-Null Count  Dtype  \n",
            "---  ------               --------------  -----  \n",
            " 0   Order_Date           51290 non-null  object \n",
            " 1   Time                 51290 non-null  object \n",
            " 2   Aging                51289 non-null  float64\n",
            " 3   Customer_Id          51290 non-null  int64  \n",
            " 4   Gender               51290 non-null  object \n",
            " 5   Device_Type          51290 non-null  object \n",
            " 6   Customer_Login_type  51290 non-null  object \n",
            " 7   Product_Category     51290 non-null  object \n",
            " 8   Product              51290 non-null  object \n",
            " 9   Sales                51289 non-null  float64\n",
            " 10  Quantity             51288 non-null  float64\n",
            " 11  Discount             51289 non-null  float64\n",
            " 12  Profit               51290 non-null  float64\n",
            " 13  Shipping_Cost        51289 non-null  float64\n",
            " 14  Order_Priority       51288 non-null  object \n",
            " 15  Payment_method       51290 non-null  object \n",
            "dtypes: float64(6), int64(1), object(9)\n",
            "memory usage: 6.3+ MB\n"
          ]
        }
      ],
      "source": [
        "df.info()"
      ]
    },
    {
      "cell_type": "code",
      "execution_count": 5,
      "id": "e5b7b9fa",
      "metadata": {
        "execution": {
          "iopub.execute_input": "2023-02-06T06:33:19.992099Z",
          "iopub.status.busy": "2023-02-06T06:33:19.991489Z",
          "iopub.status.idle": "2023-02-06T06:33:20.026076Z",
          "shell.execute_reply": "2023-02-06T06:33:20.024565Z"
        },
        "papermill": {
          "duration": 0.048629,
          "end_time": "2023-02-06T06:33:20.029331",
          "exception": false,
          "start_time": "2023-02-06T06:33:19.980702",
          "status": "completed"
        },
        "tags": [],
        "colab": {
          "base_uri": "https://localhost:8080/",
          "height": 374
        },
        "id": "e5b7b9fa",
        "outputId": "c9854943-58f1-43d5-d587-03d376fd5a79"
      },
      "outputs": [
        {
          "output_type": "execute_result",
          "data": {
            "text/plain": [
              "   Order_Date      Time  Aging  Customer_Id  Gender Device_Type  \\\n",
              "0  2018-01-02  10:56:33    8.0        37077  Female         Web   \n",
              "1  2018-07-24  20:41:37    2.0        59173  Female         Web   \n",
              "2  2018-11-08  08:38:49    8.0        41066  Female         Web   \n",
              "3  2018-04-18  19:28:06    7.0        50741  Female         Web   \n",
              "4  2018-08-13  21:18:39    9.0        53639  Female         Web   \n",
              "\n",
              "  Customer_Login_type    Product_Category            Product  Sales  Quantity  \\\n",
              "0              Member  Auto & Accessories  Car Media Players  140.0       1.0   \n",
              "1              Member  Auto & Accessories       Car Speakers  211.0       1.0   \n",
              "2              Member  Auto & Accessories    Car Body Covers  117.0       5.0   \n",
              "3              Member  Auto & Accessories    Car & Bike Care  118.0       1.0   \n",
              "4              Member  Auto & Accessories               Tyre  250.0       1.0   \n",
              "\n",
              "   Discount  Profit  Shipping_Cost Order_Priority Payment_method  \n",
              "0       0.3    46.0            4.6         Medium    credit_card  \n",
              "1       0.3   112.0           11.2         Medium    credit_card  \n",
              "2       0.1    31.2            3.1       Critical    credit_card  \n",
              "3       0.3    26.2            2.6           High    credit_card  \n",
              "4       0.3   160.0           16.0       Critical    credit_card  "
            ],
            "text/html": [
              "\n",
              "  <div id=\"df-fbeeaf12-8af6-4371-a1a9-de0a07b182ba\">\n",
              "    <div class=\"colab-df-container\">\n",
              "      <div>\n",
              "<style scoped>\n",
              "    .dataframe tbody tr th:only-of-type {\n",
              "        vertical-align: middle;\n",
              "    }\n",
              "\n",
              "    .dataframe tbody tr th {\n",
              "        vertical-align: top;\n",
              "    }\n",
              "\n",
              "    .dataframe thead th {\n",
              "        text-align: right;\n",
              "    }\n",
              "</style>\n",
              "<table border=\"1\" class=\"dataframe\">\n",
              "  <thead>\n",
              "    <tr style=\"text-align: right;\">\n",
              "      <th></th>\n",
              "      <th>Order_Date</th>\n",
              "      <th>Time</th>\n",
              "      <th>Aging</th>\n",
              "      <th>Customer_Id</th>\n",
              "      <th>Gender</th>\n",
              "      <th>Device_Type</th>\n",
              "      <th>Customer_Login_type</th>\n",
              "      <th>Product_Category</th>\n",
              "      <th>Product</th>\n",
              "      <th>Sales</th>\n",
              "      <th>Quantity</th>\n",
              "      <th>Discount</th>\n",
              "      <th>Profit</th>\n",
              "      <th>Shipping_Cost</th>\n",
              "      <th>Order_Priority</th>\n",
              "      <th>Payment_method</th>\n",
              "    </tr>\n",
              "  </thead>\n",
              "  <tbody>\n",
              "    <tr>\n",
              "      <th>0</th>\n",
              "      <td>2018-01-02</td>\n",
              "      <td>10:56:33</td>\n",
              "      <td>8.0</td>\n",
              "      <td>37077</td>\n",
              "      <td>Female</td>\n",
              "      <td>Web</td>\n",
              "      <td>Member</td>\n",
              "      <td>Auto &amp; Accessories</td>\n",
              "      <td>Car Media Players</td>\n",
              "      <td>140.0</td>\n",
              "      <td>1.0</td>\n",
              "      <td>0.3</td>\n",
              "      <td>46.0</td>\n",
              "      <td>4.6</td>\n",
              "      <td>Medium</td>\n",
              "      <td>credit_card</td>\n",
              "    </tr>\n",
              "    <tr>\n",
              "      <th>1</th>\n",
              "      <td>2018-07-24</td>\n",
              "      <td>20:41:37</td>\n",
              "      <td>2.0</td>\n",
              "      <td>59173</td>\n",
              "      <td>Female</td>\n",
              "      <td>Web</td>\n",
              "      <td>Member</td>\n",
              "      <td>Auto &amp; Accessories</td>\n",
              "      <td>Car Speakers</td>\n",
              "      <td>211.0</td>\n",
              "      <td>1.0</td>\n",
              "      <td>0.3</td>\n",
              "      <td>112.0</td>\n",
              "      <td>11.2</td>\n",
              "      <td>Medium</td>\n",
              "      <td>credit_card</td>\n",
              "    </tr>\n",
              "    <tr>\n",
              "      <th>2</th>\n",
              "      <td>2018-11-08</td>\n",
              "      <td>08:38:49</td>\n",
              "      <td>8.0</td>\n",
              "      <td>41066</td>\n",
              "      <td>Female</td>\n",
              "      <td>Web</td>\n",
              "      <td>Member</td>\n",
              "      <td>Auto &amp; Accessories</td>\n",
              "      <td>Car Body Covers</td>\n",
              "      <td>117.0</td>\n",
              "      <td>5.0</td>\n",
              "      <td>0.1</td>\n",
              "      <td>31.2</td>\n",
              "      <td>3.1</td>\n",
              "      <td>Critical</td>\n",
              "      <td>credit_card</td>\n",
              "    </tr>\n",
              "    <tr>\n",
              "      <th>3</th>\n",
              "      <td>2018-04-18</td>\n",
              "      <td>19:28:06</td>\n",
              "      <td>7.0</td>\n",
              "      <td>50741</td>\n",
              "      <td>Female</td>\n",
              "      <td>Web</td>\n",
              "      <td>Member</td>\n",
              "      <td>Auto &amp; Accessories</td>\n",
              "      <td>Car &amp; Bike Care</td>\n",
              "      <td>118.0</td>\n",
              "      <td>1.0</td>\n",
              "      <td>0.3</td>\n",
              "      <td>26.2</td>\n",
              "      <td>2.6</td>\n",
              "      <td>High</td>\n",
              "      <td>credit_card</td>\n",
              "    </tr>\n",
              "    <tr>\n",
              "      <th>4</th>\n",
              "      <td>2018-08-13</td>\n",
              "      <td>21:18:39</td>\n",
              "      <td>9.0</td>\n",
              "      <td>53639</td>\n",
              "      <td>Female</td>\n",
              "      <td>Web</td>\n",
              "      <td>Member</td>\n",
              "      <td>Auto &amp; Accessories</td>\n",
              "      <td>Tyre</td>\n",
              "      <td>250.0</td>\n",
              "      <td>1.0</td>\n",
              "      <td>0.3</td>\n",
              "      <td>160.0</td>\n",
              "      <td>16.0</td>\n",
              "      <td>Critical</td>\n",
              "      <td>credit_card</td>\n",
              "    </tr>\n",
              "  </tbody>\n",
              "</table>\n",
              "</div>\n",
              "      <button class=\"colab-df-convert\" onclick=\"convertToInteractive('df-fbeeaf12-8af6-4371-a1a9-de0a07b182ba')\"\n",
              "              title=\"Convert this dataframe to an interactive table.\"\n",
              "              style=\"display:none;\">\n",
              "        \n",
              "  <svg xmlns=\"http://www.w3.org/2000/svg\" height=\"24px\"viewBox=\"0 0 24 24\"\n",
              "       width=\"24px\">\n",
              "    <path d=\"M0 0h24v24H0V0z\" fill=\"none\"/>\n",
              "    <path d=\"M18.56 5.44l.94 2.06.94-2.06 2.06-.94-2.06-.94-.94-2.06-.94 2.06-2.06.94zm-11 1L8.5 8.5l.94-2.06 2.06-.94-2.06-.94L8.5 2.5l-.94 2.06-2.06.94zm10 10l.94 2.06.94-2.06 2.06-.94-2.06-.94-.94-2.06-.94 2.06-2.06.94z\"/><path d=\"M17.41 7.96l-1.37-1.37c-.4-.4-.92-.59-1.43-.59-.52 0-1.04.2-1.43.59L10.3 9.45l-7.72 7.72c-.78.78-.78 2.05 0 2.83L4 21.41c.39.39.9.59 1.41.59.51 0 1.02-.2 1.41-.59l7.78-7.78 2.81-2.81c.8-.78.8-2.07 0-2.86zM5.41 20L4 18.59l7.72-7.72 1.47 1.35L5.41 20z\"/>\n",
              "  </svg>\n",
              "      </button>\n",
              "      \n",
              "  <style>\n",
              "    .colab-df-container {\n",
              "      display:flex;\n",
              "      flex-wrap:wrap;\n",
              "      gap: 12px;\n",
              "    }\n",
              "\n",
              "    .colab-df-convert {\n",
              "      background-color: #E8F0FE;\n",
              "      border: none;\n",
              "      border-radius: 50%;\n",
              "      cursor: pointer;\n",
              "      display: none;\n",
              "      fill: #1967D2;\n",
              "      height: 32px;\n",
              "      padding: 0 0 0 0;\n",
              "      width: 32px;\n",
              "    }\n",
              "\n",
              "    .colab-df-convert:hover {\n",
              "      background-color: #E2EBFA;\n",
              "      box-shadow: 0px 1px 2px rgba(60, 64, 67, 0.3), 0px 1px 3px 1px rgba(60, 64, 67, 0.15);\n",
              "      fill: #174EA6;\n",
              "    }\n",
              "\n",
              "    [theme=dark] .colab-df-convert {\n",
              "      background-color: #3B4455;\n",
              "      fill: #D2E3FC;\n",
              "    }\n",
              "\n",
              "    [theme=dark] .colab-df-convert:hover {\n",
              "      background-color: #434B5C;\n",
              "      box-shadow: 0px 1px 3px 1px rgba(0, 0, 0, 0.15);\n",
              "      filter: drop-shadow(0px 1px 2px rgba(0, 0, 0, 0.3));\n",
              "      fill: #FFFFFF;\n",
              "    }\n",
              "  </style>\n",
              "\n",
              "      <script>\n",
              "        const buttonEl =\n",
              "          document.querySelector('#df-fbeeaf12-8af6-4371-a1a9-de0a07b182ba button.colab-df-convert');\n",
              "        buttonEl.style.display =\n",
              "          google.colab.kernel.accessAllowed ? 'block' : 'none';\n",
              "\n",
              "        async function convertToInteractive(key) {\n",
              "          const element = document.querySelector('#df-fbeeaf12-8af6-4371-a1a9-de0a07b182ba');\n",
              "          const dataTable =\n",
              "            await google.colab.kernel.invokeFunction('convertToInteractive',\n",
              "                                                     [key], {});\n",
              "          if (!dataTable) return;\n",
              "\n",
              "          const docLinkHtml = 'Like what you see? Visit the ' +\n",
              "            '<a target=\"_blank\" href=https://colab.research.google.com/notebooks/data_table.ipynb>data table notebook</a>'\n",
              "            + ' to learn more about interactive tables.';\n",
              "          element.innerHTML = '';\n",
              "          dataTable['output_type'] = 'display_data';\n",
              "          await google.colab.output.renderOutput(dataTable, element);\n",
              "          const docLink = document.createElement('div');\n",
              "          docLink.innerHTML = docLinkHtml;\n",
              "          element.appendChild(docLink);\n",
              "        }\n",
              "      </script>\n",
              "    </div>\n",
              "  </div>\n",
              "  "
            ]
          },
          "metadata": {},
          "execution_count": 5
        }
      ],
      "source": [
        "df.head(5)"
      ]
    },
    {
      "cell_type": "code",
      "execution_count": 6,
      "id": "b02a9620",
      "metadata": {
        "execution": {
          "iopub.execute_input": "2023-02-06T06:33:20.050262Z",
          "iopub.status.busy": "2023-02-06T06:33:20.049661Z",
          "iopub.status.idle": "2023-02-06T06:33:20.058445Z",
          "shell.execute_reply": "2023-02-06T06:33:20.057134Z"
        },
        "papermill": {
          "duration": 0.022297,
          "end_time": "2023-02-06T06:33:20.061094",
          "exception": false,
          "start_time": "2023-02-06T06:33:20.038797",
          "status": "completed"
        },
        "tags": [],
        "colab": {
          "base_uri": "https://localhost:8080/"
        },
        "id": "b02a9620",
        "outputId": "5a302162-ea6e-43b2-b746-cd82ce92411e"
      },
      "outputs": [
        {
          "output_type": "execute_result",
          "data": {
            "text/plain": [
              "(51290, 16)"
            ]
          },
          "metadata": {},
          "execution_count": 6
        }
      ],
      "source": [
        "df.shape"
      ]
    },
    {
      "cell_type": "code",
      "execution_count": 7,
      "id": "0666c506",
      "metadata": {
        "execution": {
          "iopub.execute_input": "2023-02-06T06:33:20.082160Z",
          "iopub.status.busy": "2023-02-06T06:33:20.081638Z",
          "iopub.status.idle": "2023-02-06T06:33:20.115541Z",
          "shell.execute_reply": "2023-02-06T06:33:20.114171Z"
        },
        "papermill": {
          "duration": 0.04786,
          "end_time": "2023-02-06T06:33:20.118509",
          "exception": false,
          "start_time": "2023-02-06T06:33:20.070649",
          "status": "completed"
        },
        "tags": [],
        "colab": {
          "base_uri": "https://localhost:8080/"
        },
        "id": "0666c506",
        "outputId": "6836d472-1d0c-4aa9-cd3b-ac4b82299a63"
      },
      "outputs": [
        {
          "output_type": "execute_result",
          "data": {
            "text/plain": [
              "Order_Date             0\n",
              "Time                   0\n",
              "Aging                  1\n",
              "Customer_Id            0\n",
              "Gender                 0\n",
              "Device_Type            0\n",
              "Customer_Login_type    0\n",
              "Product_Category       0\n",
              "Product                0\n",
              "Sales                  1\n",
              "Quantity               2\n",
              "Discount               1\n",
              "Profit                 0\n",
              "Shipping_Cost          1\n",
              "Order_Priority         2\n",
              "Payment_method         0\n",
              "dtype: int64"
            ]
          },
          "metadata": {},
          "execution_count": 7
        }
      ],
      "source": [
        "df.isnull().sum()"
      ]
    },
    {
      "cell_type": "code",
      "execution_count": 8,
      "id": "0797fffb",
      "metadata": {
        "execution": {
          "iopub.execute_input": "2023-02-06T06:33:20.139944Z",
          "iopub.status.busy": "2023-02-06T06:33:20.139407Z",
          "iopub.status.idle": "2023-02-06T06:33:20.152829Z",
          "shell.execute_reply": "2023-02-06T06:33:20.151470Z"
        },
        "papermill": {
          "duration": 0.027487,
          "end_time": "2023-02-06T06:33:20.155683",
          "exception": false,
          "start_time": "2023-02-06T06:33:20.128196",
          "status": "completed"
        },
        "tags": [],
        "colab": {
          "base_uri": "https://localhost:8080/"
        },
        "id": "0797fffb",
        "outputId": "f7a86540-c256-4641-a1ad-bf925a4f7fb7"
      },
      "outputs": [
        {
          "output_type": "execute_result",
          "data": {
            "text/plain": [
              "Index(['Aging', 'Customer_Id', 'Sales', 'Quantity', 'Discount', 'Profit',\n",
              "       'Shipping_Cost'],\n",
              "      dtype='object')"
            ]
          },
          "metadata": {},
          "execution_count": 8
        }
      ],
      "source": [
        "df.select_dtypes(include=['int64','float64']).columns"
      ]
    },
    {
      "cell_type": "code",
      "execution_count": 9,
      "id": "08b5d1f8",
      "metadata": {
        "execution": {
          "iopub.execute_input": "2023-02-06T06:33:20.178937Z",
          "iopub.status.busy": "2023-02-06T06:33:20.178440Z",
          "iopub.status.idle": "2023-02-06T06:33:20.195418Z",
          "shell.execute_reply": "2023-02-06T06:33:20.194403Z"
        },
        "papermill": {
          "duration": 0.031467,
          "end_time": "2023-02-06T06:33:20.198116",
          "exception": false,
          "start_time": "2023-02-06T06:33:20.166649",
          "status": "completed"
        },
        "tags": [],
        "colab": {
          "base_uri": "https://localhost:8080/"
        },
        "id": "08b5d1f8",
        "outputId": "059bc184-6709-41c4-ee8a-9b7ff41c1558"
      },
      "outputs": [
        {
          "output_type": "execute_result",
          "data": {
            "text/plain": [
              "Index(['Order_Date', 'Time', 'Gender', 'Device_Type', 'Customer_Login_type',\n",
              "       'Product_Category', 'Product', 'Order_Priority', 'Payment_method'],\n",
              "      dtype='object')"
            ]
          },
          "metadata": {},
          "execution_count": 9
        }
      ],
      "source": [
        "df.select_dtypes(include=['object']).columns"
      ]
    },
    {
      "cell_type": "code",
      "execution_count": 10,
      "id": "b0704278",
      "metadata": {
        "execution": {
          "iopub.execute_input": "2023-02-06T06:33:20.222485Z",
          "iopub.status.busy": "2023-02-06T06:33:20.221458Z",
          "iopub.status.idle": "2023-02-06T06:33:20.263687Z",
          "shell.execute_reply": "2023-02-06T06:33:20.262024Z"
        },
        "papermill": {
          "duration": 0.058468,
          "end_time": "2023-02-06T06:33:20.267506",
          "exception": false,
          "start_time": "2023-02-06T06:33:20.209038",
          "status": "completed"
        },
        "tags": [],
        "id": "b0704278"
      },
      "outputs": [],
      "source": [
        "# df_new without missing values\n",
        "df_new = df.dropna()"
      ]
    },
    {
      "cell_type": "code",
      "execution_count": 11,
      "id": "0ad81e0f",
      "metadata": {
        "execution": {
          "iopub.execute_input": "2023-02-06T06:33:20.290084Z",
          "iopub.status.busy": "2023-02-06T06:33:20.289566Z",
          "iopub.status.idle": "2023-02-06T06:33:20.323342Z",
          "shell.execute_reply": "2023-02-06T06:33:20.322165Z"
        },
        "papermill": {
          "duration": 0.048348,
          "end_time": "2023-02-06T06:33:20.326263",
          "exception": false,
          "start_time": "2023-02-06T06:33:20.277915",
          "status": "completed"
        },
        "tags": [],
        "colab": {
          "base_uri": "https://localhost:8080/"
        },
        "id": "0ad81e0f",
        "outputId": "37a91e81-154e-4234-dd2e-4bd7d79f3efb"
      },
      "outputs": [
        {
          "output_type": "execute_result",
          "data": {
            "text/plain": [
              "Order_Date             0\n",
              "Time                   0\n",
              "Aging                  0\n",
              "Customer_Id            0\n",
              "Gender                 0\n",
              "Device_Type            0\n",
              "Customer_Login_type    0\n",
              "Product_Category       0\n",
              "Product                0\n",
              "Sales                  0\n",
              "Quantity               0\n",
              "Discount               0\n",
              "Profit                 0\n",
              "Shipping_Cost          0\n",
              "Order_Priority         0\n",
              "Payment_method         0\n",
              "dtype: int64"
            ]
          },
          "metadata": {},
          "execution_count": 11
        }
      ],
      "source": [
        "# check missing values for each column \n",
        "df_new.isnull().sum().sort_values(ascending=False)"
      ]
    },
    {
      "cell_type": "code",
      "execution_count": 12,
      "id": "f142b563",
      "metadata": {
        "execution": {
          "iopub.execute_input": "2023-02-06T06:33:20.349368Z",
          "iopub.status.busy": "2023-02-06T06:33:20.348112Z",
          "iopub.status.idle": "2023-02-06T06:33:20.356484Z",
          "shell.execute_reply": "2023-02-06T06:33:20.355142Z"
        },
        "papermill": {
          "duration": 0.022753,
          "end_time": "2023-02-06T06:33:20.359163",
          "exception": false,
          "start_time": "2023-02-06T06:33:20.336410",
          "status": "completed"
        },
        "tags": [],
        "colab": {
          "base_uri": "https://localhost:8080/"
        },
        "id": "f142b563",
        "outputId": "582a6ca7-616d-40b2-8bd7-968282ff700d"
      },
      "outputs": [
        {
          "output_type": "execute_result",
          "data": {
            "text/plain": [
              "(51282, 16)"
            ]
          },
          "metadata": {},
          "execution_count": 12
        }
      ],
      "source": [
        "df_new.shape"
      ]
    },
    {
      "cell_type": "code",
      "execution_count": 13,
      "id": "204021bf",
      "metadata": {
        "execution": {
          "iopub.execute_input": "2023-02-06T06:33:20.382818Z",
          "iopub.status.busy": "2023-02-06T06:33:20.382248Z",
          "iopub.status.idle": "2023-02-06T06:33:20.424185Z",
          "shell.execute_reply": "2023-02-06T06:33:20.422395Z"
        },
        "papermill": {
          "duration": 0.058154,
          "end_time": "2023-02-06T06:33:20.427543",
          "exception": false,
          "start_time": "2023-02-06T06:33:20.369389",
          "status": "completed"
        },
        "tags": [],
        "colab": {
          "base_uri": "https://localhost:8080/"
        },
        "id": "204021bf",
        "outputId": "7167d7eb-3f7e-4101-a6f7-5df7d309d3b3"
      },
      "outputs": [
        {
          "output_type": "stream",
          "name": "stdout",
          "text": [
            "<class 'pandas.core.frame.DataFrame'>\n",
            "Int64Index: 51282 entries, 0 to 51289\n",
            "Data columns (total 16 columns):\n",
            " #   Column               Non-Null Count  Dtype  \n",
            "---  ------               --------------  -----  \n",
            " 0   Order_Date           51282 non-null  object \n",
            " 1   Time                 51282 non-null  object \n",
            " 2   Aging                51282 non-null  float64\n",
            " 3   Customer_Id          51282 non-null  int64  \n",
            " 4   Gender               51282 non-null  object \n",
            " 5   Device_Type          51282 non-null  object \n",
            " 6   Customer_Login_type  51282 non-null  object \n",
            " 7   Product_Category     51282 non-null  object \n",
            " 8   Product              51282 non-null  object \n",
            " 9   Sales                51282 non-null  float64\n",
            " 10  Quantity             51282 non-null  float64\n",
            " 11  Discount             51282 non-null  float64\n",
            " 12  Profit               51282 non-null  float64\n",
            " 13  Shipping_Cost        51282 non-null  float64\n",
            " 14  Order_Priority       51282 non-null  object \n",
            " 15  Payment_method       51282 non-null  object \n",
            "dtypes: float64(6), int64(1), object(9)\n",
            "memory usage: 6.7+ MB\n"
          ]
        }
      ],
      "source": [
        "df_new.info()"
      ]
    },
    {
      "cell_type": "code",
      "execution_count": 14,
      "id": "9f717816",
      "metadata": {
        "execution": {
          "iopub.execute_input": "2023-02-06T06:33:20.450345Z",
          "iopub.status.busy": "2023-02-06T06:33:20.449758Z",
          "iopub.status.idle": "2023-02-06T06:33:20.516599Z",
          "shell.execute_reply": "2023-02-06T06:33:20.515128Z"
        },
        "papermill": {
          "duration": 0.082172,
          "end_time": "2023-02-06T06:33:20.519945",
          "exception": false,
          "start_time": "2023-02-06T06:33:20.437773",
          "status": "completed"
        },
        "tags": [],
        "colab": {
          "base_uri": "https://localhost:8080/",
          "height": 300
        },
        "id": "9f717816",
        "outputId": "a4c10e43-f126-401c-bff7-3cca090c76d7"
      },
      "outputs": [
        {
          "output_type": "execute_result",
          "data": {
            "text/plain": [
              "          Aging  Customer_Id     Sales  Quantity  Discount    Profit  \\\n",
              "count  51282.00     51282.00  51282.00  51282.00  51282.00  51282.00   \n",
              "mean       5.26     58159.75    152.34      2.50      0.30     70.40   \n",
              "std        2.96     26031.76     66.49      1.51      0.13     48.73   \n",
              "min        1.00     10000.00     33.00      1.00      0.10      0.50   \n",
              "25%        3.00     35841.50     85.00      1.00      0.20     24.90   \n",
              "50%        5.00     61021.50    133.00      2.00      0.30     59.90   \n",
              "75%        8.00     80739.25    218.00      4.00      0.40    118.40   \n",
              "max       10.50     99999.00    250.00      5.00      0.50    167.50   \n",
              "\n",
              "       Shipping_Cost  \n",
              "count       51282.00  \n",
              "mean            7.04  \n",
              "std             4.87  \n",
              "min             0.10  \n",
              "25%             2.50  \n",
              "50%             6.00  \n",
              "75%            11.80  \n",
              "max            16.80  "
            ],
            "text/html": [
              "\n",
              "  <div id=\"df-f6ea5779-9e41-43ff-ae31-a3d767f10799\">\n",
              "    <div class=\"colab-df-container\">\n",
              "      <div>\n",
              "<style scoped>\n",
              "    .dataframe tbody tr th:only-of-type {\n",
              "        vertical-align: middle;\n",
              "    }\n",
              "\n",
              "    .dataframe tbody tr th {\n",
              "        vertical-align: top;\n",
              "    }\n",
              "\n",
              "    .dataframe thead th {\n",
              "        text-align: right;\n",
              "    }\n",
              "</style>\n",
              "<table border=\"1\" class=\"dataframe\">\n",
              "  <thead>\n",
              "    <tr style=\"text-align: right;\">\n",
              "      <th></th>\n",
              "      <th>Aging</th>\n",
              "      <th>Customer_Id</th>\n",
              "      <th>Sales</th>\n",
              "      <th>Quantity</th>\n",
              "      <th>Discount</th>\n",
              "      <th>Profit</th>\n",
              "      <th>Shipping_Cost</th>\n",
              "    </tr>\n",
              "  </thead>\n",
              "  <tbody>\n",
              "    <tr>\n",
              "      <th>count</th>\n",
              "      <td>51282.00</td>\n",
              "      <td>51282.00</td>\n",
              "      <td>51282.00</td>\n",
              "      <td>51282.00</td>\n",
              "      <td>51282.00</td>\n",
              "      <td>51282.00</td>\n",
              "      <td>51282.00</td>\n",
              "    </tr>\n",
              "    <tr>\n",
              "      <th>mean</th>\n",
              "      <td>5.26</td>\n",
              "      <td>58159.75</td>\n",
              "      <td>152.34</td>\n",
              "      <td>2.50</td>\n",
              "      <td>0.30</td>\n",
              "      <td>70.40</td>\n",
              "      <td>7.04</td>\n",
              "    </tr>\n",
              "    <tr>\n",
              "      <th>std</th>\n",
              "      <td>2.96</td>\n",
              "      <td>26031.76</td>\n",
              "      <td>66.49</td>\n",
              "      <td>1.51</td>\n",
              "      <td>0.13</td>\n",
              "      <td>48.73</td>\n",
              "      <td>4.87</td>\n",
              "    </tr>\n",
              "    <tr>\n",
              "      <th>min</th>\n",
              "      <td>1.00</td>\n",
              "      <td>10000.00</td>\n",
              "      <td>33.00</td>\n",
              "      <td>1.00</td>\n",
              "      <td>0.10</td>\n",
              "      <td>0.50</td>\n",
              "      <td>0.10</td>\n",
              "    </tr>\n",
              "    <tr>\n",
              "      <th>25%</th>\n",
              "      <td>3.00</td>\n",
              "      <td>35841.50</td>\n",
              "      <td>85.00</td>\n",
              "      <td>1.00</td>\n",
              "      <td>0.20</td>\n",
              "      <td>24.90</td>\n",
              "      <td>2.50</td>\n",
              "    </tr>\n",
              "    <tr>\n",
              "      <th>50%</th>\n",
              "      <td>5.00</td>\n",
              "      <td>61021.50</td>\n",
              "      <td>133.00</td>\n",
              "      <td>2.00</td>\n",
              "      <td>0.30</td>\n",
              "      <td>59.90</td>\n",
              "      <td>6.00</td>\n",
              "    </tr>\n",
              "    <tr>\n",
              "      <th>75%</th>\n",
              "      <td>8.00</td>\n",
              "      <td>80739.25</td>\n",
              "      <td>218.00</td>\n",
              "      <td>4.00</td>\n",
              "      <td>0.40</td>\n",
              "      <td>118.40</td>\n",
              "      <td>11.80</td>\n",
              "    </tr>\n",
              "    <tr>\n",
              "      <th>max</th>\n",
              "      <td>10.50</td>\n",
              "      <td>99999.00</td>\n",
              "      <td>250.00</td>\n",
              "      <td>5.00</td>\n",
              "      <td>0.50</td>\n",
              "      <td>167.50</td>\n",
              "      <td>16.80</td>\n",
              "    </tr>\n",
              "  </tbody>\n",
              "</table>\n",
              "</div>\n",
              "      <button class=\"colab-df-convert\" onclick=\"convertToInteractive('df-f6ea5779-9e41-43ff-ae31-a3d767f10799')\"\n",
              "              title=\"Convert this dataframe to an interactive table.\"\n",
              "              style=\"display:none;\">\n",
              "        \n",
              "  <svg xmlns=\"http://www.w3.org/2000/svg\" height=\"24px\"viewBox=\"0 0 24 24\"\n",
              "       width=\"24px\">\n",
              "    <path d=\"M0 0h24v24H0V0z\" fill=\"none\"/>\n",
              "    <path d=\"M18.56 5.44l.94 2.06.94-2.06 2.06-.94-2.06-.94-.94-2.06-.94 2.06-2.06.94zm-11 1L8.5 8.5l.94-2.06 2.06-.94-2.06-.94L8.5 2.5l-.94 2.06-2.06.94zm10 10l.94 2.06.94-2.06 2.06-.94-2.06-.94-.94-2.06-.94 2.06-2.06.94z\"/><path d=\"M17.41 7.96l-1.37-1.37c-.4-.4-.92-.59-1.43-.59-.52 0-1.04.2-1.43.59L10.3 9.45l-7.72 7.72c-.78.78-.78 2.05 0 2.83L4 21.41c.39.39.9.59 1.41.59.51 0 1.02-.2 1.41-.59l7.78-7.78 2.81-2.81c.8-.78.8-2.07 0-2.86zM5.41 20L4 18.59l7.72-7.72 1.47 1.35L5.41 20z\"/>\n",
              "  </svg>\n",
              "      </button>\n",
              "      \n",
              "  <style>\n",
              "    .colab-df-container {\n",
              "      display:flex;\n",
              "      flex-wrap:wrap;\n",
              "      gap: 12px;\n",
              "    }\n",
              "\n",
              "    .colab-df-convert {\n",
              "      background-color: #E8F0FE;\n",
              "      border: none;\n",
              "      border-radius: 50%;\n",
              "      cursor: pointer;\n",
              "      display: none;\n",
              "      fill: #1967D2;\n",
              "      height: 32px;\n",
              "      padding: 0 0 0 0;\n",
              "      width: 32px;\n",
              "    }\n",
              "\n",
              "    .colab-df-convert:hover {\n",
              "      background-color: #E2EBFA;\n",
              "      box-shadow: 0px 1px 2px rgba(60, 64, 67, 0.3), 0px 1px 3px 1px rgba(60, 64, 67, 0.15);\n",
              "      fill: #174EA6;\n",
              "    }\n",
              "\n",
              "    [theme=dark] .colab-df-convert {\n",
              "      background-color: #3B4455;\n",
              "      fill: #D2E3FC;\n",
              "    }\n",
              "\n",
              "    [theme=dark] .colab-df-convert:hover {\n",
              "      background-color: #434B5C;\n",
              "      box-shadow: 0px 1px 3px 1px rgba(0, 0, 0, 0.15);\n",
              "      filter: drop-shadow(0px 1px 2px rgba(0, 0, 0, 0.3));\n",
              "      fill: #FFFFFF;\n",
              "    }\n",
              "  </style>\n",
              "\n",
              "      <script>\n",
              "        const buttonEl =\n",
              "          document.querySelector('#df-f6ea5779-9e41-43ff-ae31-a3d767f10799 button.colab-df-convert');\n",
              "        buttonEl.style.display =\n",
              "          google.colab.kernel.accessAllowed ? 'block' : 'none';\n",
              "\n",
              "        async function convertToInteractive(key) {\n",
              "          const element = document.querySelector('#df-f6ea5779-9e41-43ff-ae31-a3d767f10799');\n",
              "          const dataTable =\n",
              "            await google.colab.kernel.invokeFunction('convertToInteractive',\n",
              "                                                     [key], {});\n",
              "          if (!dataTable) return;\n",
              "\n",
              "          const docLinkHtml = 'Like what you see? Visit the ' +\n",
              "            '<a target=\"_blank\" href=https://colab.research.google.com/notebooks/data_table.ipynb>data table notebook</a>'\n",
              "            + ' to learn more about interactive tables.';\n",
              "          element.innerHTML = '';\n",
              "          dataTable['output_type'] = 'display_data';\n",
              "          await google.colab.output.renderOutput(dataTable, element);\n",
              "          const docLink = document.createElement('div');\n",
              "          docLink.innerHTML = docLinkHtml;\n",
              "          element.appendChild(docLink);\n",
              "        }\n",
              "      </script>\n",
              "    </div>\n",
              "  </div>\n",
              "  "
            ]
          },
          "metadata": {},
          "execution_count": 14
        }
      ],
      "source": [
        "df_new.describe().round(2)"
      ]
    },
    {
      "cell_type": "code",
      "execution_count": null,
      "id": "8509a1e2",
      "metadata": {
        "execution": {
          "iopub.execute_input": "2023-02-06T06:33:20.543889Z",
          "iopub.status.busy": "2023-02-06T06:33:20.543396Z",
          "iopub.status.idle": "2023-02-06T06:33:20.555027Z",
          "shell.execute_reply": "2023-02-06T06:33:20.553770Z"
        },
        "papermill": {
          "duration": 0.027604,
          "end_time": "2023-02-06T06:33:20.558085",
          "exception": false,
          "start_time": "2023-02-06T06:33:20.530481",
          "status": "completed"
        },
        "tags": [],
        "id": "8509a1e2"
      },
      "outputs": [],
      "source": [
        "df_small = df_new.sample(frac=0.04)"
      ]
    },
    {
      "cell_type": "code",
      "execution_count": null,
      "id": "badf0116",
      "metadata": {
        "execution": {
          "iopub.execute_input": "2023-02-06T06:33:20.582158Z",
          "iopub.status.busy": "2023-02-06T06:33:20.581255Z",
          "iopub.status.idle": "2023-02-06T06:33:20.587967Z",
          "shell.execute_reply": "2023-02-06T06:33:20.587031Z"
        },
        "papermill": {
          "duration": 0.021541,
          "end_time": "2023-02-06T06:33:20.590402",
          "exception": false,
          "start_time": "2023-02-06T06:33:20.568861",
          "status": "completed"
        },
        "tags": [],
        "id": "badf0116",
        "outputId": "12ebbe8d-41bb-4ad6-8cd6-dc412951c5fc"
      },
      "outputs": [
        {
          "data": {
            "text/plain": [
              "(2051, 16)"
            ]
          },
          "execution_count": 15,
          "metadata": {},
          "output_type": "execute_result"
        }
      ],
      "source": [
        "df_small.shape"
      ]
    },
    {
      "cell_type": "code",
      "execution_count": null,
      "id": "a143a47d",
      "metadata": {
        "execution": {
          "iopub.execute_input": "2023-02-06T06:33:20.615675Z",
          "iopub.status.busy": "2023-02-06T06:33:20.614569Z",
          "iopub.status.idle": "2023-02-06T06:33:20.622611Z",
          "shell.execute_reply": "2023-02-06T06:33:20.621177Z"
        },
        "papermill": {
          "duration": 0.024278,
          "end_time": "2023-02-06T06:33:20.625478",
          "exception": false,
          "start_time": "2023-02-06T06:33:20.601200",
          "status": "completed"
        },
        "tags": [],
        "id": "a143a47d",
        "outputId": "559e65c4-36fc-49a0-dd0b-7a2a38a549f8"
      },
      "outputs": [
        {
          "data": {
            "text/plain": [
              "(51282, 16)"
            ]
          },
          "execution_count": 16,
          "metadata": {},
          "output_type": "execute_result"
        }
      ],
      "source": [
        "df_new.shape"
      ]
    },
    {
      "cell_type": "markdown",
      "id": "fde1cd0b",
      "metadata": {
        "papermill": {
          "duration": 0.010799,
          "end_time": "2023-02-06T06:33:20.647606",
          "exception": false,
          "start_time": "2023-02-06T06:33:20.636807",
          "status": "completed"
        },
        "tags": [],
        "id": "fde1cd0b"
      },
      "source": [
        "**Add the column - amount_spent**"
      ]
    },
    {
      "cell_type": "code",
      "execution_count": null,
      "id": "a624a633",
      "metadata": {
        "execution": {
          "iopub.execute_input": "2023-02-06T06:33:20.672376Z",
          "iopub.status.busy": "2023-02-06T06:33:20.671394Z",
          "iopub.status.idle": "2023-02-06T06:33:20.681733Z",
          "shell.execute_reply": "2023-02-06T06:33:20.680420Z"
        },
        "papermill": {
          "duration": 0.026458,
          "end_time": "2023-02-06T06:33:20.684906",
          "exception": false,
          "start_time": "2023-02-06T06:33:20.658448",
          "status": "completed"
        },
        "tags": [],
        "id": "a624a633"
      },
      "outputs": [],
      "source": [
        "df_small['amount_spent'] = df_new['Quantity'] * df_new['Sales']"
      ]
    },
    {
      "cell_type": "code",
      "execution_count": null,
      "id": "5fd7b3d2",
      "metadata": {
        "execution": {
          "iopub.execute_input": "2023-02-06T06:33:20.709958Z",
          "iopub.status.busy": "2023-02-06T06:33:20.708899Z",
          "iopub.status.idle": "2023-02-06T06:33:20.717071Z",
          "shell.execute_reply": "2023-02-06T06:33:20.716000Z"
        },
        "papermill": {
          "duration": 0.024135,
          "end_time": "2023-02-06T06:33:20.719835",
          "exception": false,
          "start_time": "2023-02-06T06:33:20.695700",
          "status": "completed"
        },
        "tags": [],
        "id": "5fd7b3d2",
        "outputId": "afd15cc1-bcc8-43fd-c19d-7390e8c9a4e0"
      },
      "outputs": [
        {
          "data": {
            "text/plain": [
              "Index(['Order_Date', 'Time', 'Aging', 'Customer_Id', 'Gender', 'Device_Type',\n",
              "       'Customer_Login_type', 'Product_Category', 'Product', 'Sales',\n",
              "       'Quantity', 'Discount', 'Profit', 'Shipping_Cost', 'Order_Priority',\n",
              "       'Payment_method', 'amount_spent'],\n",
              "      dtype='object')"
            ]
          },
          "execution_count": 18,
          "metadata": {},
          "output_type": "execute_result"
        }
      ],
      "source": [
        "df_small.keys()"
      ]
    },
    {
      "cell_type": "code",
      "execution_count": null,
      "id": "1d43350a",
      "metadata": {
        "execution": {
          "iopub.execute_input": "2023-02-06T06:33:20.744945Z",
          "iopub.status.busy": "2023-02-06T06:33:20.743982Z",
          "iopub.status.idle": "2023-02-06T06:33:20.770134Z",
          "shell.execute_reply": "2023-02-06T06:33:20.768988Z"
        },
        "papermill": {
          "duration": 0.04234,
          "end_time": "2023-02-06T06:33:20.773168",
          "exception": false,
          "start_time": "2023-02-06T06:33:20.730828",
          "status": "completed"
        },
        "tags": [],
        "id": "1d43350a",
        "outputId": "90609765-883a-4670-99fa-2ed2d0bf248d"
      },
      "outputs": [
        {
          "data": {
            "text/html": [
              "<div>\n",
              "<style scoped>\n",
              "    .dataframe tbody tr th:only-of-type {\n",
              "        vertical-align: middle;\n",
              "    }\n",
              "\n",
              "    .dataframe tbody tr th {\n",
              "        vertical-align: top;\n",
              "    }\n",
              "\n",
              "    .dataframe thead th {\n",
              "        text-align: right;\n",
              "    }\n",
              "</style>\n",
              "<table border=\"1\" class=\"dataframe\">\n",
              "  <thead>\n",
              "    <tr style=\"text-align: right;\">\n",
              "      <th></th>\n",
              "      <th>Order_Date</th>\n",
              "      <th>Time</th>\n",
              "      <th>Aging</th>\n",
              "      <th>Customer_Id</th>\n",
              "      <th>Gender</th>\n",
              "      <th>Device_Type</th>\n",
              "      <th>Customer_Login_type</th>\n",
              "      <th>Product_Category</th>\n",
              "      <th>Product</th>\n",
              "      <th>Sales</th>\n",
              "      <th>Quantity</th>\n",
              "      <th>Discount</th>\n",
              "      <th>Profit</th>\n",
              "      <th>Shipping_Cost</th>\n",
              "      <th>Order_Priority</th>\n",
              "      <th>Payment_method</th>\n",
              "      <th>amount_spent</th>\n",
              "    </tr>\n",
              "  </thead>\n",
              "  <tbody>\n",
              "    <tr>\n",
              "      <th>28385</th>\n",
              "      <td>2018-04-26</td>\n",
              "      <td>20:28:28</td>\n",
              "      <td>5.0</td>\n",
              "      <td>84578</td>\n",
              "      <td>Female</td>\n",
              "      <td>Web</td>\n",
              "      <td>Member</td>\n",
              "      <td>Home &amp; Furniture</td>\n",
              "      <td>Curtains</td>\n",
              "      <td>34.0</td>\n",
              "      <td>1.0</td>\n",
              "      <td>0.2</td>\n",
              "      <td>17.0</td>\n",
              "      <td>1.7</td>\n",
              "      <td>Medium</td>\n",
              "      <td>credit_card</td>\n",
              "      <td>34.0</td>\n",
              "    </tr>\n",
              "    <tr>\n",
              "      <th>19793</th>\n",
              "      <td>2018-04-04</td>\n",
              "      <td>17:29:15</td>\n",
              "      <td>8.0</td>\n",
              "      <td>25315</td>\n",
              "      <td>Female</td>\n",
              "      <td>Web</td>\n",
              "      <td>Member</td>\n",
              "      <td>Electronic</td>\n",
              "      <td>LED</td>\n",
              "      <td>192.0</td>\n",
              "      <td>1.0</td>\n",
              "      <td>0.2</td>\n",
              "      <td>92.8</td>\n",
              "      <td>9.3</td>\n",
              "      <td>Medium</td>\n",
              "      <td>credit_card</td>\n",
              "      <td>192.0</td>\n",
              "    </tr>\n",
              "    <tr>\n",
              "      <th>39672</th>\n",
              "      <td>2018-11-06</td>\n",
              "      <td>22:57:33</td>\n",
              "      <td>9.0</td>\n",
              "      <td>86708</td>\n",
              "      <td>Female</td>\n",
              "      <td>Web</td>\n",
              "      <td>Member</td>\n",
              "      <td>Fashion</td>\n",
              "      <td>Running Shoes</td>\n",
              "      <td>224.0</td>\n",
              "      <td>2.0</td>\n",
              "      <td>0.5</td>\n",
              "      <td>121.6</td>\n",
              "      <td>12.2</td>\n",
              "      <td>Medium</td>\n",
              "      <td>credit_card</td>\n",
              "      <td>448.0</td>\n",
              "    </tr>\n",
              "    <tr>\n",
              "      <th>31635</th>\n",
              "      <td>2018-11-22</td>\n",
              "      <td>17:22:35</td>\n",
              "      <td>5.0</td>\n",
              "      <td>78735</td>\n",
              "      <td>Female</td>\n",
              "      <td>Web</td>\n",
              "      <td>Member</td>\n",
              "      <td>Home &amp; Furniture</td>\n",
              "      <td>Towels</td>\n",
              "      <td>228.0</td>\n",
              "      <td>1.0</td>\n",
              "      <td>0.4</td>\n",
              "      <td>138.9</td>\n",
              "      <td>13.9</td>\n",
              "      <td>Medium</td>\n",
              "      <td>credit_card</td>\n",
              "      <td>228.0</td>\n",
              "    </tr>\n",
              "    <tr>\n",
              "      <th>24580</th>\n",
              "      <td>2018-07-23</td>\n",
              "      <td>12:58:28</td>\n",
              "      <td>3.0</td>\n",
              "      <td>20022</td>\n",
              "      <td>Male</td>\n",
              "      <td>Mobile</td>\n",
              "      <td>Member</td>\n",
              "      <td>Fashion</td>\n",
              "      <td>Shirts</td>\n",
              "      <td>196.0</td>\n",
              "      <td>2.0</td>\n",
              "      <td>0.1</td>\n",
              "      <td>112.1</td>\n",
              "      <td>11.2</td>\n",
              "      <td>High</td>\n",
              "      <td>credit_card</td>\n",
              "      <td>392.0</td>\n",
              "    </tr>\n",
              "  </tbody>\n",
              "</table>\n",
              "</div>"
            ],
            "text/plain": [
              "       Order_Date      Time  Aging  Customer_Id  Gender Device_Type  \\\n",
              "28385  2018-04-26  20:28:28    5.0        84578  Female         Web   \n",
              "19793  2018-04-04  17:29:15    8.0        25315  Female         Web   \n",
              "39672  2018-11-06  22:57:33    9.0        86708  Female         Web   \n",
              "31635  2018-11-22  17:22:35    5.0        78735  Female         Web   \n",
              "24580  2018-07-23  12:58:28    3.0        20022    Male      Mobile   \n",
              "\n",
              "      Customer_Login_type  Product_Category        Product  Sales  Quantity  \\\n",
              "28385              Member  Home & Furniture       Curtains   34.0       1.0   \n",
              "19793              Member        Electronic            LED  192.0       1.0   \n",
              "39672              Member           Fashion  Running Shoes  224.0       2.0   \n",
              "31635              Member  Home & Furniture         Towels  228.0       1.0   \n",
              "24580              Member           Fashion         Shirts  196.0       2.0   \n",
              "\n",
              "       Discount  Profit  Shipping_Cost Order_Priority Payment_method  \\\n",
              "28385       0.2    17.0            1.7         Medium    credit_card   \n",
              "19793       0.2    92.8            9.3         Medium    credit_card   \n",
              "39672       0.5   121.6           12.2         Medium    credit_card   \n",
              "31635       0.4   138.9           13.9         Medium    credit_card   \n",
              "24580       0.1   112.1           11.2           High    credit_card   \n",
              "\n",
              "       amount_spent  \n",
              "28385          34.0  \n",
              "19793         192.0  \n",
              "39672         448.0  \n",
              "31635         228.0  \n",
              "24580         392.0  "
            ]
          },
          "execution_count": 19,
          "metadata": {},
          "output_type": "execute_result"
        }
      ],
      "source": [
        "df_small.head()"
      ]
    },
    {
      "cell_type": "code",
      "execution_count": null,
      "id": "143066d5",
      "metadata": {
        "execution": {
          "iopub.execute_input": "2023-02-06T06:33:20.799150Z",
          "iopub.status.busy": "2023-02-06T06:33:20.798126Z",
          "iopub.status.idle": "2023-02-06T06:33:20.806853Z",
          "shell.execute_reply": "2023-02-06T06:33:20.805587Z"
        },
        "papermill": {
          "duration": 0.025617,
          "end_time": "2023-02-06T06:33:20.810360",
          "exception": false,
          "start_time": "2023-02-06T06:33:20.784743",
          "status": "completed"
        },
        "tags": [],
        "id": "143066d5"
      },
      "outputs": [],
      "source": [
        "# rearrange all the columns for easy reference\n",
        "df_small = df_small[['Order_Date', 'Time', 'Aging', 'Customer_Id', 'Gender', 'Device_Type',\n",
        "       'Customer_Login_type', 'Product_Category', 'Product', 'Sales',\n",
        "       'Quantity', 'amount_spent', 'Discount', 'Profit', 'Shipping_Cost', 'Order_Priority',\n",
        "       'Payment_method']]"
      ]
    },
    {
      "cell_type": "code",
      "execution_count": null,
      "id": "d9570c62",
      "metadata": {
        "execution": {
          "iopub.execute_input": "2023-02-06T06:33:20.838039Z",
          "iopub.status.busy": "2023-02-06T06:33:20.837443Z",
          "iopub.status.idle": "2023-02-06T06:33:20.867292Z",
          "shell.execute_reply": "2023-02-06T06:33:20.865808Z"
        },
        "papermill": {
          "duration": 0.047499,
          "end_time": "2023-02-06T06:33:20.870396",
          "exception": false,
          "start_time": "2023-02-06T06:33:20.822897",
          "status": "completed"
        },
        "tags": [],
        "id": "d9570c62",
        "outputId": "f7fee174-e703-4257-ca5a-ae5e9d986bb8"
      },
      "outputs": [
        {
          "data": {
            "text/html": [
              "<div>\n",
              "<style scoped>\n",
              "    .dataframe tbody tr th:only-of-type {\n",
              "        vertical-align: middle;\n",
              "    }\n",
              "\n",
              "    .dataframe tbody tr th {\n",
              "        vertical-align: top;\n",
              "    }\n",
              "\n",
              "    .dataframe thead th {\n",
              "        text-align: right;\n",
              "    }\n",
              "</style>\n",
              "<table border=\"1\" class=\"dataframe\">\n",
              "  <thead>\n",
              "    <tr style=\"text-align: right;\">\n",
              "      <th></th>\n",
              "      <th>Order_Date</th>\n",
              "      <th>Time</th>\n",
              "      <th>Aging</th>\n",
              "      <th>Customer_Id</th>\n",
              "      <th>Gender</th>\n",
              "      <th>Device_Type</th>\n",
              "      <th>Customer_Login_type</th>\n",
              "      <th>Product_Category</th>\n",
              "      <th>Product</th>\n",
              "      <th>Sales</th>\n",
              "      <th>Quantity</th>\n",
              "      <th>amount_spent</th>\n",
              "      <th>Discount</th>\n",
              "      <th>Profit</th>\n",
              "      <th>Shipping_Cost</th>\n",
              "      <th>Order_Priority</th>\n",
              "      <th>Payment_method</th>\n",
              "    </tr>\n",
              "  </thead>\n",
              "  <tbody>\n",
              "    <tr>\n",
              "      <th>28385</th>\n",
              "      <td>2018-04-26</td>\n",
              "      <td>20:28:28</td>\n",
              "      <td>5.0</td>\n",
              "      <td>84578</td>\n",
              "      <td>Female</td>\n",
              "      <td>Web</td>\n",
              "      <td>Member</td>\n",
              "      <td>Home &amp; Furniture</td>\n",
              "      <td>Curtains</td>\n",
              "      <td>34.0</td>\n",
              "      <td>1.0</td>\n",
              "      <td>34.0</td>\n",
              "      <td>0.2</td>\n",
              "      <td>17.0</td>\n",
              "      <td>1.7</td>\n",
              "      <td>Medium</td>\n",
              "      <td>credit_card</td>\n",
              "    </tr>\n",
              "    <tr>\n",
              "      <th>19793</th>\n",
              "      <td>2018-04-04</td>\n",
              "      <td>17:29:15</td>\n",
              "      <td>8.0</td>\n",
              "      <td>25315</td>\n",
              "      <td>Female</td>\n",
              "      <td>Web</td>\n",
              "      <td>Member</td>\n",
              "      <td>Electronic</td>\n",
              "      <td>LED</td>\n",
              "      <td>192.0</td>\n",
              "      <td>1.0</td>\n",
              "      <td>192.0</td>\n",
              "      <td>0.2</td>\n",
              "      <td>92.8</td>\n",
              "      <td>9.3</td>\n",
              "      <td>Medium</td>\n",
              "      <td>credit_card</td>\n",
              "    </tr>\n",
              "    <tr>\n",
              "      <th>39672</th>\n",
              "      <td>2018-11-06</td>\n",
              "      <td>22:57:33</td>\n",
              "      <td>9.0</td>\n",
              "      <td>86708</td>\n",
              "      <td>Female</td>\n",
              "      <td>Web</td>\n",
              "      <td>Member</td>\n",
              "      <td>Fashion</td>\n",
              "      <td>Running Shoes</td>\n",
              "      <td>224.0</td>\n",
              "      <td>2.0</td>\n",
              "      <td>448.0</td>\n",
              "      <td>0.5</td>\n",
              "      <td>121.6</td>\n",
              "      <td>12.2</td>\n",
              "      <td>Medium</td>\n",
              "      <td>credit_card</td>\n",
              "    </tr>\n",
              "    <tr>\n",
              "      <th>31635</th>\n",
              "      <td>2018-11-22</td>\n",
              "      <td>17:22:35</td>\n",
              "      <td>5.0</td>\n",
              "      <td>78735</td>\n",
              "      <td>Female</td>\n",
              "      <td>Web</td>\n",
              "      <td>Member</td>\n",
              "      <td>Home &amp; Furniture</td>\n",
              "      <td>Towels</td>\n",
              "      <td>228.0</td>\n",
              "      <td>1.0</td>\n",
              "      <td>228.0</td>\n",
              "      <td>0.4</td>\n",
              "      <td>138.9</td>\n",
              "      <td>13.9</td>\n",
              "      <td>Medium</td>\n",
              "      <td>credit_card</td>\n",
              "    </tr>\n",
              "    <tr>\n",
              "      <th>24580</th>\n",
              "      <td>2018-07-23</td>\n",
              "      <td>12:58:28</td>\n",
              "      <td>3.0</td>\n",
              "      <td>20022</td>\n",
              "      <td>Male</td>\n",
              "      <td>Mobile</td>\n",
              "      <td>Member</td>\n",
              "      <td>Fashion</td>\n",
              "      <td>Shirts</td>\n",
              "      <td>196.0</td>\n",
              "      <td>2.0</td>\n",
              "      <td>392.0</td>\n",
              "      <td>0.1</td>\n",
              "      <td>112.1</td>\n",
              "      <td>11.2</td>\n",
              "      <td>High</td>\n",
              "      <td>credit_card</td>\n",
              "    </tr>\n",
              "  </tbody>\n",
              "</table>\n",
              "</div>"
            ],
            "text/plain": [
              "       Order_Date      Time  Aging  Customer_Id  Gender Device_Type  \\\n",
              "28385  2018-04-26  20:28:28    5.0        84578  Female         Web   \n",
              "19793  2018-04-04  17:29:15    8.0        25315  Female         Web   \n",
              "39672  2018-11-06  22:57:33    9.0        86708  Female         Web   \n",
              "31635  2018-11-22  17:22:35    5.0        78735  Female         Web   \n",
              "24580  2018-07-23  12:58:28    3.0        20022    Male      Mobile   \n",
              "\n",
              "      Customer_Login_type  Product_Category        Product  Sales  Quantity  \\\n",
              "28385              Member  Home & Furniture       Curtains   34.0       1.0   \n",
              "19793              Member        Electronic            LED  192.0       1.0   \n",
              "39672              Member           Fashion  Running Shoes  224.0       2.0   \n",
              "31635              Member  Home & Furniture         Towels  228.0       1.0   \n",
              "24580              Member           Fashion         Shirts  196.0       2.0   \n",
              "\n",
              "       amount_spent  Discount  Profit  Shipping_Cost Order_Priority  \\\n",
              "28385          34.0       0.2    17.0            1.7         Medium   \n",
              "19793         192.0       0.2    92.8            9.3         Medium   \n",
              "39672         448.0       0.5   121.6           12.2         Medium   \n",
              "31635         228.0       0.4   138.9           13.9         Medium   \n",
              "24580         392.0       0.1   112.1           11.2           High   \n",
              "\n",
              "      Payment_method  \n",
              "28385    credit_card  \n",
              "19793    credit_card  \n",
              "39672    credit_card  \n",
              "31635    credit_card  \n",
              "24580    credit_card  "
            ]
          },
          "execution_count": 21,
          "metadata": {},
          "output_type": "execute_result"
        }
      ],
      "source": [
        "df_small.head(5)"
      ]
    },
    {
      "cell_type": "markdown",
      "id": "58b054e0",
      "metadata": {
        "papermill": {
          "duration": 0.011866,
          "end_time": "2023-02-06T06:33:20.894331",
          "exception": false,
          "start_time": "2023-02-06T06:33:20.882465",
          "status": "completed"
        },
        "tags": [],
        "id": "58b054e0"
      },
      "source": [
        "**How much money spent by the customers?**"
      ]
    },
    {
      "cell_type": "code",
      "execution_count": null,
      "id": "157da7cd",
      "metadata": {
        "execution": {
          "iopub.execute_input": "2023-02-06T06:33:20.920159Z",
          "iopub.status.busy": "2023-02-06T06:33:20.919628Z",
          "iopub.status.idle": "2023-02-06T06:33:21.270646Z",
          "shell.execute_reply": "2023-02-06T06:33:21.269350Z"
        },
        "papermill": {
          "duration": 0.369028,
          "end_time": "2023-02-06T06:33:21.274825",
          "exception": false,
          "start_time": "2023-02-06T06:33:20.905797",
          "status": "completed"
        },
        "tags": [],
        "id": "157da7cd",
        "outputId": "50bb109c-db05-40b2-90d9-7a4466586a2f"
      },
      "outputs": [
        {
          "data": {
            "image/png": "[encoded data removed]",
            "text/plain": [
              "<Figure size 1080x432 with 1 Axes>"
            ]
          },
          "metadata": {
            "needs_background": "light"
          },
          "output_type": "display_data"
        }
      ],
      "source": [
        "money_spent = df_small.groupby(by=['Customer_Id','Gender'], as_index=False)['amount_spent'].sum()\n",
        "\n",
        "plt.subplots(figsize=(15,6))\n",
        "plt.plot(money_spent.Customer_Id, money_spent.amount_spent)\n",
        "plt.xlabel('Customers ID')\n",
        "plt.ylabel('Money spent (Dollar)')\n",
        "plt.title('Money Spent for different Customers')\n",
        "plt.show()"
      ]
    },
    {
      "cell_type": "markdown",
      "id": "63fe6138",
      "metadata": {
        "papermill": {
          "duration": 0.012879,
          "end_time": "2023-02-06T06:33:21.300768",
          "exception": false,
          "start_time": "2023-02-06T06:33:21.287889",
          "status": "completed"
        },
        "tags": [],
        "id": "63fe6138"
      },
      "source": [
        "**Check TOP 5 highest money spent**"
      ]
    },
    {
      "cell_type": "code",
      "execution_count": null,
      "id": "652fb654",
      "metadata": {
        "execution": {
          "iopub.execute_input": "2023-02-06T06:33:21.332354Z",
          "iopub.status.busy": "2023-02-06T06:33:21.331432Z",
          "iopub.status.idle": "2023-02-06T06:33:21.349305Z",
          "shell.execute_reply": "2023-02-06T06:33:21.347984Z"
        },
        "papermill": {
          "duration": 0.038207,
          "end_time": "2023-02-06T06:33:21.352436",
          "exception": false,
          "start_time": "2023-02-06T06:33:21.314229",
          "status": "completed"
        },
        "tags": [],
        "id": "652fb654",
        "outputId": "2a3ff31c-22fc-474a-d1b2-62f5b6713beb"
      },
      "outputs": [
        {
          "name": "stdout",
          "output_type": "stream",
          "text": [
            "The TOP 5 customers with highest money spent\n"
          ]
        },
        {
          "data": {
            "text/html": [
              "<div>\n",
              "<style scoped>\n",
              "    .dataframe tbody tr th:only-of-type {\n",
              "        vertical-align: middle;\n",
              "    }\n",
              "\n",
              "    .dataframe tbody tr th {\n",
              "        vertical-align: top;\n",
              "    }\n",
              "\n",
              "    .dataframe thead th {\n",
              "        text-align: right;\n",
              "    }\n",
              "</style>\n",
              "<table border=\"1\" class=\"dataframe\">\n",
              "  <thead>\n",
              "    <tr style=\"text-align: right;\">\n",
              "      <th></th>\n",
              "      <th>Customer_Id</th>\n",
              "      <th>Gender</th>\n",
              "      <th>amount_spent</th>\n",
              "    </tr>\n",
              "  </thead>\n",
              "  <tbody>\n",
              "    <tr>\n",
              "      <th>535</th>\n",
              "      <td>36555</td>\n",
              "      <td>Male</td>\n",
              "      <td>1408.0</td>\n",
              "    </tr>\n",
              "    <tr>\n",
              "      <th>253</th>\n",
              "      <td>22402</td>\n",
              "      <td>Male</td>\n",
              "      <td>1250.0</td>\n",
              "    </tr>\n",
              "    <tr>\n",
              "      <th>131</th>\n",
              "      <td>16695</td>\n",
              "      <td>Male</td>\n",
              "      <td>1250.0</td>\n",
              "    </tr>\n",
              "    <tr>\n",
              "      <th>903</th>\n",
              "      <td>55451</td>\n",
              "      <td>Female</td>\n",
              "      <td>1250.0</td>\n",
              "    </tr>\n",
              "    <tr>\n",
              "      <th>208</th>\n",
              "      <td>20163</td>\n",
              "      <td>Male</td>\n",
              "      <td>1250.0</td>\n",
              "    </tr>\n",
              "  </tbody>\n",
              "</table>\n",
              "</div>"
            ],
            "text/plain": [
              "     Customer_Id  Gender  amount_spent\n",
              "535        36555    Male        1408.0\n",
              "253        22402    Male        1250.0\n",
              "131        16695    Male        1250.0\n",
              "903        55451  Female        1250.0\n",
              "208        20163    Male        1250.0"
            ]
          },
          "execution_count": 23,
          "metadata": {},
          "output_type": "execute_result"
        }
      ],
      "source": [
        "print('The TOP 5 customers with highest money spent')\n",
        "money_spent.sort_values(by='amount_spent', ascending=False).head()"
      ]
    },
    {
      "cell_type": "code",
      "execution_count": null,
      "id": "c052610d",
      "metadata": {
        "execution": {
          "iopub.execute_input": "2023-02-06T06:33:21.383659Z",
          "iopub.status.busy": "2023-02-06T06:33:21.382781Z",
          "iopub.status.idle": "2023-02-06T06:33:21.393665Z",
          "shell.execute_reply": "2023-02-06T06:33:21.392168Z"
        },
        "papermill": {
          "duration": 0.030901,
          "end_time": "2023-02-06T06:33:21.397324",
          "exception": false,
          "start_time": "2023-02-06T06:33:21.366423",
          "status": "completed"
        },
        "tags": [],
        "id": "c052610d"
      },
      "outputs": [],
      "source": [
        "# convert the Order_Date column from string to datetime\n",
        "df_small['Order_Date'] = pd.to_datetime(df_small['Order_Date'])"
      ]
    },
    {
      "cell_type": "markdown",
      "id": "c66140fc",
      "metadata": {
        "papermill": {
          "duration": 0.013635,
          "end_time": "2023-02-06T06:33:21.425143",
          "exception": false,
          "start_time": "2023-02-06T06:33:21.411508",
          "status": "completed"
        },
        "tags": [],
        "id": "c66140fc"
      },
      "source": [
        "**Add the columns - Month, Day and Hour**"
      ]
    },
    {
      "cell_type": "code",
      "execution_count": null,
      "id": "d1a37a5d",
      "metadata": {
        "execution": {
          "iopub.execute_input": "2023-02-06T06:33:21.455506Z",
          "iopub.status.busy": "2023-02-06T06:33:21.453857Z",
          "iopub.status.idle": "2023-02-06T06:33:21.477528Z",
          "shell.execute_reply": "2023-02-06T06:33:21.476271Z"
        },
        "papermill": {
          "duration": 0.041531,
          "end_time": "2023-02-06T06:33:21.480529",
          "exception": false,
          "start_time": "2023-02-06T06:33:21.438998",
          "status": "completed"
        },
        "tags": [],
        "id": "d1a37a5d"
      },
      "outputs": [],
      "source": [
        "df_small.insert(loc=2, column='year_month', value=df_small['Order_Date'].map(lambda x: 100*x.year + x.month))\n",
        "df_small.insert(loc=3, column='month', value=df_small.Order_Date.dt.month)\n",
        "# +1 to make Monday=1.....until Sunday=7\n",
        "df_small.insert(loc=4, column='day', value=(df_small.Order_Date.dt.dayofweek)+1)\n",
        "df_small.insert(loc=5, column='hour', value=df_small.Order_Date.dt.hour)"
      ]
    },
    {
      "cell_type": "code",
      "execution_count": null,
      "id": "198c50fd",
      "metadata": {
        "execution": {
          "iopub.execute_input": "2023-02-06T06:33:21.511652Z",
          "iopub.status.busy": "2023-02-06T06:33:21.510175Z",
          "iopub.status.idle": "2023-02-06T06:33:21.556205Z",
          "shell.execute_reply": "2023-02-06T06:33:21.554856Z"
        },
        "papermill": {
          "duration": 0.064274,
          "end_time": "2023-02-06T06:33:21.559052",
          "exception": false,
          "start_time": "2023-02-06T06:33:21.494778",
          "status": "completed"
        },
        "tags": [],
        "id": "198c50fd",
        "outputId": "0e859f02-63ae-4faa-c122-0b5fd5a4eb4a"
      },
      "outputs": [
        {
          "data": {
            "text/html": [
              "<div>\n",
              "<style scoped>\n",
              "    .dataframe tbody tr th:only-of-type {\n",
              "        vertical-align: middle;\n",
              "    }\n",
              "\n",
              "    .dataframe tbody tr th {\n",
              "        vertical-align: top;\n",
              "    }\n",
              "\n",
              "    .dataframe thead th {\n",
              "        text-align: right;\n",
              "    }\n",
              "</style>\n",
              "<table border=\"1\" class=\"dataframe\">\n",
              "  <thead>\n",
              "    <tr style=\"text-align: right;\">\n",
              "      <th></th>\n",
              "      <th>Order_Date</th>\n",
              "      <th>Time</th>\n",
              "      <th>year_month</th>\n",
              "      <th>month</th>\n",
              "      <th>day</th>\n",
              "      <th>hour</th>\n",
              "      <th>Aging</th>\n",
              "      <th>Customer_Id</th>\n",
              "      <th>Gender</th>\n",
              "      <th>Device_Type</th>\n",
              "      <th>...</th>\n",
              "      <th>Product_Category</th>\n",
              "      <th>Product</th>\n",
              "      <th>Sales</th>\n",
              "      <th>Quantity</th>\n",
              "      <th>amount_spent</th>\n",
              "      <th>Discount</th>\n",
              "      <th>Profit</th>\n",
              "      <th>Shipping_Cost</th>\n",
              "      <th>Order_Priority</th>\n",
              "      <th>Payment_method</th>\n",
              "    </tr>\n",
              "  </thead>\n",
              "  <tbody>\n",
              "    <tr>\n",
              "      <th>28385</th>\n",
              "      <td>2018-04-26</td>\n",
              "      <td>20:28:28</td>\n",
              "      <td>201804</td>\n",
              "      <td>4</td>\n",
              "      <td>4</td>\n",
              "      <td>0</td>\n",
              "      <td>5.0</td>\n",
              "      <td>84578</td>\n",
              "      <td>Female</td>\n",
              "      <td>Web</td>\n",
              "      <td>...</td>\n",
              "      <td>Home &amp; Furniture</td>\n",
              "      <td>Curtains</td>\n",
              "      <td>34.0</td>\n",
              "      <td>1.0</td>\n",
              "      <td>34.0</td>\n",
              "      <td>0.2</td>\n",
              "      <td>17.0</td>\n",
              "      <td>1.7</td>\n",
              "      <td>Medium</td>\n",
              "      <td>credit_card</td>\n",
              "    </tr>\n",
              "    <tr>\n",
              "      <th>19793</th>\n",
              "      <td>2018-04-04</td>\n",
              "      <td>17:29:15</td>\n",
              "      <td>201804</td>\n",
              "      <td>4</td>\n",
              "      <td>3</td>\n",
              "      <td>0</td>\n",
              "      <td>8.0</td>\n",
              "      <td>25315</td>\n",
              "      <td>Female</td>\n",
              "      <td>Web</td>\n",
              "      <td>...</td>\n",
              "      <td>Electronic</td>\n",
              "      <td>LED</td>\n",
              "      <td>192.0</td>\n",
              "      <td>1.0</td>\n",
              "      <td>192.0</td>\n",
              "      <td>0.2</td>\n",
              "      <td>92.8</td>\n",
              "      <td>9.3</td>\n",
              "      <td>Medium</td>\n",
              "      <td>credit_card</td>\n",
              "    </tr>\n",
              "    <tr>\n",
              "      <th>39672</th>\n",
              "      <td>2018-11-06</td>\n",
              "      <td>22:57:33</td>\n",
              "      <td>201811</td>\n",
              "      <td>11</td>\n",
              "      <td>2</td>\n",
              "      <td>0</td>\n",
              "      <td>9.0</td>\n",
              "      <td>86708</td>\n",
              "      <td>Female</td>\n",
              "      <td>Web</td>\n",
              "      <td>...</td>\n",
              "      <td>Fashion</td>\n",
              "      <td>Running Shoes</td>\n",
              "      <td>224.0</td>\n",
              "      <td>2.0</td>\n",
              "      <td>448.0</td>\n",
              "      <td>0.5</td>\n",
              "      <td>121.6</td>\n",
              "      <td>12.2</td>\n",
              "      <td>Medium</td>\n",
              "      <td>credit_card</td>\n",
              "    </tr>\n",
              "    <tr>\n",
              "      <th>31635</th>\n",
              "      <td>2018-11-22</td>\n",
              "      <td>17:22:35</td>\n",
              "      <td>201811</td>\n",
              "      <td>11</td>\n",
              "      <td>4</td>\n",
              "      <td>0</td>\n",
              "      <td>5.0</td>\n",
              "      <td>78735</td>\n",
              "      <td>Female</td>\n",
              "      <td>Web</td>\n",
              "      <td>...</td>\n",
              "      <td>Home &amp; Furniture</td>\n",
              "      <td>Towels</td>\n",
              "      <td>228.0</td>\n",
              "      <td>1.0</td>\n",
              "      <td>228.0</td>\n",
              "      <td>0.4</td>\n",
              "      <td>138.9</td>\n",
              "      <td>13.9</td>\n",
              "      <td>Medium</td>\n",
              "      <td>credit_card</td>\n",
              "    </tr>\n",
              "    <tr>\n",
              "      <th>24580</th>\n",
              "      <td>2018-07-23</td>\n",
              "      <td>12:58:28</td>\n",
              "      <td>201807</td>\n",
              "      <td>7</td>\n",
              "      <td>1</td>\n",
              "      <td>0</td>\n",
              "      <td>3.0</td>\n",
              "      <td>20022</td>\n",
              "      <td>Male</td>\n",
              "      <td>Mobile</td>\n",
              "      <td>...</td>\n",
              "      <td>Fashion</td>\n",
              "      <td>Shirts</td>\n",
              "      <td>196.0</td>\n",
              "      <td>2.0</td>\n",
              "      <td>392.0</td>\n",
              "      <td>0.1</td>\n",
              "      <td>112.1</td>\n",
              "      <td>11.2</td>\n",
              "      <td>High</td>\n",
              "      <td>credit_card</td>\n",
              "    </tr>\n",
              "    <tr>\n",
              "      <th>...</th>\n",
              "      <td>...</td>\n",
              "      <td>...</td>\n",
              "      <td>...</td>\n",
              "      <td>...</td>\n",
              "      <td>...</td>\n",
              "      <td>...</td>\n",
              "      <td>...</td>\n",
              "      <td>...</td>\n",
              "      <td>...</td>\n",
              "      <td>...</td>\n",
              "      <td>...</td>\n",
              "      <td>...</td>\n",
              "      <td>...</td>\n",
              "      <td>...</td>\n",
              "      <td>...</td>\n",
              "      <td>...</td>\n",
              "      <td>...</td>\n",
              "      <td>...</td>\n",
              "      <td>...</td>\n",
              "      <td>...</td>\n",
              "      <td>...</td>\n",
              "    </tr>\n",
              "    <tr>\n",
              "      <th>14680</th>\n",
              "      <td>2018-12-12</td>\n",
              "      <td>17:42:52</td>\n",
              "      <td>201812</td>\n",
              "      <td>12</td>\n",
              "      <td>3</td>\n",
              "      <td>0</td>\n",
              "      <td>10.0</td>\n",
              "      <td>38180</td>\n",
              "      <td>Male</td>\n",
              "      <td>Web</td>\n",
              "      <td>...</td>\n",
              "      <td>Fashion</td>\n",
              "      <td>Sports Wear</td>\n",
              "      <td>85.0</td>\n",
              "      <td>5.0</td>\n",
              "      <td>425.0</td>\n",
              "      <td>0.4</td>\n",
              "      <td>17.0</td>\n",
              "      <td>1.7</td>\n",
              "      <td>High</td>\n",
              "      <td>credit_card</td>\n",
              "    </tr>\n",
              "    <tr>\n",
              "      <th>14391</th>\n",
              "      <td>2018-04-18</td>\n",
              "      <td>10:10:39</td>\n",
              "      <td>201804</td>\n",
              "      <td>4</td>\n",
              "      <td>3</td>\n",
              "      <td>0</td>\n",
              "      <td>1.0</td>\n",
              "      <td>40150</td>\n",
              "      <td>Male</td>\n",
              "      <td>Web</td>\n",
              "      <td>...</td>\n",
              "      <td>Fashion</td>\n",
              "      <td>Shirts</td>\n",
              "      <td>196.0</td>\n",
              "      <td>1.0</td>\n",
              "      <td>196.0</td>\n",
              "      <td>0.4</td>\n",
              "      <td>104.2</td>\n",
              "      <td>10.4</td>\n",
              "      <td>Medium</td>\n",
              "      <td>credit_card</td>\n",
              "    </tr>\n",
              "    <tr>\n",
              "      <th>11198</th>\n",
              "      <td>2018-04-06</td>\n",
              "      <td>16:54:08</td>\n",
              "      <td>201804</td>\n",
              "      <td>4</td>\n",
              "      <td>5</td>\n",
              "      <td>0</td>\n",
              "      <td>9.0</td>\n",
              "      <td>56042</td>\n",
              "      <td>Female</td>\n",
              "      <td>Web</td>\n",
              "      <td>...</td>\n",
              "      <td>Fashion</td>\n",
              "      <td>Titak watch</td>\n",
              "      <td>228.0</td>\n",
              "      <td>1.0</td>\n",
              "      <td>228.0</td>\n",
              "      <td>0.3</td>\n",
              "      <td>141.2</td>\n",
              "      <td>14.1</td>\n",
              "      <td>High</td>\n",
              "      <td>credit_card</td>\n",
              "    </tr>\n",
              "    <tr>\n",
              "      <th>12862</th>\n",
              "      <td>2018-07-12</td>\n",
              "      <td>01:27:52</td>\n",
              "      <td>201807</td>\n",
              "      <td>7</td>\n",
              "      <td>4</td>\n",
              "      <td>0</td>\n",
              "      <td>4.0</td>\n",
              "      <td>42140</td>\n",
              "      <td>Female</td>\n",
              "      <td>Web</td>\n",
              "      <td>...</td>\n",
              "      <td>Fashion</td>\n",
              "      <td>Shirts</td>\n",
              "      <td>196.0</td>\n",
              "      <td>1.0</td>\n",
              "      <td>196.0</td>\n",
              "      <td>0.3</td>\n",
              "      <td>98.4</td>\n",
              "      <td>9.8</td>\n",
              "      <td>Medium</td>\n",
              "      <td>credit_card</td>\n",
              "    </tr>\n",
              "    <tr>\n",
              "      <th>42564</th>\n",
              "      <td>2018-10-30</td>\n",
              "      <td>14:40:41</td>\n",
              "      <td>201810</td>\n",
              "      <td>10</td>\n",
              "      <td>2</td>\n",
              "      <td>0</td>\n",
              "      <td>9.0</td>\n",
              "      <td>81970</td>\n",
              "      <td>Female</td>\n",
              "      <td>Web</td>\n",
              "      <td>...</td>\n",
              "      <td>Fashion</td>\n",
              "      <td>Casula Shoes</td>\n",
              "      <td>122.0</td>\n",
              "      <td>2.0</td>\n",
              "      <td>244.0</td>\n",
              "      <td>0.2</td>\n",
              "      <td>37.1</td>\n",
              "      <td>3.7</td>\n",
              "      <td>Medium</td>\n",
              "      <td>money_order</td>\n",
              "    </tr>\n",
              "  </tbody>\n",
              "</table>\n",
              "<p>2051 rows × 21 columns</p>\n",
              "</div>"
            ],
            "text/plain": [
              "      Order_Date      Time  year_month  month  day  hour  Aging  Customer_Id  \\\n",
              "28385 2018-04-26  20:28:28      201804      4    4     0    5.0        84578   \n",
              "19793 2018-04-04  17:29:15      201804      4    3     0    8.0        25315   \n",
              "39672 2018-11-06  22:57:33      201811     11    2     0    9.0        86708   \n",
              "31635 2018-11-22  17:22:35      201811     11    4     0    5.0        78735   \n",
              "24580 2018-07-23  12:58:28      201807      7    1     0    3.0        20022   \n",
              "...          ...       ...         ...    ...  ...   ...    ...          ...   \n",
              "14680 2018-12-12  17:42:52      201812     12    3     0   10.0        38180   \n",
              "14391 2018-04-18  10:10:39      201804      4    3     0    1.0        40150   \n",
              "11198 2018-04-06  16:54:08      201804      4    5     0    9.0        56042   \n",
              "12862 2018-07-12  01:27:52      201807      7    4     0    4.0        42140   \n",
              "42564 2018-10-30  14:40:41      201810     10    2     0    9.0        81970   \n",
              "\n",
              "       Gender Device_Type  ...  Product_Category        Product  Sales  \\\n",
              "28385  Female         Web  ...  Home & Furniture       Curtains   34.0   \n",
              "19793  Female         Web  ...        Electronic            LED  192.0   \n",
              "39672  Female         Web  ...           Fashion  Running Shoes  224.0   \n",
              "31635  Female         Web  ...  Home & Furniture         Towels  228.0   \n",
              "24580    Male      Mobile  ...           Fashion         Shirts  196.0   \n",
              "...       ...         ...  ...               ...            ...    ...   \n",
              "14680    Male         Web  ...           Fashion    Sports Wear   85.0   \n",
              "14391    Male         Web  ...           Fashion         Shirts  196.0   \n",
              "11198  Female         Web  ...           Fashion    Titak watch  228.0   \n",
              "12862  Female         Web  ...           Fashion         Shirts  196.0   \n",
              "42564  Female         Web  ...           Fashion   Casula Shoes  122.0   \n",
              "\n",
              "       Quantity  amount_spent  Discount  Profit  Shipping_Cost  \\\n",
              "28385       1.0          34.0       0.2    17.0            1.7   \n",
              "19793       1.0         192.0       0.2    92.8            9.3   \n",
              "39672       2.0         448.0       0.5   121.6           12.2   \n",
              "31635       1.0         228.0       0.4   138.9           13.9   \n",
              "24580       2.0         392.0       0.1   112.1           11.2   \n",
              "...         ...           ...       ...     ...            ...   \n",
              "14680       5.0         425.0       0.4    17.0            1.7   \n",
              "14391       1.0         196.0       0.4   104.2           10.4   \n",
              "11198       1.0         228.0       0.3   141.2           14.1   \n",
              "12862       1.0         196.0       0.3    98.4            9.8   \n",
              "42564       2.0         244.0       0.2    37.1            3.7   \n",
              "\n",
              "       Order_Priority Payment_method  \n",
              "28385          Medium    credit_card  \n",
              "19793          Medium    credit_card  \n",
              "39672          Medium    credit_card  \n",
              "31635          Medium    credit_card  \n",
              "24580            High    credit_card  \n",
              "...               ...            ...  \n",
              "14680            High    credit_card  \n",
              "14391          Medium    credit_card  \n",
              "11198            High    credit_card  \n",
              "12862          Medium    credit_card  \n",
              "42564          Medium    money_order  \n",
              "\n",
              "[2051 rows x 21 columns]"
            ]
          },
          "execution_count": 26,
          "metadata": {},
          "output_type": "execute_result"
        }
      ],
      "source": [
        "df_small"
      ]
    },
    {
      "cell_type": "code",
      "execution_count": null,
      "id": "d7c7513c",
      "metadata": {
        "execution": {
          "iopub.execute_input": "2023-02-06T06:33:21.591156Z",
          "iopub.status.busy": "2023-02-06T06:33:21.589635Z",
          "iopub.status.idle": "2023-02-06T06:33:21.836772Z",
          "shell.execute_reply": "2023-02-06T06:33:21.835044Z"
        },
        "papermill": {
          "duration": 0.266236,
          "end_time": "2023-02-06T06:33:21.840251",
          "exception": false,
          "start_time": "2023-02-06T06:33:21.574015",
          "status": "completed"
        },
        "tags": [],
        "id": "d7c7513c",
        "outputId": "448c5e33-f031-42f8-a059-bb6be7a99b9e"
      },
      "outputs": [
        {
          "data": {
            "text/plain": [
              "Text(0, 0.5, 'Number of Order Priority')"
            ]
          },
          "execution_count": 27,
          "metadata": {},
          "output_type": "execute_result"
        },
        {
          "data": {
            "image/png": "[encoded data removed]",
            "text/plain": [
              "<Figure size 432x288 with 1 Axes>"
            ]
          },
          "metadata": {
            "needs_background": "light"
          },
          "output_type": "display_data"
        }
      ],
      "source": [
        "# Plot a bar graph of the order priority for each product category\n",
        "df_small.groupby('Product_Category').count()['Order_Priority'].plot(kind='bar')\n",
        "\n",
        "# Add a title and axis labels to the graph\n",
        "plt.title(\"Order Priority by Product Category\")\n",
        "plt.xlabel(\"Product Category\")\n",
        "plt.ylabel(\"Number of Order Priority\")"
      ]
    },
    {
      "cell_type": "code",
      "execution_count": null,
      "id": "8c9dfd48",
      "metadata": {
        "execution": {
          "iopub.execute_input": "2023-02-06T06:33:21.873351Z",
          "iopub.status.busy": "2023-02-06T06:33:21.872767Z",
          "iopub.status.idle": "2023-02-06T06:33:22.095651Z",
          "shell.execute_reply": "2023-02-06T06:33:22.094157Z"
        },
        "papermill": {
          "duration": 0.244087,
          "end_time": "2023-02-06T06:33:22.099320",
          "exception": false,
          "start_time": "2023-02-06T06:33:21.855233",
          "status": "completed"
        },
        "tags": [],
        "id": "8c9dfd48",
        "outputId": "227ed8f3-bb69-47d7-8959-6a342b34cd2a"
      },
      "outputs": [
        {
          "data": {
            "image/png": "[encoded data removed]",
            "text/plain": [
              "<Figure size 432x288 with 1 Axes>"
            ]
          },
          "metadata": {
            "needs_background": "light"
          },
          "output_type": "display_data"
        }
      ],
      "source": [
        "# Plot a histogram of the age of customers\n",
        "df_small['Aging'].plot(kind='hist')\n",
        "\n",
        "# Add a title and axis labels to the graph\n",
        "plt.title(\"Age Distribution of Customers\")\n",
        "plt.xlabel(\"Age\")\n",
        "plt.ylabel(\"Number of Customers\")\n",
        "\n",
        "# Show the plot\n",
        "plt.show()"
      ]
    },
    {
      "cell_type": "code",
      "execution_count": null,
      "id": "efc076aa",
      "metadata": {
        "execution": {
          "iopub.execute_input": "2023-02-06T06:33:22.130853Z",
          "iopub.status.busy": "2023-02-06T06:33:22.130338Z",
          "iopub.status.idle": "2023-02-06T06:33:22.345895Z",
          "shell.execute_reply": "2023-02-06T06:33:22.344495Z"
        },
        "papermill": {
          "duration": 0.234724,
          "end_time": "2023-02-06T06:33:22.348620",
          "exception": false,
          "start_time": "2023-02-06T06:33:22.113896",
          "status": "completed"
        },
        "tags": [],
        "id": "efc076aa",
        "outputId": "16525dac-b7f2-49d9-9e83-a58a732930df"
      },
      "outputs": [
        {
          "data": {
            "image/png": "[encoded data removed]",
            "text/plain": [
              "<Figure size 432x288 with 1 Axes>"
            ]
          },
          "metadata": {
            "needs_background": "light"
          },
          "output_type": "display_data"
        }
      ],
      "source": [
        "# Plot a scatter plot of  vs. age\n",
        "df_small.plot(kind='scatter', x='Product_Category', y='Sales')\n",
        "\n",
        "# Add a title and axis labels to the graph\n",
        "plt.title(\"Sales vs. Product Category\")\n",
        "plt.xlabel(\"Product Category\")\n",
        "plt.ylabel(\"Sales\")\n",
        "\n",
        "# Show the plot\n",
        "plt.show()"
      ]
    },
    {
      "cell_type": "code",
      "execution_count": null,
      "id": "f12060a2",
      "metadata": {
        "execution": {
          "iopub.execute_input": "2023-02-06T06:33:22.381543Z",
          "iopub.status.busy": "2023-02-06T06:33:22.380280Z",
          "iopub.status.idle": "2023-02-06T06:33:22.957903Z",
          "shell.execute_reply": "2023-02-06T06:33:22.956416Z"
        },
        "papermill": {
          "duration": 0.597177,
          "end_time": "2023-02-06T06:33:22.960852",
          "exception": false,
          "start_time": "2023-02-06T06:33:22.363675",
          "status": "completed"
        },
        "tags": [],
        "id": "f12060a2",
        "outputId": "fb45f7ea-c325-42d7-ef78-d82eda938ee3"
      },
      "outputs": [
        {
          "data": {
            "image/png": "[encoded data removed]",
            "text/plain": [
              "<Figure size 432x432 with 3 Axes>"
            ]
          },
          "metadata": {
            "needs_background": "light"
          },
          "output_type": "display_data"
        }
      ],
      "source": [
        "# Plot a scatter plot of sales vs. age\n",
        "sns.jointplot(x='Aging', y='Sales', data=df_small)\n",
        "\n",
        "# Show the plot\n",
        "plt.show()"
      ]
    },
    {
      "cell_type": "code",
      "execution_count": null,
      "id": "f00afcfc",
      "metadata": {
        "execution": {
          "iopub.execute_input": "2023-02-06T06:33:22.996296Z",
          "iopub.status.busy": "2023-02-06T06:33:22.995332Z",
          "iopub.status.idle": "2023-02-06T06:33:23.213912Z",
          "shell.execute_reply": "2023-02-06T06:33:23.210721Z"
        },
        "papermill": {
          "duration": 0.24089,
          "end_time": "2023-02-06T06:33:23.217461",
          "exception": false,
          "start_time": "2023-02-06T06:33:22.976571",
          "status": "completed"
        },
        "tags": [],
        "id": "f00afcfc",
        "outputId": "a5a1f3f8-733d-47f9-98fb-b15ecff4032c"
      },
      "outputs": [
        {
          "data": {
            "image/png": "[encoded data removed]",
            "text/plain": [
              "<Figure size 432x288 with 1 Axes>"
            ]
          },
          "metadata": {
            "needs_background": "light"
          },
          "output_type": "display_data"
        }
      ],
      "source": [
        "# Plot a line graph of the average sales of products over time\n",
        "df_small.groupby(['month']).mean()['Sales'].plot(kind='line')\n",
        "\n",
        "# Add a title and axis labels to the graph\n",
        "plt.title(\"Average Product Sales over Month\")\n",
        "plt.xlabel(\"Month\")\n",
        "plt.ylabel(\"Average Sales\")\n",
        "\n",
        "# Show the plot\n",
        "plt.show()"
      ]
    },
    {
      "cell_type": "code",
      "execution_count": null,
      "id": "126a52d3",
      "metadata": {
        "execution": {
          "iopub.execute_input": "2023-02-06T06:33:23.253166Z",
          "iopub.status.busy": "2023-02-06T06:33:23.251945Z",
          "iopub.status.idle": "2023-02-06T06:33:23.544051Z",
          "shell.execute_reply": "2023-02-06T06:33:23.542575Z"
        },
        "papermill": {
          "duration": 0.314411,
          "end_time": "2023-02-06T06:33:23.547684",
          "exception": false,
          "start_time": "2023-02-06T06:33:23.233273",
          "status": "completed"
        },
        "tags": [],
        "id": "126a52d3",
        "outputId": "1f103da4-f618-4d60-9a22-e4a6f1a93ec3"
      },
      "outputs": [
        {
          "data": {
            "image/png": "[encoded data removed]",
            "text/plain": [
              "<Figure size 432x288 with 1 Axes>"
            ]
          },
          "metadata": {
            "needs_background": "light"
          },
          "output_type": "display_data"
        }
      ],
      "source": [
        "#Plot a line graph of the number of customers bought product category over time\n",
        "df_small.groupby(['month', 'Product_Category']).count()['Customer_Id'].unstack().plot(kind='line')\n",
        "\n",
        "# Add a title and axis labels to the graph\n",
        "plt.title(\"Number of Customers bought Product Category over Time\")\n",
        "plt.xlabel(\"Month\")\n",
        "plt.ylabel(\"Number of Customers\")\n",
        "\n",
        "# Show the plot\n",
        "plt.show()"
      ]
    }
  ],
  "metadata": {
    "kernelspec": {
      "display_name": "Python 3",
      "language": "python",
      "name": "python3"
    },
    "language_info": {
      "codemirror_mode": {
        "name": "ipython",
        "version": 3
      },
      "file_extension": ".py",
      "mimetype": "text/x-python",
      "name": "python",
      "nbconvert_exporter": "python",
      "pygments_lexer": "ipython3",
      "version": "3.7.12"
    },
    "papermill": {
      "default_parameters": {},
      "duration": 16.919506,
      "end_time": "2023-02-06T06:33:24.691680",
      "environment_variables": {},
      "exception": null,
      "input_path": "__notebook__.ipynb",
      "output_path": "__notebook__.ipynb",
      "parameters": {},
      "start_time": "2023-02-06T06:33:07.772174",
      "version": "2.3.4"
    },
    "colab": {
      "provenance": []
    }
  },
  "nbformat": 4,
  "nbformat_minor": 5
}